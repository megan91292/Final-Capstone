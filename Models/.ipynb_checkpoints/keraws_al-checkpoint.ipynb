{
 "cells": [
  {
   "cell_type": "code",
   "execution_count": 1,
   "metadata": {},
   "outputs": [
    {
     "name": "stderr",
     "output_type": "stream",
     "text": [
      "Using TensorFlow backend.\n"
     ]
    }
   ],
   "source": [
    "%matplotlib inline\n",
    "\n",
    "import warnings\n",
    "warnings.filterwarnings('ignore')\n",
    "\n",
    "import os\n",
    "\n",
    "import IPython.display as ipd\n",
    "\n",
    "import numpy as np\n",
    "import pandas as pd\n",
    "import seaborn as sns\n",
    "import matplotlib.pyplot as plt\n",
    "\n",
    "from sklearn.metrics import roc_curve, auc\n",
    "from sklearn.preprocessing import StandardScaler,LabelEncoder\n",
    "from sklearn.model_selection import train_test_split, GridSearchCV\n",
    "from sklearn.ensemble import RandomForestClassifier\n",
    "from sklearn.pipeline import Pipeline\n",
    "\n",
    "from sklearn.metrics import confusion_matrix,accuracy_score,precision_score,recall_score,precision_recall_curve\n",
    "from sklearn.metrics import precision_recall_fscore_support,f1_score,fbeta_score\n",
    "from sklearn.metrics import make_scorer\n",
    "from sklearn.metrics import classification_report\n",
    "from sklearn.svm import SVC, NuSVC, LinearSVC\n",
    "from sklearn.utils import shuffle\n",
    "\n",
    "import librosa\n",
    "import librosa.display\n",
    "import ast\n",
    "\n",
    "import keras\n",
    "plt.rcParams['figure.figsize'] = (17, 5)\n",
    "\n"
   ]
  },
  {
   "cell_type": "code",
   "execution_count": 2,
   "metadata": {},
   "outputs": [
    {
     "ename": "FileNotFoundError",
     "evalue": "[Errno 2] File data.csv does not exist: 'data.csv'",
     "output_type": "error",
     "traceback": [
      "\u001b[0;31m---------------------------------------------------------------------------\u001b[0m",
      "\u001b[0;31mFileNotFoundError\u001b[0m                         Traceback (most recent call last)",
      "\u001b[0;32m<ipython-input-2-6456521db808>\u001b[0m in \u001b[0;36m<module>\u001b[0;34m\u001b[0m\n\u001b[0;32m----> 1\u001b[0;31m \u001b[0mdf\u001b[0m \u001b[0;34m=\u001b[0m \u001b[0mpd\u001b[0m\u001b[0;34m.\u001b[0m\u001b[0mread_csv\u001b[0m\u001b[0;34m(\u001b[0m\u001b[0;34m'data.csv'\u001b[0m\u001b[0;34m)\u001b[0m\u001b[0;34m\u001b[0m\u001b[0;34m\u001b[0m\u001b[0m\n\u001b[0m",
      "\u001b[0;32m/opt/anaconda3/envs/learn-env/lib/python3.6/site-packages/pandas/io/parsers.py\u001b[0m in \u001b[0;36mparser_f\u001b[0;34m(filepath_or_buffer, sep, delimiter, header, names, index_col, usecols, squeeze, prefix, mangle_dupe_cols, dtype, engine, converters, true_values, false_values, skipinitialspace, skiprows, skipfooter, nrows, na_values, keep_default_na, na_filter, verbose, skip_blank_lines, parse_dates, infer_datetime_format, keep_date_col, date_parser, dayfirst, cache_dates, iterator, chunksize, compression, thousands, decimal, lineterminator, quotechar, quoting, doublequote, escapechar, comment, encoding, dialect, error_bad_lines, warn_bad_lines, delim_whitespace, low_memory, memory_map, float_precision)\u001b[0m\n\u001b[1;32m    674\u001b[0m         )\n\u001b[1;32m    675\u001b[0m \u001b[0;34m\u001b[0m\u001b[0m\n\u001b[0;32m--> 676\u001b[0;31m         \u001b[0;32mreturn\u001b[0m \u001b[0m_read\u001b[0m\u001b[0;34m(\u001b[0m\u001b[0mfilepath_or_buffer\u001b[0m\u001b[0;34m,\u001b[0m \u001b[0mkwds\u001b[0m\u001b[0;34m)\u001b[0m\u001b[0;34m\u001b[0m\u001b[0;34m\u001b[0m\u001b[0m\n\u001b[0m\u001b[1;32m    677\u001b[0m \u001b[0;34m\u001b[0m\u001b[0m\n\u001b[1;32m    678\u001b[0m     \u001b[0mparser_f\u001b[0m\u001b[0;34m.\u001b[0m\u001b[0m__name__\u001b[0m \u001b[0;34m=\u001b[0m \u001b[0mname\u001b[0m\u001b[0;34m\u001b[0m\u001b[0;34m\u001b[0m\u001b[0m\n",
      "\u001b[0;32m/opt/anaconda3/envs/learn-env/lib/python3.6/site-packages/pandas/io/parsers.py\u001b[0m in \u001b[0;36m_read\u001b[0;34m(filepath_or_buffer, kwds)\u001b[0m\n\u001b[1;32m    446\u001b[0m \u001b[0;34m\u001b[0m\u001b[0m\n\u001b[1;32m    447\u001b[0m     \u001b[0;31m# Create the parser.\u001b[0m\u001b[0;34m\u001b[0m\u001b[0;34m\u001b[0m\u001b[0;34m\u001b[0m\u001b[0m\n\u001b[0;32m--> 448\u001b[0;31m     \u001b[0mparser\u001b[0m \u001b[0;34m=\u001b[0m \u001b[0mTextFileReader\u001b[0m\u001b[0;34m(\u001b[0m\u001b[0mfp_or_buf\u001b[0m\u001b[0;34m,\u001b[0m \u001b[0;34m**\u001b[0m\u001b[0mkwds\u001b[0m\u001b[0;34m)\u001b[0m\u001b[0;34m\u001b[0m\u001b[0;34m\u001b[0m\u001b[0m\n\u001b[0m\u001b[1;32m    449\u001b[0m \u001b[0;34m\u001b[0m\u001b[0m\n\u001b[1;32m    450\u001b[0m     \u001b[0;32mif\u001b[0m \u001b[0mchunksize\u001b[0m \u001b[0;32mor\u001b[0m \u001b[0miterator\u001b[0m\u001b[0;34m:\u001b[0m\u001b[0;34m\u001b[0m\u001b[0;34m\u001b[0m\u001b[0m\n",
      "\u001b[0;32m/opt/anaconda3/envs/learn-env/lib/python3.6/site-packages/pandas/io/parsers.py\u001b[0m in \u001b[0;36m__init__\u001b[0;34m(self, f, engine, **kwds)\u001b[0m\n\u001b[1;32m    878\u001b[0m             \u001b[0mself\u001b[0m\u001b[0;34m.\u001b[0m\u001b[0moptions\u001b[0m\u001b[0;34m[\u001b[0m\u001b[0;34m\"has_index_names\"\u001b[0m\u001b[0;34m]\u001b[0m \u001b[0;34m=\u001b[0m \u001b[0mkwds\u001b[0m\u001b[0;34m[\u001b[0m\u001b[0;34m\"has_index_names\"\u001b[0m\u001b[0;34m]\u001b[0m\u001b[0;34m\u001b[0m\u001b[0;34m\u001b[0m\u001b[0m\n\u001b[1;32m    879\u001b[0m \u001b[0;34m\u001b[0m\u001b[0m\n\u001b[0;32m--> 880\u001b[0;31m         \u001b[0mself\u001b[0m\u001b[0;34m.\u001b[0m\u001b[0m_make_engine\u001b[0m\u001b[0;34m(\u001b[0m\u001b[0mself\u001b[0m\u001b[0;34m.\u001b[0m\u001b[0mengine\u001b[0m\u001b[0;34m)\u001b[0m\u001b[0;34m\u001b[0m\u001b[0;34m\u001b[0m\u001b[0m\n\u001b[0m\u001b[1;32m    881\u001b[0m \u001b[0;34m\u001b[0m\u001b[0m\n\u001b[1;32m    882\u001b[0m     \u001b[0;32mdef\u001b[0m \u001b[0mclose\u001b[0m\u001b[0;34m(\u001b[0m\u001b[0mself\u001b[0m\u001b[0;34m)\u001b[0m\u001b[0;34m:\u001b[0m\u001b[0;34m\u001b[0m\u001b[0;34m\u001b[0m\u001b[0m\n",
      "\u001b[0;32m/opt/anaconda3/envs/learn-env/lib/python3.6/site-packages/pandas/io/parsers.py\u001b[0m in \u001b[0;36m_make_engine\u001b[0;34m(self, engine)\u001b[0m\n\u001b[1;32m   1112\u001b[0m     \u001b[0;32mdef\u001b[0m \u001b[0m_make_engine\u001b[0m\u001b[0;34m(\u001b[0m\u001b[0mself\u001b[0m\u001b[0;34m,\u001b[0m \u001b[0mengine\u001b[0m\u001b[0;34m=\u001b[0m\u001b[0;34m\"c\"\u001b[0m\u001b[0;34m)\u001b[0m\u001b[0;34m:\u001b[0m\u001b[0;34m\u001b[0m\u001b[0;34m\u001b[0m\u001b[0m\n\u001b[1;32m   1113\u001b[0m         \u001b[0;32mif\u001b[0m \u001b[0mengine\u001b[0m \u001b[0;34m==\u001b[0m \u001b[0;34m\"c\"\u001b[0m\u001b[0;34m:\u001b[0m\u001b[0;34m\u001b[0m\u001b[0;34m\u001b[0m\u001b[0m\n\u001b[0;32m-> 1114\u001b[0;31m             \u001b[0mself\u001b[0m\u001b[0;34m.\u001b[0m\u001b[0m_engine\u001b[0m \u001b[0;34m=\u001b[0m \u001b[0mCParserWrapper\u001b[0m\u001b[0;34m(\u001b[0m\u001b[0mself\u001b[0m\u001b[0;34m.\u001b[0m\u001b[0mf\u001b[0m\u001b[0;34m,\u001b[0m \u001b[0;34m**\u001b[0m\u001b[0mself\u001b[0m\u001b[0;34m.\u001b[0m\u001b[0moptions\u001b[0m\u001b[0;34m)\u001b[0m\u001b[0;34m\u001b[0m\u001b[0;34m\u001b[0m\u001b[0m\n\u001b[0m\u001b[1;32m   1115\u001b[0m         \u001b[0;32melse\u001b[0m\u001b[0;34m:\u001b[0m\u001b[0;34m\u001b[0m\u001b[0;34m\u001b[0m\u001b[0m\n\u001b[1;32m   1116\u001b[0m             \u001b[0;32mif\u001b[0m \u001b[0mengine\u001b[0m \u001b[0;34m==\u001b[0m \u001b[0;34m\"python\"\u001b[0m\u001b[0;34m:\u001b[0m\u001b[0;34m\u001b[0m\u001b[0;34m\u001b[0m\u001b[0m\n",
      "\u001b[0;32m/opt/anaconda3/envs/learn-env/lib/python3.6/site-packages/pandas/io/parsers.py\u001b[0m in \u001b[0;36m__init__\u001b[0;34m(self, src, **kwds)\u001b[0m\n\u001b[1;32m   1889\u001b[0m         \u001b[0mkwds\u001b[0m\u001b[0;34m[\u001b[0m\u001b[0;34m\"usecols\"\u001b[0m\u001b[0;34m]\u001b[0m \u001b[0;34m=\u001b[0m \u001b[0mself\u001b[0m\u001b[0;34m.\u001b[0m\u001b[0musecols\u001b[0m\u001b[0;34m\u001b[0m\u001b[0;34m\u001b[0m\u001b[0m\n\u001b[1;32m   1890\u001b[0m \u001b[0;34m\u001b[0m\u001b[0m\n\u001b[0;32m-> 1891\u001b[0;31m         \u001b[0mself\u001b[0m\u001b[0;34m.\u001b[0m\u001b[0m_reader\u001b[0m \u001b[0;34m=\u001b[0m \u001b[0mparsers\u001b[0m\u001b[0;34m.\u001b[0m\u001b[0mTextReader\u001b[0m\u001b[0;34m(\u001b[0m\u001b[0msrc\u001b[0m\u001b[0;34m,\u001b[0m \u001b[0;34m**\u001b[0m\u001b[0mkwds\u001b[0m\u001b[0;34m)\u001b[0m\u001b[0;34m\u001b[0m\u001b[0;34m\u001b[0m\u001b[0m\n\u001b[0m\u001b[1;32m   1892\u001b[0m         \u001b[0mself\u001b[0m\u001b[0;34m.\u001b[0m\u001b[0munnamed_cols\u001b[0m \u001b[0;34m=\u001b[0m \u001b[0mself\u001b[0m\u001b[0;34m.\u001b[0m\u001b[0m_reader\u001b[0m\u001b[0;34m.\u001b[0m\u001b[0munnamed_cols\u001b[0m\u001b[0;34m\u001b[0m\u001b[0;34m\u001b[0m\u001b[0m\n\u001b[1;32m   1893\u001b[0m \u001b[0;34m\u001b[0m\u001b[0m\n",
      "\u001b[0;32mpandas/_libs/parsers.pyx\u001b[0m in \u001b[0;36mpandas._libs.parsers.TextReader.__cinit__\u001b[0;34m()\u001b[0m\n",
      "\u001b[0;32mpandas/_libs/parsers.pyx\u001b[0m in \u001b[0;36mpandas._libs.parsers.TextReader._setup_parser_source\u001b[0;34m()\u001b[0m\n",
      "\u001b[0;31mFileNotFoundError\u001b[0m: [Errno 2] File data.csv does not exist: 'data.csv'"
     ]
    }
   ],
   "source": [
    "df = pd.read_csv('data.csv')"
   ]
  },
  {
   "cell_type": "code",
   "execution_count": null,
   "metadata": {},
   "outputs": [],
   "source": [
    "df.head()"
   ]
  },
  {
   "cell_type": "code",
   "execution_count": null,
   "metadata": {},
   "outputs": [],
   "source": [
    "df.shape"
   ]
  },
  {
   "cell_type": "code",
   "execution_count": null,
   "metadata": {},
   "outputs": [],
   "source": [
    "genres = pd.read_csv('data/fma_metadata/genrelist.csv')"
   ]
  },
  {
   "cell_type": "code",
   "execution_count": null,
   "metadata": {},
   "outputs": [],
   "source": [
    "genres"
   ]
  },
  {
   "cell_type": "code",
   "execution_count": null,
   "metadata": {},
   "outputs": [],
   "source": [
    "genres.rename({'Unnamed: 0':'track_id'},axis=1,inplace=True)"
   ]
  },
  {
   "cell_type": "code",
   "execution_count": null,
   "metadata": {},
   "outputs": [],
   "source": [
    "genres = genres.drop(index=[0,1])"
   ]
  },
  {
   "cell_type": "code",
   "execution_count": null,
   "metadata": {},
   "outputs": [],
   "source": [
    "genres.head()"
   ]
  },
  {
   "cell_type": "code",
   "execution_count": null,
   "metadata": {},
   "outputs": [],
   "source": [
    "genres['track_id'] = genres['track_id'].astype('int64')"
   ]
  },
  {
   "cell_type": "code",
   "execution_count": null,
   "metadata": {},
   "outputs": [],
   "source": [
    "df.rename({'filename':'track_id'},axis=1,inplace=True)"
   ]
  },
  {
   "cell_type": "code",
   "execution_count": null,
   "metadata": {},
   "outputs": [],
   "source": [
    "df['track_id']"
   ]
  },
  {
   "cell_type": "code",
   "execution_count": null,
   "metadata": {},
   "outputs": [],
   "source": [
    "data=pd.merge(df,genres,on='track_id')"
   ]
  },
  {
   "cell_type": "code",
   "execution_count": 223,
   "metadata": {},
   "outputs": [
    {
     "data": {
      "text/plain": [
       "0        Instrumental\n",
       "1        Experimental\n",
       "2                Folk\n",
       "3             Hip-Hop\n",
       "4             Hip-Hop\n",
       "            ...      \n",
       "7992    International\n",
       "7993     Experimental\n",
       "7994              Pop\n",
       "7995     Experimental\n",
       "7996     Instrumental\n",
       "Name: genre, Length: 7997, dtype: object"
      ]
     },
     "execution_count": 223,
     "metadata": {},
     "output_type": "execute_result"
    }
   ],
   "source": [
    "data['genre']"
   ]
  },
  {
   "cell_type": "code",
   "execution_count": 224,
   "metadata": {},
   "outputs": [],
   "source": [
    "data.set_index('track_id',inplace=True)"
   ]
  },
  {
   "cell_type": "code",
   "execution_count": 225,
   "metadata": {},
   "outputs": [
    {
     "data": {
      "text/html": [
       "<div>\n",
       "<style scoped>\n",
       "    .dataframe tbody tr th:only-of-type {\n",
       "        vertical-align: middle;\n",
       "    }\n",
       "\n",
       "    .dataframe tbody tr th {\n",
       "        vertical-align: top;\n",
       "    }\n",
       "\n",
       "    .dataframe thead th {\n",
       "        text-align: right;\n",
       "    }\n",
       "</style>\n",
       "<table border=\"1\" class=\"dataframe\">\n",
       "  <thead>\n",
       "    <tr style=\"text-align: right;\">\n",
       "      <th></th>\n",
       "      <th>chroma_cqt</th>\n",
       "      <th>chroma_cens</th>\n",
       "      <th>chroma_stft</th>\n",
       "      <th>spectral_centroid</th>\n",
       "      <th>spectral_bandwidth</th>\n",
       "      <th>spectral_contrast</th>\n",
       "      <th>rolloff</th>\n",
       "      <th>zero_crossing_rate</th>\n",
       "      <th>tonnetz</th>\n",
       "      <th>mfcc1</th>\n",
       "      <th>...</th>\n",
       "      <th>mfcc13</th>\n",
       "      <th>mfcc14</th>\n",
       "      <th>mfcc15</th>\n",
       "      <th>mfcc16</th>\n",
       "      <th>mfcc17</th>\n",
       "      <th>mfcc18</th>\n",
       "      <th>mfcc19</th>\n",
       "      <th>mfcc20</th>\n",
       "      <th>genre</th>\n",
       "      <th>testtrainval</th>\n",
       "    </tr>\n",
       "    <tr>\n",
       "      <th>track_id</th>\n",
       "      <th></th>\n",
       "      <th></th>\n",
       "      <th></th>\n",
       "      <th></th>\n",
       "      <th></th>\n",
       "      <th></th>\n",
       "      <th></th>\n",
       "      <th></th>\n",
       "      <th></th>\n",
       "      <th></th>\n",
       "      <th></th>\n",
       "      <th></th>\n",
       "      <th></th>\n",
       "      <th></th>\n",
       "      <th></th>\n",
       "      <th></th>\n",
       "      <th></th>\n",
       "      <th></th>\n",
       "      <th></th>\n",
       "      <th></th>\n",
       "      <th></th>\n",
       "    </tr>\n",
       "  </thead>\n",
       "  <tbody>\n",
       "    <tr>\n",
       "      <th>126014</th>\n",
       "      <td>0.267008</td>\n",
       "      <td>0.171130</td>\n",
       "      <td>0.237383</td>\n",
       "      <td>699.229710</td>\n",
       "      <td>785.999971</td>\n",
       "      <td>25.676751</td>\n",
       "      <td>1183.751175</td>\n",
       "      <td>0.041712</td>\n",
       "      <td>0.092841</td>\n",
       "      <td>-352.161438</td>\n",
       "      <td>...</td>\n",
       "      <td>-12.659972</td>\n",
       "      <td>-13.275584</td>\n",
       "      <td>-12.988043</td>\n",
       "      <td>-15.687397</td>\n",
       "      <td>-12.339302</td>\n",
       "      <td>2.211766</td>\n",
       "      <td>2.147864</td>\n",
       "      <td>-5.011512</td>\n",
       "      <td>Instrumental</td>\n",
       "      <td>training</td>\n",
       "    </tr>\n",
       "    <tr>\n",
       "      <th>54496</th>\n",
       "      <td>0.274600</td>\n",
       "      <td>0.207362</td>\n",
       "      <td>0.277710</td>\n",
       "      <td>1833.074733</td>\n",
       "      <td>2091.124342</td>\n",
       "      <td>25.274995</td>\n",
       "      <td>3818.560243</td>\n",
       "      <td>0.093890</td>\n",
       "      <td>0.044640</td>\n",
       "      <td>-290.169464</td>\n",
       "      <td>...</td>\n",
       "      <td>-6.247772</td>\n",
       "      <td>3.441898</td>\n",
       "      <td>-0.244973</td>\n",
       "      <td>4.090439</td>\n",
       "      <td>-1.278771</td>\n",
       "      <td>9.071951</td>\n",
       "      <td>-0.169724</td>\n",
       "      <td>0.161876</td>\n",
       "      <td>Experimental</td>\n",
       "      <td>training</td>\n",
       "    </tr>\n",
       "    <tr>\n",
       "      <th>65893</th>\n",
       "      <td>0.458305</td>\n",
       "      <td>0.253559</td>\n",
       "      <td>0.412075</td>\n",
       "      <td>2767.487106</td>\n",
       "      <td>2741.112704</td>\n",
       "      <td>20.450162</td>\n",
       "      <td>5889.689386</td>\n",
       "      <td>0.111506</td>\n",
       "      <td>0.013648</td>\n",
       "      <td>-80.027184</td>\n",
       "      <td>...</td>\n",
       "      <td>-2.908488</td>\n",
       "      <td>3.085722</td>\n",
       "      <td>-3.682684</td>\n",
       "      <td>2.957125</td>\n",
       "      <td>-2.243021</td>\n",
       "      <td>1.578797</td>\n",
       "      <td>-4.537785</td>\n",
       "      <td>1.052801</td>\n",
       "      <td>Folk</td>\n",
       "      <td>training</td>\n",
       "    </tr>\n",
       "    <tr>\n",
       "      <th>71158</th>\n",
       "      <td>0.531325</td>\n",
       "      <td>0.258276</td>\n",
       "      <td>0.424391</td>\n",
       "      <td>1444.225428</td>\n",
       "      <td>2060.084462</td>\n",
       "      <td>19.861984</td>\n",
       "      <td>3089.631317</td>\n",
       "      <td>0.046734</td>\n",
       "      <td>0.000029</td>\n",
       "      <td>-123.564980</td>\n",
       "      <td>...</td>\n",
       "      <td>-1.089045</td>\n",
       "      <td>2.822888</td>\n",
       "      <td>-2.630777</td>\n",
       "      <td>1.943587</td>\n",
       "      <td>-7.131413</td>\n",
       "      <td>1.516889</td>\n",
       "      <td>-0.094114</td>\n",
       "      <td>-0.776687</td>\n",
       "      <td>Hip-Hop</td>\n",
       "      <td>training</td>\n",
       "    </tr>\n",
       "    <tr>\n",
       "      <th>57821</th>\n",
       "      <td>0.412456</td>\n",
       "      <td>0.239312</td>\n",
       "      <td>0.335196</td>\n",
       "      <td>2253.305912</td>\n",
       "      <td>2412.719760</td>\n",
       "      <td>22.327731</td>\n",
       "      <td>4858.028957</td>\n",
       "      <td>0.099870</td>\n",
       "      <td>0.024816</td>\n",
       "      <td>-71.340874</td>\n",
       "      <td>...</td>\n",
       "      <td>-8.891809</td>\n",
       "      <td>-2.783748</td>\n",
       "      <td>-6.777088</td>\n",
       "      <td>-3.736772</td>\n",
       "      <td>-11.871335</td>\n",
       "      <td>-0.826213</td>\n",
       "      <td>-2.934075</td>\n",
       "      <td>6.011378</td>\n",
       "      <td>Hip-Hop</td>\n",
       "      <td>training</td>\n",
       "    </tr>\n",
       "  </tbody>\n",
       "</table>\n",
       "<p>5 rows × 31 columns</p>\n",
       "</div>"
      ],
      "text/plain": [
       "          chroma_cqt  chroma_cens  chroma_stft  spectral_centroid  \\\n",
       "track_id                                                            \n",
       "126014      0.267008     0.171130     0.237383         699.229710   \n",
       "54496       0.274600     0.207362     0.277710        1833.074733   \n",
       "65893       0.458305     0.253559     0.412075        2767.487106   \n",
       "71158       0.531325     0.258276     0.424391        1444.225428   \n",
       "57821       0.412456     0.239312     0.335196        2253.305912   \n",
       "\n",
       "          spectral_bandwidth  spectral_contrast      rolloff  \\\n",
       "track_id                                                       \n",
       "126014            785.999971          25.676751  1183.751175   \n",
       "54496            2091.124342          25.274995  3818.560243   \n",
       "65893            2741.112704          20.450162  5889.689386   \n",
       "71158            2060.084462          19.861984  3089.631317   \n",
       "57821            2412.719760          22.327731  4858.028957   \n",
       "\n",
       "          zero_crossing_rate   tonnetz       mfcc1  ...     mfcc13     mfcc14  \\\n",
       "track_id                                            ...                         \n",
       "126014              0.041712  0.092841 -352.161438  ... -12.659972 -13.275584   \n",
       "54496               0.093890  0.044640 -290.169464  ...  -6.247772   3.441898   \n",
       "65893               0.111506  0.013648  -80.027184  ...  -2.908488   3.085722   \n",
       "71158               0.046734  0.000029 -123.564980  ...  -1.089045   2.822888   \n",
       "57821               0.099870  0.024816  -71.340874  ...  -8.891809  -2.783748   \n",
       "\n",
       "             mfcc15     mfcc16     mfcc17    mfcc18    mfcc19    mfcc20  \\\n",
       "track_id                                                                  \n",
       "126014   -12.988043 -15.687397 -12.339302  2.211766  2.147864 -5.011512   \n",
       "54496     -0.244973   4.090439  -1.278771  9.071951 -0.169724  0.161876   \n",
       "65893     -3.682684   2.957125  -2.243021  1.578797 -4.537785  1.052801   \n",
       "71158     -2.630777   1.943587  -7.131413  1.516889 -0.094114 -0.776687   \n",
       "57821     -6.777088  -3.736772 -11.871335 -0.826213 -2.934075  6.011378   \n",
       "\n",
       "                 genre  testtrainval  \n",
       "track_id                              \n",
       "126014    Instrumental      training  \n",
       "54496     Experimental      training  \n",
       "65893             Folk      training  \n",
       "71158          Hip-Hop      training  \n",
       "57821          Hip-Hop      training  \n",
       "\n",
       "[5 rows x 31 columns]"
      ]
     },
     "execution_count": 225,
     "metadata": {},
     "output_type": "execute_result"
    }
   ],
   "source": [
    "data.head()"
   ]
  },
  {
   "cell_type": "code",
   "execution_count": 226,
   "metadata": {},
   "outputs": [],
   "source": [
    "y = data[['genre']]"
   ]
  },
  {
   "cell_type": "code",
   "execution_count": 227,
   "metadata": {},
   "outputs": [],
   "source": [
    "X = data.drop(['genre','testtrainval'],axis=1)"
   ]
  },
  {
   "cell_type": "code",
   "execution_count": 228,
   "metadata": {},
   "outputs": [],
   "source": [
    "X_train, X_test, y_train , y_test = train_test_split(X,y,stratify=y,test_size=1000)"
   ]
  },
  {
   "cell_type": "code",
   "execution_count": 229,
   "metadata": {},
   "outputs": [],
   "source": [
    "X_train, X_val, y_train , y_val = train_test_split(X_train,y_train,stratify=y_train,test_size=1000)"
   ]
  },
  {
   "cell_type": "code",
   "execution_count": 230,
   "metadata": {},
   "outputs": [
    {
     "data": {
      "text/plain": [
       "((5997, 29), (1000, 29), (1000, 29))"
      ]
     },
     "execution_count": 230,
     "metadata": {},
     "output_type": "execute_result"
    }
   ],
   "source": [
    "X_train.shape, X_test.shape,X_val.shape"
   ]
  },
  {
   "cell_type": "code",
   "execution_count": 231,
   "metadata": {},
   "outputs": [
    {
     "data": {
      "text/html": [
       "<div>\n",
       "<style scoped>\n",
       "    .dataframe tbody tr th:only-of-type {\n",
       "        vertical-align: middle;\n",
       "    }\n",
       "\n",
       "    .dataframe tbody tr th {\n",
       "        vertical-align: top;\n",
       "    }\n",
       "\n",
       "    .dataframe thead th {\n",
       "        text-align: right;\n",
       "    }\n",
       "</style>\n",
       "<table border=\"1\" class=\"dataframe\">\n",
       "  <thead>\n",
       "    <tr style=\"text-align: right;\">\n",
       "      <th></th>\n",
       "      <th>genre</th>\n",
       "    </tr>\n",
       "    <tr>\n",
       "      <th>track_id</th>\n",
       "      <th></th>\n",
       "    </tr>\n",
       "  </thead>\n",
       "  <tbody>\n",
       "    <tr>\n",
       "      <th>15210</th>\n",
       "      <td>Hip-Hop</td>\n",
       "    </tr>\n",
       "    <tr>\n",
       "      <th>121315</th>\n",
       "      <td>Hip-Hop</td>\n",
       "    </tr>\n",
       "    <tr>\n",
       "      <th>45387</th>\n",
       "      <td>Instrumental</td>\n",
       "    </tr>\n",
       "    <tr>\n",
       "      <th>90824</th>\n",
       "      <td>Pop</td>\n",
       "    </tr>\n",
       "    <tr>\n",
       "      <th>148613</th>\n",
       "      <td>Pop</td>\n",
       "    </tr>\n",
       "    <tr>\n",
       "      <th>...</th>\n",
       "      <td>...</td>\n",
       "    </tr>\n",
       "    <tr>\n",
       "      <th>28179</th>\n",
       "      <td>Electronic</td>\n",
       "    </tr>\n",
       "    <tr>\n",
       "      <th>126490</th>\n",
       "      <td>Folk</td>\n",
       "    </tr>\n",
       "    <tr>\n",
       "      <th>2</th>\n",
       "      <td>Hip-Hop</td>\n",
       "    </tr>\n",
       "    <tr>\n",
       "      <th>66636</th>\n",
       "      <td>Electronic</td>\n",
       "    </tr>\n",
       "    <tr>\n",
       "      <th>109900</th>\n",
       "      <td>Folk</td>\n",
       "    </tr>\n",
       "  </tbody>\n",
       "</table>\n",
       "<p>1000 rows × 1 columns</p>\n",
       "</div>"
      ],
      "text/plain": [
       "                 genre\n",
       "track_id              \n",
       "15210          Hip-Hop\n",
       "121315         Hip-Hop\n",
       "45387     Instrumental\n",
       "90824              Pop\n",
       "148613             Pop\n",
       "...                ...\n",
       "28179       Electronic\n",
       "126490            Folk\n",
       "2              Hip-Hop\n",
       "66636       Electronic\n",
       "109900            Folk\n",
       "\n",
       "[1000 rows x 1 columns]"
      ]
     },
     "execution_count": 231,
     "metadata": {},
     "output_type": "execute_result"
    }
   ],
   "source": [
    "y_val"
   ]
  },
  {
   "cell_type": "code",
   "execution_count": 232,
   "metadata": {},
   "outputs": [],
   "source": [
    "import pandas as pd\n",
    "import numpy as np\n",
    "import random\n",
    "import matplotlib.pyplot as plt\n",
    "%matplotlib inline\n",
    "from sklearn.model_selection import train_test_split\n",
    "from keras.utils.np_utils import to_categorical\n",
    "from sklearn.preprocessing import LabelBinarizer,OneHotEncoder\n",
    "from keras.preprocessing.text import Tokenizer\n",
    "\n",
    "import warnings\n",
    "warnings.filterwarnings('ignore')"
   ]
  },
  {
   "cell_type": "code",
   "execution_count": 233,
   "metadata": {},
   "outputs": [],
   "source": [
    "# Transform the product labels to numerical values\n",
    "lb = LabelBinarizer()\n",
    "lb.fit(y_train)\n",
    "\n",
    "y_train_lb = to_categorical(lb.transform(y_train))[:, :, 1]\n",
    "y_val_lb = to_categorical(lb.transform(y_val))[:, :, 1]\n",
    "y_test_lb = to_categorical(lb.transform(y_test))[:, :, 1]"
   ]
  },
  {
   "cell_type": "code",
   "execution_count": 234,
   "metadata": {},
   "outputs": [],
   "source": [
    "labels = LabelEncoder()"
   ]
  },
  {
   "cell_type": "code",
   "execution_count": 235,
   "metadata": {},
   "outputs": [],
   "source": [
    "y_train_lab = labels.fit_transform(y_train)\n",
    "y_test_lab = labels.transform(y_test)\n",
    "y_val_lab = labels.transform(y_val)"
   ]
  },
  {
   "cell_type": "code",
   "execution_count": null,
   "metadata": {},
   "outputs": [],
   "source": []
  },
  {
   "cell_type": "code",
   "execution_count": 236,
   "metadata": {},
   "outputs": [
    {
     "data": {
      "text/plain": [
       "array([[0., 0., 1., ..., 0., 0., 0.],\n",
       "       [0., 0., 1., ..., 0., 0., 0.],\n",
       "       [0., 0., 0., ..., 0., 1., 0.],\n",
       "       ...,\n",
       "       [0., 0., 0., ..., 0., 0., 0.],\n",
       "       [0., 0., 0., ..., 0., 1., 0.],\n",
       "       [0., 0., 1., ..., 0., 0., 0.]], dtype=float32)"
      ]
     },
     "execution_count": 236,
     "metadata": {},
     "output_type": "execute_result"
    }
   ],
   "source": [
    "y_train_lb"
   ]
  },
  {
   "cell_type": "code",
   "execution_count": 237,
   "metadata": {},
   "outputs": [],
   "source": [
    "scaler = StandardScaler()\n",
    "X_train = scaler.fit_transform(X_train)\n",
    "X_test = scaler.transform(X_test)\n",
    "X_val = scaler.transform(X_val)"
   ]
  },
  {
   "cell_type": "code",
   "execution_count": 238,
   "metadata": {},
   "outputs": [
    {
     "data": {
      "text/plain": [
       "array([[-0.49891385, -0.35806126, -0.83527725, ..., -0.60946987,\n",
       "        -0.12014237, -0.60595854],\n",
       "       [-0.98905821, -0.94087328, -0.69181612, ..., -0.4853615 ,\n",
       "         0.20259553,  0.79872898],\n",
       "       [ 0.86361034,  1.1664658 , -0.3881585 , ..., -0.80999204,\n",
       "         0.08697596,  1.16571036],\n",
       "       ...,\n",
       "       [ 0.88612734,  1.15699134,  0.28377595, ...,  0.18346541,\n",
       "         0.05385226, -0.93523652],\n",
       "       [ 0.79256391,  0.57963453, -0.62610225, ...,  1.33386349,\n",
       "         1.04306505,  1.27048159],\n",
       "       [-1.25824188, -1.60073274, -1.1038575 , ...,  0.44572557,\n",
       "         0.94935561,  1.46154193]])"
      ]
     },
     "execution_count": 238,
     "metadata": {},
     "output_type": "execute_result"
    }
   ],
   "source": [
    "X_train"
   ]
  },
  {
   "cell_type": "code",
   "execution_count": 240,
   "metadata": {
    "scrolled": false
   },
   "outputs": [
    {
     "name": "stdout",
     "output_type": "stream",
     "text": [
      "Train on 5997 samples, validate on 1000 samples\n",
      "Epoch 1/30\n",
      "5997/5997 [==============================] - 1s 138us/step - loss: 1.7742 - acc: 0.3508 - val_loss: 1.5699 - val_acc: 0.4320\n",
      "Epoch 2/30\n",
      "5997/5997 [==============================] - 0s 17us/step - loss: 1.5689 - acc: 0.4404 - val_loss: 1.4987 - val_acc: 0.4640\n",
      "Epoch 3/30\n",
      "5997/5997 [==============================] - 0s 18us/step - loss: 1.4916 - acc: 0.4654 - val_loss: 1.4649 - val_acc: 0.4590\n",
      "Epoch 4/30\n",
      "5997/5997 [==============================] - 0s 18us/step - loss: 1.4382 - acc: 0.4884 - val_loss: 1.4402 - val_acc: 0.4700\n",
      "Epoch 5/30\n",
      "5997/5997 [==============================] - 0s 16us/step - loss: 1.3916 - acc: 0.5034 - val_loss: 1.4451 - val_acc: 0.4690\n",
      "Epoch 6/30\n",
      "5997/5997 [==============================] - 0s 16us/step - loss: 1.3494 - acc: 0.5184 - val_loss: 1.4304 - val_acc: 0.4790\n",
      "Epoch 7/30\n",
      "5997/5997 [==============================] - 0s 17us/step - loss: 1.3156 - acc: 0.5294 - val_loss: 1.4204 - val_acc: 0.4950\n",
      "Epoch 8/30\n",
      "5997/5997 [==============================] - 0s 16us/step - loss: 1.2644 - acc: 0.5484 - val_loss: 1.4218 - val_acc: 0.4900\n",
      "Epoch 9/30\n",
      "5997/5997 [==============================] - 0s 17us/step - loss: 1.2391 - acc: 0.5573 - val_loss: 1.4123 - val_acc: 0.4910\n",
      "Epoch 10/30\n",
      "5997/5997 [==============================] - 0s 16us/step - loss: 1.1972 - acc: 0.5720 - val_loss: 1.4169 - val_acc: 0.5020\n",
      "Epoch 11/30\n",
      "5997/5997 [==============================] - 0s 16us/step - loss: 1.1659 - acc: 0.5806 - val_loss: 1.4422 - val_acc: 0.4990\n",
      "Epoch 12/30\n",
      "5997/5997 [==============================] - 0s 18us/step - loss: 1.1317 - acc: 0.5921 - val_loss: 1.4218 - val_acc: 0.5090\n",
      "Epoch 13/30\n",
      "5997/5997 [==============================] - 0s 16us/step - loss: 1.0901 - acc: 0.6161 - val_loss: 1.4241 - val_acc: 0.5080\n",
      "Epoch 14/30\n",
      "5997/5997 [==============================] - 0s 16us/step - loss: 1.0524 - acc: 0.6290 - val_loss: 1.4399 - val_acc: 0.5090\n",
      "Epoch 15/30\n",
      "5997/5997 [==============================] - 0s 16us/step - loss: 1.0202 - acc: 0.6397 - val_loss: 1.4552 - val_acc: 0.4970\n",
      "Epoch 16/30\n",
      "5997/5997 [==============================] - 0s 16us/step - loss: 0.9935 - acc: 0.6512 - val_loss: 1.4571 - val_acc: 0.5010\n",
      "Epoch 17/30\n",
      "5997/5997 [==============================] - 0s 18us/step - loss: 0.9587 - acc: 0.6583 - val_loss: 1.4608 - val_acc: 0.4960\n",
      "Epoch 18/30\n",
      "5997/5997 [==============================] - 0s 17us/step - loss: 0.9253 - acc: 0.6747 - val_loss: 1.4728 - val_acc: 0.5090\n",
      "Epoch 19/30\n",
      "5997/5997 [==============================] - 0s 18us/step - loss: 0.8917 - acc: 0.6900 - val_loss: 1.5211 - val_acc: 0.5020\n",
      "Epoch 20/30\n",
      "5997/5997 [==============================] - 0s 18us/step - loss: 0.8569 - acc: 0.7065 - val_loss: 1.5638 - val_acc: 0.5030\n",
      "Epoch 21/30\n",
      "5997/5997 [==============================] - 0s 18us/step - loss: 0.8236 - acc: 0.7162 - val_loss: 1.5339 - val_acc: 0.5120\n",
      "Epoch 22/30\n",
      "5997/5997 [==============================] - 0s 18us/step - loss: 0.8006 - acc: 0.7227 - val_loss: 1.5450 - val_acc: 0.5060\n",
      "Epoch 23/30\n",
      "5997/5997 [==============================] - 0s 18us/step - loss: 0.7635 - acc: 0.7394 - val_loss: 1.5603 - val_acc: 0.4970\n",
      "Epoch 24/30\n",
      "5997/5997 [==============================] - 0s 17us/step - loss: 0.7373 - acc: 0.7492 - val_loss: 1.6387 - val_acc: 0.4900\n",
      "Epoch 25/30\n",
      "5997/5997 [==============================] - 0s 16us/step - loss: 0.7235 - acc: 0.7567 - val_loss: 1.6370 - val_acc: 0.4990\n",
      "Epoch 26/30\n",
      "5997/5997 [==============================] - 0s 18us/step - loss: 0.6769 - acc: 0.7749 - val_loss: 1.6409 - val_acc: 0.4950\n",
      "Epoch 27/30\n",
      "5997/5997 [==============================] - 0s 18us/step - loss: 0.6462 - acc: 0.7889 - val_loss: 1.6989 - val_acc: 0.4950\n",
      "Epoch 28/30\n",
      "5997/5997 [==============================] - 0s 18us/step - loss: 0.6215 - acc: 0.7967 - val_loss: 1.7084 - val_acc: 0.4960\n",
      "Epoch 29/30\n",
      "5997/5997 [==============================] - 0s 18us/step - loss: 0.5928 - acc: 0.8087 - val_loss: 1.8015 - val_acc: 0.4820\n",
      "Epoch 30/30\n",
      "5997/5997 [==============================] - 0s 16us/step - loss: 0.5733 - acc: 0.8099 - val_loss: 1.8133 - val_acc: 0.4860\n"
     ]
    }
   ],
   "source": [
    "model = models.Sequential()\n",
    "\n",
    "model.add(layers.Dense(256, activation='relu', input_shape=(X_train.shape[1],)))\n",
    "model.add(layers.Dense(128, activation='relu'))\n",
    "\n",
    "model.add(layers.Dense(64, activation='relu'))\n",
    "# model.add(layers.Dense(512, activation='relu'))\n",
    "\n",
    "\n",
    "model.add(layers.Dense(8, activation='softmax'))\n",
    "\n",
    "model.compile(optimizer='adam',\n",
    "              loss='sparse_categorical_crossentropy',\n",
    "              metrics=['accuracy'])\n",
    "\n",
    "history = model.fit(X_train,\n",
    "                    y_train_lab,\n",
    "                    epochs=30,\n",
    "                    batch_size=128,validation_data=(X_val,y_val_lab))"
   ]
  },
  {
   "cell_type": "code",
   "execution_count": null,
   "metadata": {},
   "outputs": [],
   "source": []
  },
  {
   "cell_type": "code",
   "execution_count": null,
   "metadata": {},
   "outputs": [],
   "source": []
  },
  {
   "cell_type": "code",
   "execution_count": 241,
   "metadata": {},
   "outputs": [],
   "source": [
    "from keras import models\n",
    "from keras import models\n",
    "from keras import layers"
   ]
  },
  {
   "cell_type": "code",
   "execution_count": null,
   "metadata": {},
   "outputs": [],
   "source": []
  },
  {
   "cell_type": "code",
   "execution_count": 242,
   "metadata": {},
   "outputs": [],
   "source": [
    "from keras.models import Sequential\n",
    "from keras.layers import Dense"
   ]
  },
  {
   "cell_type": "code",
   "execution_count": null,
   "metadata": {},
   "outputs": [],
   "source": []
  },
  {
   "cell_type": "code",
   "execution_count": 265,
   "metadata": {},
   "outputs": [
    {
     "name": "stdout",
     "output_type": "stream",
     "text": [
      "Train on 5997 samples, validate on 1000 samples\n",
      "Epoch 1/30\n",
      "5997/5997 [==============================] - 1s 149us/step - loss: 1.7712 - acc: 0.3465 - val_loss: 1.5886 - val_acc: 0.4190\n",
      "Epoch 2/30\n",
      "5997/5997 [==============================] - 0s 16us/step - loss: 1.5739 - acc: 0.4319 - val_loss: 1.5238 - val_acc: 0.4410\n",
      "Epoch 3/30\n",
      "5997/5997 [==============================] - 0s 16us/step - loss: 1.5133 - acc: 0.4617 - val_loss: 1.4882 - val_acc: 0.4440\n",
      "Epoch 4/30\n",
      "5997/5997 [==============================] - 0s 17us/step - loss: 1.4618 - acc: 0.4737 - val_loss: 1.4742 - val_acc: 0.4550\n",
      "Epoch 5/30\n",
      "5997/5997 [==============================] - 0s 16us/step - loss: 1.4281 - acc: 0.4911 - val_loss: 1.4420 - val_acc: 0.4610\n",
      "Epoch 6/30\n",
      "5997/5997 [==============================] - 0s 15us/step - loss: 1.3917 - acc: 0.5074 - val_loss: 1.4283 - val_acc: 0.4670\n",
      "Epoch 7/30\n",
      "5997/5997 [==============================] - 0s 17us/step - loss: 1.3578 - acc: 0.5153 - val_loss: 1.4196 - val_acc: 0.4770\n",
      "Epoch 8/30\n",
      "5997/5997 [==============================] - 0s 17us/step - loss: 1.3264 - acc: 0.5304 - val_loss: 1.4270 - val_acc: 0.4700\n",
      "Epoch 9/30\n",
      "5997/5997 [==============================] - 0s 17us/step - loss: 1.2987 - acc: 0.5384 - val_loss: 1.4219 - val_acc: 0.4750\n",
      "Epoch 10/30\n",
      "5997/5997 [==============================] - 0s 17us/step - loss: 1.2666 - acc: 0.5523 - val_loss: 1.4032 - val_acc: 0.4970\n",
      "Epoch 11/30\n",
      "5997/5997 [==============================] - 0s 17us/step - loss: 1.2399 - acc: 0.5614 - val_loss: 1.4076 - val_acc: 0.4920\n",
      "Epoch 12/30\n",
      "5997/5997 [==============================] - 0s 16us/step - loss: 1.2174 - acc: 0.5780 - val_loss: 1.4134 - val_acc: 0.4870\n",
      "Epoch 13/30\n",
      "5997/5997 [==============================] - 0s 17us/step - loss: 1.1884 - acc: 0.5871 - val_loss: 1.4105 - val_acc: 0.4870\n",
      "Epoch 14/30\n",
      "5997/5997 [==============================] - 0s 17us/step - loss: 1.1686 - acc: 0.5825 - val_loss: 1.4183 - val_acc: 0.4780\n",
      "Epoch 15/30\n",
      "5997/5997 [==============================] - 0s 17us/step - loss: 1.1436 - acc: 0.5993 - val_loss: 1.4151 - val_acc: 0.4840\n",
      "Epoch 16/30\n",
      "5997/5997 [==============================] - 0s 17us/step - loss: 1.1164 - acc: 0.6133 - val_loss: 1.4172 - val_acc: 0.4930\n",
      "Epoch 17/30\n",
      "5997/5997 [==============================] - 0s 17us/step - loss: 1.0915 - acc: 0.6206 - val_loss: 1.4039 - val_acc: 0.5040\n",
      "Epoch 18/30\n",
      "5997/5997 [==============================] - 0s 18us/step - loss: 1.0660 - acc: 0.6265 - val_loss: 1.4195 - val_acc: 0.5120\n",
      "Epoch 19/30\n",
      "5997/5997 [==============================] - 0s 17us/step - loss: 1.0475 - acc: 0.6320 - val_loss: 1.4110 - val_acc: 0.5090\n",
      "Epoch 20/30\n",
      "5997/5997 [==============================] - 0s 17us/step - loss: 1.0154 - acc: 0.6522 - val_loss: 1.4237 - val_acc: 0.4900\n",
      "Epoch 21/30\n",
      "5997/5997 [==============================] - 0s 16us/step - loss: 0.9984 - acc: 0.6565 - val_loss: 1.4322 - val_acc: 0.5080\n",
      "Epoch 22/30\n",
      "5997/5997 [==============================] - 0s 16us/step - loss: 0.9771 - acc: 0.6610 - val_loss: 1.4236 - val_acc: 0.5020\n",
      "Epoch 23/30\n",
      "5997/5997 [==============================] - 0s 18us/step - loss: 0.9547 - acc: 0.6740 - val_loss: 1.4416 - val_acc: 0.4950\n",
      "Epoch 24/30\n",
      "5997/5997 [==============================] - 0s 18us/step - loss: 0.9327 - acc: 0.6830 - val_loss: 1.4587 - val_acc: 0.5030\n",
      "Epoch 25/30\n",
      "5997/5997 [==============================] - 0s 17us/step - loss: 0.9087 - acc: 0.6903 - val_loss: 1.4645 - val_acc: 0.5020\n",
      "Epoch 26/30\n",
      "5997/5997 [==============================] - 0s 15us/step - loss: 0.8966 - acc: 0.6918 - val_loss: 1.4762 - val_acc: 0.5110\n",
      "Epoch 27/30\n",
      "5997/5997 [==============================] - 0s 15us/step - loss: 0.8670 - acc: 0.7104 - val_loss: 1.4815 - val_acc: 0.5110\n",
      "Epoch 28/30\n",
      "5997/5997 [==============================] - 0s 17us/step - loss: 0.8529 - acc: 0.7142 - val_loss: 1.4913 - val_acc: 0.5120\n",
      "Epoch 29/30\n",
      "5997/5997 [==============================] - 0s 17us/step - loss: 0.8346 - acc: 0.7225 - val_loss: 1.5101 - val_acc: 0.5030\n",
      "Epoch 30/30\n",
      "5997/5997 [==============================] - 0s 17us/step - loss: 0.8144 - acc: 0.7272 - val_loss: 1.5190 - val_acc: 0.5060\n"
     ]
    }
   ],
   "source": [
    "model = models.Sequential()\n",
    "\n",
    "model.add(layers.Dense(256, activation='relu', input_shape=(X_train.shape[1],)))\n",
    "model.add(layers.Dense(128, activation='relu'))\n",
    "\n",
    "# model.add(layers.Dense(64, activation='relu'))\n",
    "# model.add(layers.Dense(512, activation='relu'))\n",
    "\n",
    "\n",
    "model.add(layers.Dense(8, activation='softmax'))\n",
    "\n",
    "model.compile(optimizer='adam',\n",
    "              loss='sparse_categorical_crossentropy',\n",
    "              metrics=['accuracy'])\n",
    "\n",
    "history = model.fit(X_train,\n",
    "                    y_train_lab,\n",
    "                    epochs=30,\n",
    "                    batch_size=128,validation_data=(X_val,y_val_lab))"
   ]
  },
  {
   "cell_type": "code",
   "execution_count": 266,
   "metadata": {},
   "outputs": [
    {
     "name": "stdout",
     "output_type": "stream",
     "text": [
      "5997/5997 [==============================] - 0s 31us/step\n",
      "----------\n",
      "Training Loss: 0.77 \n",
      "Training Accuracy: 0.743\n"
     ]
    }
   ],
   "source": [
    "results_train = model.evaluate(X_train, y_train_lab)\n",
    "print('----------')\n",
    "print(f'Training Loss: {results_train[0]:.3} \\nTraining Accuracy: {results_train[1]:.3}')"
   ]
  },
  {
   "cell_type": "code",
   "execution_count": 267,
   "metadata": {},
   "outputs": [
    {
     "name": "stdout",
     "output_type": "stream",
     "text": [
      "1000/1000 [==============================] - 0s 32us/step\n",
      "----------\n",
      "Training Loss: 1.62 \n",
      "Training Accuracy: 0.434\n"
     ]
    }
   ],
   "source": [
    "results_train = model.evaluate(X_test, y_test_lab)\n",
    "print('----------')\n",
    "print(f'Training Loss: {results_train[0]:.3} \\nTraining Accuracy: {results_test[1]:.3}')"
   ]
  },
  {
   "cell_type": "code",
   "execution_count": 283,
   "metadata": {},
   "outputs": [],
   "source": [
    "from keras import models\n",
    "from keras import layers\n",
    "baseline_model = models.Sequential()\n",
    "baseline_model.add(layers.Dense(256, activation='relu', input_shape=(29,)))\n",
    "baseline_model.add(layers.Dense(128, activation='relu'))\n",
    "baseline_model.add(layers.Dense(8, activation='softmax'))"
   ]
  },
  {
   "cell_type": "code",
   "execution_count": 284,
   "metadata": {},
   "outputs": [],
   "source": [
    "# Compile the model\n",
    "baseline_model.compile(optimizer='nadam', \n",
    "                       loss='sparse_categorical_crossentropy', \n",
    "                       metrics=['accuracy'])"
   ]
  },
  {
   "cell_type": "code",
   "execution_count": 285,
   "metadata": {
    "scrolled": false
   },
   "outputs": [
    {
     "name": "stdout",
     "output_type": "stream",
     "text": [
      "Train on 5997 samples, validate on 1000 samples\n",
      "Epoch 1/50\n",
      "5997/5997 [==============================] - 1s 173us/step - loss: 1.7067 - acc: 0.3725 - val_loss: 1.5316 - val_acc: 0.4560\n",
      "Epoch 2/50\n",
      "5997/5997 [==============================] - 0s 18us/step - loss: 1.5284 - acc: 0.4481 - val_loss: 1.4713 - val_acc: 0.4670\n",
      "Epoch 3/50\n",
      "5997/5997 [==============================] - 0s 17us/step - loss: 1.4560 - acc: 0.4764 - val_loss: 1.4610 - val_acc: 0.4640\n",
      "Epoch 4/50\n",
      "5997/5997 [==============================] - 0s 16us/step - loss: 1.4023 - acc: 0.4919 - val_loss: 1.4146 - val_acc: 0.4890\n",
      "Epoch 5/50\n",
      "5997/5997 [==============================] - 0s 17us/step - loss: 1.3507 - acc: 0.5148 - val_loss: 1.4209 - val_acc: 0.4870\n",
      "Epoch 6/50\n",
      "5997/5997 [==============================] - 0s 18us/step - loss: 1.3066 - acc: 0.5418 - val_loss: 1.4501 - val_acc: 0.4610\n",
      "Epoch 7/50\n",
      "5997/5997 [==============================] - 0s 18us/step - loss: 1.2600 - acc: 0.5474 - val_loss: 1.4070 - val_acc: 0.4930\n",
      "Epoch 8/50\n",
      "5997/5997 [==============================] - 0s 19us/step - loss: 1.2176 - acc: 0.5676 - val_loss: 1.4145 - val_acc: 0.4950\n",
      "Epoch 9/50\n",
      "5997/5997 [==============================] - 0s 19us/step - loss: 1.1711 - acc: 0.5851 - val_loss: 1.4477 - val_acc: 0.4850\n",
      "Epoch 10/50\n",
      "5997/5997 [==============================] - 0s 19us/step - loss: 1.1429 - acc: 0.5920 - val_loss: 1.4111 - val_acc: 0.5060\n",
      "Epoch 11/50\n",
      "5997/5997 [==============================] - 0s 19us/step - loss: 1.0975 - acc: 0.6096 - val_loss: 1.4292 - val_acc: 0.4950\n",
      "Epoch 12/50\n",
      "5997/5997 [==============================] - 0s 18us/step - loss: 1.0572 - acc: 0.6330 - val_loss: 1.4589 - val_acc: 0.4860\n",
      "Epoch 13/50\n",
      "5997/5997 [==============================] - 0s 17us/step - loss: 1.0287 - acc: 0.6350 - val_loss: 1.4609 - val_acc: 0.4850\n",
      "Epoch 14/50\n",
      "5997/5997 [==============================] - 0s 18us/step - loss: 0.9849 - acc: 0.6563 - val_loss: 1.4854 - val_acc: 0.4960\n",
      "Epoch 15/50\n",
      "5997/5997 [==============================] - 0s 16us/step - loss: 0.9462 - acc: 0.6705 - val_loss: 1.5310 - val_acc: 0.4820\n",
      "Epoch 16/50\n",
      "5997/5997 [==============================] - 0s 17us/step - loss: 0.9186 - acc: 0.6803 - val_loss: 1.5026 - val_acc: 0.4860\n",
      "Epoch 17/50\n",
      "5997/5997 [==============================] - 0s 18us/step - loss: 0.8805 - acc: 0.6993 - val_loss: 1.5292 - val_acc: 0.4860\n",
      "Epoch 18/50\n",
      "5997/5997 [==============================] - 0s 17us/step - loss: 0.8449 - acc: 0.7102 - val_loss: 1.5292 - val_acc: 0.4850\n",
      "Epoch 19/50\n",
      "5997/5997 [==============================] - 0s 17us/step - loss: 0.8079 - acc: 0.7264 - val_loss: 1.5803 - val_acc: 0.4820\n",
      "Epoch 20/50\n",
      "5997/5997 [==============================] - 0s 16us/step - loss: 0.7750 - acc: 0.7420 - val_loss: 1.5949 - val_acc: 0.4850\n",
      "Epoch 21/50\n",
      "5997/5997 [==============================] - 0s 18us/step - loss: 0.7347 - acc: 0.7584 - val_loss: 1.6192 - val_acc: 0.4830\n",
      "Epoch 22/50\n",
      "5997/5997 [==============================] - 0s 18us/step - loss: 0.7108 - acc: 0.7639 - val_loss: 1.6475 - val_acc: 0.4740\n",
      "Epoch 23/50\n",
      "5997/5997 [==============================] - 0s 16us/step - loss: 0.6795 - acc: 0.7756 - val_loss: 1.6827 - val_acc: 0.4690\n",
      "Epoch 24/50\n",
      "5997/5997 [==============================] - 0s 18us/step - loss: 0.6454 - acc: 0.7859 - val_loss: 1.7036 - val_acc: 0.4920\n",
      "Epoch 25/50\n",
      "5997/5997 [==============================] - 0s 18us/step - loss: 0.6176 - acc: 0.8002 - val_loss: 1.7587 - val_acc: 0.4810\n",
      "Epoch 26/50\n",
      "5997/5997 [==============================] - 0s 18us/step - loss: 0.5897 - acc: 0.8144 - val_loss: 1.7723 - val_acc: 0.4680\n",
      "Epoch 27/50\n",
      "5997/5997 [==============================] - 0s 18us/step - loss: 0.5546 - acc: 0.8274 - val_loss: 1.8799 - val_acc: 0.4600\n",
      "Epoch 28/50\n",
      "5997/5997 [==============================] - 0s 18us/step - loss: 0.5331 - acc: 0.8281 - val_loss: 1.8671 - val_acc: 0.4630\n",
      "Epoch 29/50\n",
      "5997/5997 [==============================] - 0s 18us/step - loss: 0.4989 - acc: 0.8478 - val_loss: 1.9137 - val_acc: 0.4620\n",
      "Epoch 30/50\n",
      "5997/5997 [==============================] - 0s 17us/step - loss: 0.4727 - acc: 0.8548 - val_loss: 1.9052 - val_acc: 0.4740\n",
      "Epoch 31/50\n",
      "5997/5997 [==============================] - 0s 17us/step - loss: 0.4455 - acc: 0.8683 - val_loss: 1.9612 - val_acc: 0.4960\n",
      "Epoch 32/50\n",
      "5997/5997 [==============================] - 0s 18us/step - loss: 0.4345 - acc: 0.8714 - val_loss: 1.9630 - val_acc: 0.4690\n",
      "Epoch 33/50\n",
      "5997/5997 [==============================] - 0s 16us/step - loss: 0.4093 - acc: 0.8778 - val_loss: 2.0311 - val_acc: 0.4680\n",
      "Epoch 34/50\n",
      "5997/5997 [==============================] - 0s 16us/step - loss: 0.3936 - acc: 0.8838 - val_loss: 2.0341 - val_acc: 0.4870\n",
      "Epoch 35/50\n",
      "5997/5997 [==============================] - 0s 16us/step - loss: 0.3642 - acc: 0.9005 - val_loss: 2.0410 - val_acc: 0.4750\n",
      "Epoch 36/50\n",
      "5997/5997 [==============================] - 0s 16us/step - loss: 0.3338 - acc: 0.9090 - val_loss: 2.1528 - val_acc: 0.4800\n",
      "Epoch 37/50\n",
      "5997/5997 [==============================] - 0s 16us/step - loss: 0.3218 - acc: 0.9138 - val_loss: 2.1363 - val_acc: 0.4750\n",
      "Epoch 38/50\n",
      "5997/5997 [==============================] - 0s 16us/step - loss: 0.3039 - acc: 0.9203 - val_loss: 2.1947 - val_acc: 0.4740\n",
      "Epoch 39/50\n",
      "5997/5997 [==============================] - 0s 18us/step - loss: 0.2801 - acc: 0.9301 - val_loss: 2.2510 - val_acc: 0.4680\n",
      "Epoch 40/50\n",
      "5997/5997 [==============================] - 0s 19us/step - loss: 0.2552 - acc: 0.9386 - val_loss: 2.2634 - val_acc: 0.4570\n",
      "Epoch 41/50\n",
      "5997/5997 [==============================] - 0s 18us/step - loss: 0.2412 - acc: 0.9413 - val_loss: 2.3221 - val_acc: 0.4590\n",
      "Epoch 42/50\n",
      "5997/5997 [==============================] - 0s 17us/step - loss: 0.2275 - acc: 0.9476 - val_loss: 2.3637 - val_acc: 0.4750\n",
      "Epoch 43/50\n",
      "5997/5997 [==============================] - 0s 17us/step - loss: 0.2109 - acc: 0.9518 - val_loss: 2.3846 - val_acc: 0.4630\n",
      "Epoch 44/50\n",
      "5997/5997 [==============================] - 0s 16us/step - loss: 0.2024 - acc: 0.9563 - val_loss: 2.4368 - val_acc: 0.4600\n",
      "Epoch 45/50\n",
      "5997/5997 [==============================] - 0s 17us/step - loss: 0.1870 - acc: 0.9631 - val_loss: 2.5063 - val_acc: 0.4770\n",
      "Epoch 46/50\n",
      "5997/5997 [==============================] - 0s 19us/step - loss: 0.1746 - acc: 0.9663 - val_loss: 2.4970 - val_acc: 0.4830\n",
      "Epoch 47/50\n",
      "5997/5997 [==============================] - 0s 18us/step - loss: 0.1559 - acc: 0.9718 - val_loss: 2.5636 - val_acc: 0.4530\n",
      "Epoch 48/50\n",
      "5997/5997 [==============================] - 0s 17us/step - loss: 0.1495 - acc: 0.9737 - val_loss: 2.6500 - val_acc: 0.4470\n",
      "Epoch 49/50\n",
      "5997/5997 [==============================] - 0s 17us/step - loss: 0.1396 - acc: 0.9780 - val_loss: 2.6314 - val_acc: 0.4720\n",
      "Epoch 50/50\n",
      "5997/5997 [==============================] - 0s 20us/step - loss: 0.1256 - acc: 0.9818 - val_loss: 2.6579 - val_acc: 0.4510\n"
     ]
    }
   ],
   "source": [
    "baseline_model_val = baseline_model.fit(X_train, \n",
    "                                        y_train_lab, \n",
    "                                         epochs=50,\n",
    "                    batch_size=128,\n",
    "                                        validation_data=(X_val,y_val_lab))"
   ]
  },
  {
   "cell_type": "code",
   "execution_count": 286,
   "metadata": {},
   "outputs": [
    {
     "data": {
      "text/plain": [
       "dict_keys(['val_loss', 'val_acc', 'loss', 'acc'])"
      ]
     },
     "execution_count": 286,
     "metadata": {},
     "output_type": "execute_result"
    }
   ],
   "source": [
    "# Access the history attribute and store the dictionary\n",
    "baseline_model_val_dict = baseline_model_val.history\n",
    "\n",
    "# Print the keys\n",
    "\n",
    "baseline_model_val_dict.keys()"
   ]
  },
  {
   "cell_type": "code",
   "execution_count": 287,
   "metadata": {},
   "outputs": [
    {
     "name": "stdout",
     "output_type": "stream",
     "text": [
      "5997/5997 [==============================] - 0s 31us/step\n",
      "----------\n",
      "Training Loss: 0.104 \n",
      "Training Accuracy: 0.99\n"
     ]
    }
   ],
   "source": [
    "results_train = baseline_model.evaluate(X_train, y_train_lab)\n",
    "print('----------')\n",
    "print(f'Training Loss: {results_train[0]:.3} \\nTraining Accuracy: {results_train[1]:.3}')"
   ]
  },
  {
   "cell_type": "code",
   "execution_count": 288,
   "metadata": {},
   "outputs": [
    {
     "name": "stdout",
     "output_type": "stream",
     "text": [
      "1000/1000 [==============================] - 0s 33us/step\n",
      "----------\n",
      "Test Loss: 2.91 \n",
      "Test Accuracy: 0.443\n"
     ]
    }
   ],
   "source": [
    "results_test = baseline_model.evaluate(X_test, y_test_lab)\n",
    "print('----------')\n",
    "print(f'Test Loss: {results_test[0]:.3} \\nTest Accuracy: {results_test[1]:.3}')"
   ]
  },
  {
   "cell_type": "code",
   "execution_count": 289,
   "metadata": {},
   "outputs": [
    {
     "data": {
      "image/png": "[encoded data removed]",
      "text/plain": [
       "<Figure size 864x576 with 1 Axes>"
      ]
     },
     "metadata": {
      "needs_background": "light"
     },
     "output_type": "display_data"
    }
   ],
   "source": [
    "fig, ax = plt.subplots(figsize=(12, 8))\n",
    "\n",
    "loss_values = baseline_model_val_dict['loss']\n",
    "val_loss_values = baseline_model_val_dict['val_loss']\n",
    "\n",
    "epochs = range(1, len(loss_values) + 1)\n",
    "ax.plot(epochs, loss_values, label='Training loss')\n",
    "ax.plot(epochs, val_loss_values, label='Validation loss')\n",
    "\n",
    "ax.set_title('Training & validation loss')\n",
    "ax.set_xlabel('Epochs')\n",
    "ax.set_ylabel('Loss')\n",
    "ax.legend();"
   ]
  },
  {
   "cell_type": "code",
   "execution_count": 290,
   "metadata": {},
   "outputs": [
    {
     "data": {
      "image/png": "[encoded data removed]",
      "text/plain": [
       "<Figure size 864x576 with 1 Axes>"
      ]
     },
     "metadata": {
      "needs_background": "light"
     },
     "output_type": "display_data"
    }
   ],
   "source": [
    "fig, ax = plt.subplots(figsize=(12, 8))\n",
    "\n",
    "acc_values = baseline_model_val_dict['acc'] \n",
    "val_acc_values = baseline_model_val_dict['val_acc']\n",
    "\n",
    "ax.plot(epochs, acc_values, label='Training acc')\n",
    "ax.plot(epochs, val_acc_values, label='Validation acc')\n",
    "ax.set_title('Training & validation accuracy')\n",
    "ax.set_xlabel('Epochs')\n",
    "ax.set_ylabel('Loss')\n",
    "ax.legend();"
   ]
  },
  {
   "cell_type": "markdown",
   "metadata": {},
   "source": [
    "# Early Stopping"
   ]
  },
  {
   "cell_type": "code",
   "execution_count": 291,
   "metadata": {},
   "outputs": [],
   "source": [
    "model_2 = models.Sequential()\n",
    "model_2.add(layers.Dense(256, activation='relu', input_shape=(29,)))\n",
    "model_2.add(layers.Dense(128, activation='relu'))\n",
    "model_2.add(layers.Dense(8, activation='softmax'))\n",
    "\n",
    "model_2.compile(optimizer='nadam', \n",
    "                loss='categorical_crossentropy', \n",
    "                metrics=['accuracy'])"
   ]
  },
  {
   "cell_type": "code",
   "execution_count": 293,
   "metadata": {},
   "outputs": [
    {
     "ename": "TypeError",
     "evalue": "__init__() missing 1 required positional argument: 'filepath'",
     "output_type": "error",
     "traceback": [
      "\u001b[0;31m---------------------------------------------------------------------------\u001b[0m",
      "\u001b[0;31mTypeError\u001b[0m                                 Traceback (most recent call last)",
      "\u001b[0;32m<ipython-input-293-74a99d8270c8>\u001b[0m in \u001b[0;36m<module>\u001b[0;34m\u001b[0m\n\u001b[1;32m      4\u001b[0m \u001b[0;31m# Define the callbacks\u001b[0m\u001b[0;34m\u001b[0m\u001b[0;34m\u001b[0m\u001b[0;34m\u001b[0m\u001b[0m\n\u001b[1;32m      5\u001b[0m early_stopping = [EarlyStopping(monitor='val_loss', patience=10), \n\u001b[0;32m----> 6\u001b[0;31m                   ModelCheckpoint( monitor='val_loss', save_best_only=True)]\n\u001b[0m",
      "\u001b[0;31mTypeError\u001b[0m: __init__() missing 1 required positional argument: 'filepath'"
     ]
    }
   ],
   "source": [
    "# Import EarlyStopping and ModelCheckpoint\n",
    "from keras.callbacks import EarlyStopping, ModelCheckpoint\n",
    "\n",
    "# Define the callbacks\n",
    "early_stopping = [EarlyStopping(monitor='val_loss', patience=10), \n",
    "                  ModelCheckpoint( monitor='val_loss', save_best_only=True)]"
   ]
  },
  {
   "cell_type": "code",
   "execution_count": 67,
   "metadata": {},
   "outputs": [
    {
     "name": "stdout",
     "output_type": "stream",
     "text": [
      "Train on 5997 samples, validate on 1000 samples\n",
      "Epoch 1/50\n",
      "5997/5997 [==============================] - 1s 92us/step - loss: 1.7093 - acc: 0.3608 - val_loss: 1.6275 - val_acc: 0.4000\n",
      "Epoch 2/50\n",
      "5997/5997 [==============================] - 0s 41us/step - loss: 1.5296 - acc: 0.4521 - val_loss: 1.5874 - val_acc: 0.4290\n",
      "Epoch 3/50\n",
      "5997/5997 [==============================] - 0s 41us/step - loss: 1.4619 - acc: 0.4736 - val_loss: 1.5495 - val_acc: 0.4600\n",
      "Epoch 4/50\n",
      "5997/5997 [==============================] - 0s 41us/step - loss: 1.4117 - acc: 0.4942 - val_loss: 1.5384 - val_acc: 0.4670\n",
      "Epoch 5/50\n",
      "5997/5997 [==============================] - 0s 41us/step - loss: 1.3688 - acc: 0.5083 - val_loss: 1.5318 - val_acc: 0.4690\n",
      "Epoch 6/50\n",
      "5997/5997 [==============================] - 0s 42us/step - loss: 1.3309 - acc: 0.5239 - val_loss: 1.5291 - val_acc: 0.4500\n",
      "Epoch 7/50\n",
      "5997/5997 [==============================] - 0s 41us/step - loss: 1.2927 - acc: 0.5403 - val_loss: 1.5640 - val_acc: 0.4480\n",
      "Epoch 8/50\n",
      "5997/5997 [==============================] - 0s 40us/step - loss: 1.2581 - acc: 0.5568 - val_loss: 1.5399 - val_acc: 0.4610\n",
      "Epoch 9/50\n",
      "5997/5997 [==============================] - 0s 41us/step - loss: 1.2234 - acc: 0.5644 - val_loss: 1.5396 - val_acc: 0.4570\n",
      "Epoch 10/50\n",
      "5997/5997 [==============================] - 0s 41us/step - loss: 1.1889 - acc: 0.5733 - val_loss: 1.5564 - val_acc: 0.4770\n",
      "Epoch 11/50\n",
      "5997/5997 [==============================] - 0s 42us/step - loss: 1.1606 - acc: 0.5901 - val_loss: 1.5419 - val_acc: 0.4710\n",
      "Epoch 12/50\n",
      "5997/5997 [==============================] - 0s 41us/step - loss: 1.1221 - acc: 0.6005 - val_loss: 1.5758 - val_acc: 0.4540\n",
      "Epoch 13/50\n",
      "5997/5997 [==============================] - 0s 41us/step - loss: 1.0922 - acc: 0.6106 - val_loss: 1.5582 - val_acc: 0.4670\n",
      "Epoch 14/50\n",
      "5997/5997 [==============================] - 0s 41us/step - loss: 1.0595 - acc: 0.6195 - val_loss: 1.6137 - val_acc: 0.4750\n",
      "Epoch 15/50\n",
      "5997/5997 [==============================] - 0s 42us/step - loss: 1.0318 - acc: 0.6378 - val_loss: 1.6187 - val_acc: 0.4650\n",
      "Epoch 16/50\n",
      "5997/5997 [==============================] - 0s 42us/step - loss: 1.0003 - acc: 0.6395 - val_loss: 1.6120 - val_acc: 0.4740\n"
     ]
    }
   ],
   "source": [
    "model_2_val = model_2.fit(X_train, \n",
    "                          y_train_lb, \n",
    "                          epochs=50, \n",
    "                          callbacks=early_stopping ,\n",
    "                         validation_data=(X_val,y_val_lb))"
   ]
  },
  {
   "cell_type": "code",
   "execution_count": 68,
   "metadata": {},
   "outputs": [
    {
     "name": "stdout",
     "output_type": "stream",
     "text": [
      "5997/5997 [==============================] - 0s 17us/step\n",
      "Training Loss: 0.921 \n",
      "Training Accuracy: 0.682\n",
      "----------\n",
      "1000/1000 [==============================] - 0s 22us/step\n",
      "Test Loss: 1.61 \n",
      "Test Accuracy: 0.469\n"
     ]
    }
   ],
   "source": [
    "results_train = model_2.evaluate(X_train, y_train_lb)\n",
    "print(f'Training Loss: {results_train[0]:.3} \\nTraining Accuracy: {results_train[1]:.3}')\n",
    "\n",
    "print('----------')\n",
    "\n",
    "results_test = model_2.evaluate(X_test, y_test_lb)\n",
    "print(f'Test Loss: {results_test[0]:.3} \\nTest Accuracy: {results_test[1]:.3}')"
   ]
  },
  {
   "cell_type": "code",
   "execution_count": 296,
   "metadata": {},
   "outputs": [
    {
     "name": "stdout",
     "output_type": "stream",
     "text": [
      "Train on 5997 samples, validate on 1000 samples\n",
      "Epoch 1/30\n",
      "5997/5997 [==============================] - 1s 183us/step - loss: 2.5648 - acc: 0.3705 - val_loss: 2.1455 - val_acc: 0.4350\n",
      "Epoch 2/30\n",
      "5997/5997 [==============================] - 0s 18us/step - loss: 2.0130 - acc: 0.4344 - val_loss: 1.8478 - val_acc: 0.4590\n",
      "Epoch 3/30\n",
      "5997/5997 [==============================] - 0s 20us/step - loss: 1.8012 - acc: 0.4529 - val_loss: 1.7124 - val_acc: 0.4430\n",
      "Epoch 4/30\n",
      "5997/5997 [==============================] - 0s 19us/step - loss: 1.7051 - acc: 0.4672 - val_loss: 1.6562 - val_acc: 0.4640\n",
      "Epoch 5/30\n",
      "5997/5997 [==============================] - 0s 17us/step - loss: 1.6490 - acc: 0.4637 - val_loss: 1.6218 - val_acc: 0.4540\n",
      "Epoch 6/30\n",
      "5997/5997 [==============================] - 0s 18us/step - loss: 1.6165 - acc: 0.4801 - val_loss: 1.6090 - val_acc: 0.4550\n",
      "Epoch 7/30\n",
      "5997/5997 [==============================] - 0s 18us/step - loss: 1.5960 - acc: 0.4831 - val_loss: 1.5919 - val_acc: 0.4570\n",
      "Epoch 8/30\n",
      "5997/5997 [==============================] - 0s 18us/step - loss: 1.5772 - acc: 0.4876 - val_loss: 1.5812 - val_acc: 0.4600\n",
      "Epoch 9/30\n",
      "5997/5997 [==============================] - 0s 18us/step - loss: 1.5665 - acc: 0.4871 - val_loss: 1.5791 - val_acc: 0.4490\n",
      "Epoch 10/30\n",
      "5997/5997 [==============================] - 0s 18us/step - loss: 1.5568 - acc: 0.4932 - val_loss: 1.5893 - val_acc: 0.4660\n",
      "Epoch 11/30\n",
      "5997/5997 [==============================] - 0s 18us/step - loss: 1.5448 - acc: 0.4989 - val_loss: 1.5742 - val_acc: 0.4710\n",
      "Epoch 12/30\n",
      "5997/5997 [==============================] - 0s 18us/step - loss: 1.5315 - acc: 0.5044 - val_loss: 1.5612 - val_acc: 0.4700\n",
      "Epoch 13/30\n",
      "5997/5997 [==============================] - 0s 19us/step - loss: 1.5267 - acc: 0.5069 - val_loss: 1.5888 - val_acc: 0.4620\n",
      "Epoch 14/30\n",
      "5997/5997 [==============================] - 0s 18us/step - loss: 1.5227 - acc: 0.5086 - val_loss: 1.5800 - val_acc: 0.4660\n",
      "Epoch 15/30\n",
      "5997/5997 [==============================] - 0s 18us/step - loss: 1.5130 - acc: 0.5103 - val_loss: 1.5727 - val_acc: 0.4770\n",
      "Epoch 16/30\n",
      "5997/5997 [==============================] - 0s 18us/step - loss: 1.5120 - acc: 0.5113 - val_loss: 1.5486 - val_acc: 0.4840\n",
      "Epoch 17/30\n",
      "5997/5997 [==============================] - 0s 18us/step - loss: 1.5006 - acc: 0.5169 - val_loss: 1.5869 - val_acc: 0.4660\n",
      "Epoch 18/30\n",
      "5997/5997 [==============================] - 0s 16us/step - loss: 1.4911 - acc: 0.5231 - val_loss: 1.5645 - val_acc: 0.4670\n",
      "Epoch 19/30\n",
      "5997/5997 [==============================] - 0s 16us/step - loss: 1.4874 - acc: 0.5164 - val_loss: 1.5626 - val_acc: 0.4870\n",
      "Epoch 20/30\n",
      "5997/5997 [==============================] - 0s 16us/step - loss: 1.4860 - acc: 0.5241 - val_loss: 1.5608 - val_acc: 0.4760\n",
      "Epoch 21/30\n",
      "5997/5997 [==============================] - 0s 16us/step - loss: 1.4749 - acc: 0.5289 - val_loss: 1.5754 - val_acc: 0.4930\n",
      "Epoch 22/30\n",
      "5997/5997 [==============================] - 0s 17us/step - loss: 1.4748 - acc: 0.5256 - val_loss: 1.5536 - val_acc: 0.4940\n",
      "Epoch 23/30\n",
      "5997/5997 [==============================] - 0s 17us/step - loss: 1.4657 - acc: 0.5373 - val_loss: 1.5504 - val_acc: 0.5010\n",
      "Epoch 24/30\n",
      "5997/5997 [==============================] - 0s 17us/step - loss: 1.4669 - acc: 0.5396 - val_loss: 1.5428 - val_acc: 0.5040\n",
      "Epoch 25/30\n",
      "5997/5997 [==============================] - 0s 18us/step - loss: 1.4587 - acc: 0.5439 - val_loss: 1.5663 - val_acc: 0.4830\n",
      "Epoch 26/30\n",
      "5997/5997 [==============================] - 0s 19us/step - loss: 1.4430 - acc: 0.5484 - val_loss: 1.6198 - val_acc: 0.4750\n",
      "Epoch 27/30\n",
      "5997/5997 [==============================] - 0s 18us/step - loss: 1.4439 - acc: 0.5443 - val_loss: 1.5855 - val_acc: 0.4870\n",
      "Epoch 28/30\n",
      "5997/5997 [==============================] - 0s 18us/step - loss: 1.4466 - acc: 0.5474 - val_loss: 1.5692 - val_acc: 0.4690\n",
      "Epoch 29/30\n",
      "5997/5997 [==============================] - 0s 17us/step - loss: 1.4376 - acc: 0.5568 - val_loss: 1.5881 - val_acc: 0.4620\n",
      "Epoch 30/30\n",
      "5997/5997 [==============================] - 0s 17us/step - loss: 1.4298 - acc: 0.5566 - val_loss: 1.5726 - val_acc: 0.4920\n"
     ]
    }
   ],
   "source": [
    "# Import regularizers\n",
    "from keras import regularizers\n",
    "L2_model = models.Sequential()\n",
    "\n",
    "# Add the input and first hidden layer\n",
    "L2_model.add(layers.Dense(256, activation='relu', kernel_regularizer=regularizers.l2(0.005), input_shape=(29,)))\n",
    "\n",
    "# Add another hidden layer\n",
    "L2_model.add(layers.Dense(128, kernel_regularizer=regularizers.l2(0.005), activation='relu'))\n",
    "\n",
    "# Add an output layer\n",
    "L2_model.add(layers.Dense(8, activation='softmax'))\n",
    "\n",
    "# Compile the model\n",
    "L2_model.compile(optimizer='nadam', \n",
    "                 loss='sparse_categorical_crossentropy', \n",
    "                 metrics=['accuracy'])\n",
    "\n",
    "# Train the model \n",
    "L2_model_val = L2_model.fit(X_train, \n",
    "                            y_train_lab, \n",
    "                              epochs=30,\n",
    "                    batch_size=128 ,\n",
    "                            validation_data=(X_val,y_val_lab))"
   ]
  },
  {
   "cell_type": "code",
   "execution_count": 298,
   "metadata": {},
   "outputs": [
    {
     "name": "stdout",
     "output_type": "stream",
     "text": [
      "5997/5997 [==============================] - 0s 33us/step\n",
      "Training Loss: 1.39 \n",
      "Training Accuracy: 0.571\n",
      "----------\n",
      "1000/1000 [==============================] - 0s 30us/step\n",
      "Test Loss: 1.64 \n",
      "Test Accuracy: 0.486\n"
     ]
    }
   ],
   "source": [
    "results_train = L2_model.evaluate(X_train, y_train_lab)\n",
    "print(f'Training Loss: {results_train[0]:.3} \\nTraining Accuracy: {results_train[1]:.3}')\n",
    "\n",
    "print('----------')\n",
    "\n",
    "results_test = L2_model.evaluate(X_test, y_test_lab)\n",
    "print(f'Test Loss: {results_test[0]:.3} \\nTest Accuracy: {results_test[1]:.3}')"
   ]
  },
  {
   "cell_type": "code",
   "execution_count": 299,
   "metadata": {},
   "outputs": [
    {
     "ename": "ValueError",
     "evalue": "x and y must have same first dimension, but have shapes (50,) and (30,)",
     "output_type": "error",
     "traceback": [
      "\u001b[0;31m---------------------------------------------------------------------------\u001b[0m",
      "\u001b[0;31mValueError\u001b[0m                                Traceback (most recent call last)",
      "\u001b[0;32m<ipython-input-299-66a3d10319df>\u001b[0m in \u001b[0;36m<module>\u001b[0;34m\u001b[0m\n\u001b[1;32m     11\u001b[0m \u001b[0mfig\u001b[0m\u001b[0;34m,\u001b[0m \u001b[0max\u001b[0m \u001b[0;34m=\u001b[0m \u001b[0mplt\u001b[0m\u001b[0;34m.\u001b[0m\u001b[0msubplots\u001b[0m\u001b[0;34m(\u001b[0m\u001b[0mfigsize\u001b[0m\u001b[0;34m=\u001b[0m\u001b[0;34m(\u001b[0m\u001b[0;36m12\u001b[0m\u001b[0;34m,\u001b[0m \u001b[0;36m8\u001b[0m\u001b[0;34m)\u001b[0m\u001b[0;34m)\u001b[0m\u001b[0;34m\u001b[0m\u001b[0;34m\u001b[0m\u001b[0m\n\u001b[1;32m     12\u001b[0m \u001b[0mepochs\u001b[0m \u001b[0;34m=\u001b[0m \u001b[0mrange\u001b[0m\u001b[0;34m(\u001b[0m\u001b[0;36m1\u001b[0m\u001b[0;34m,\u001b[0m \u001b[0mlen\u001b[0m\u001b[0;34m(\u001b[0m\u001b[0macc_values\u001b[0m\u001b[0;34m)\u001b[0m \u001b[0;34m+\u001b[0m \u001b[0;36m1\u001b[0m\u001b[0;34m)\u001b[0m\u001b[0;34m\u001b[0m\u001b[0;34m\u001b[0m\u001b[0m\n\u001b[0;32m---> 13\u001b[0;31m \u001b[0max\u001b[0m\u001b[0;34m.\u001b[0m\u001b[0mplot\u001b[0m\u001b[0;34m(\u001b[0m\u001b[0mepochs\u001b[0m\u001b[0;34m,\u001b[0m \u001b[0mL2_acc_values\u001b[0m\u001b[0;34m,\u001b[0m \u001b[0mlabel\u001b[0m\u001b[0;34m=\u001b[0m\u001b[0;34m'Training acc (L2)'\u001b[0m\u001b[0;34m)\u001b[0m\u001b[0;34m\u001b[0m\u001b[0;34m\u001b[0m\u001b[0m\n\u001b[0m\u001b[1;32m     14\u001b[0m \u001b[0max\u001b[0m\u001b[0;34m.\u001b[0m\u001b[0mplot\u001b[0m\u001b[0;34m(\u001b[0m\u001b[0mepochs\u001b[0m\u001b[0;34m,\u001b[0m \u001b[0mL2_val_acc_values\u001b[0m\u001b[0;34m,\u001b[0m \u001b[0mlabel\u001b[0m\u001b[0;34m=\u001b[0m\u001b[0;34m'Validation acc (L2)'\u001b[0m\u001b[0;34m)\u001b[0m\u001b[0;34m\u001b[0m\u001b[0;34m\u001b[0m\u001b[0m\n\u001b[1;32m     15\u001b[0m \u001b[0max\u001b[0m\u001b[0;34m.\u001b[0m\u001b[0mplot\u001b[0m\u001b[0;34m(\u001b[0m\u001b[0mepochs\u001b[0m\u001b[0;34m,\u001b[0m \u001b[0mbaseline_model_acc\u001b[0m\u001b[0;34m,\u001b[0m \u001b[0mlabel\u001b[0m\u001b[0;34m=\u001b[0m\u001b[0;34m'Training acc (Baseline)'\u001b[0m\u001b[0;34m)\u001b[0m\u001b[0;34m\u001b[0m\u001b[0;34m\u001b[0m\u001b[0m\n",
      "\u001b[0;32m/opt/anaconda3/envs/learn-env/lib/python3.6/site-packages/matplotlib/axes/_axes.py\u001b[0m in \u001b[0;36mplot\u001b[0;34m(self, scalex, scaley, data, *args, **kwargs)\u001b[0m\n\u001b[1;32m   1664\u001b[0m         \"\"\"\n\u001b[1;32m   1665\u001b[0m         \u001b[0mkwargs\u001b[0m \u001b[0;34m=\u001b[0m \u001b[0mcbook\u001b[0m\u001b[0;34m.\u001b[0m\u001b[0mnormalize_kwargs\u001b[0m\u001b[0;34m(\u001b[0m\u001b[0mkwargs\u001b[0m\u001b[0;34m,\u001b[0m \u001b[0mmlines\u001b[0m\u001b[0;34m.\u001b[0m\u001b[0mLine2D\u001b[0m\u001b[0;34m.\u001b[0m\u001b[0m_alias_map\u001b[0m\u001b[0;34m)\u001b[0m\u001b[0;34m\u001b[0m\u001b[0;34m\u001b[0m\u001b[0m\n\u001b[0;32m-> 1666\u001b[0;31m         \u001b[0mlines\u001b[0m \u001b[0;34m=\u001b[0m \u001b[0;34m[\u001b[0m\u001b[0;34m*\u001b[0m\u001b[0mself\u001b[0m\u001b[0;34m.\u001b[0m\u001b[0m_get_lines\u001b[0m\u001b[0;34m(\u001b[0m\u001b[0;34m*\u001b[0m\u001b[0margs\u001b[0m\u001b[0;34m,\u001b[0m \u001b[0mdata\u001b[0m\u001b[0;34m=\u001b[0m\u001b[0mdata\u001b[0m\u001b[0;34m,\u001b[0m \u001b[0;34m**\u001b[0m\u001b[0mkwargs\u001b[0m\u001b[0;34m)\u001b[0m\u001b[0;34m]\u001b[0m\u001b[0;34m\u001b[0m\u001b[0;34m\u001b[0m\u001b[0m\n\u001b[0m\u001b[1;32m   1667\u001b[0m         \u001b[0;32mfor\u001b[0m \u001b[0mline\u001b[0m \u001b[0;32min\u001b[0m \u001b[0mlines\u001b[0m\u001b[0;34m:\u001b[0m\u001b[0;34m\u001b[0m\u001b[0;34m\u001b[0m\u001b[0m\n\u001b[1;32m   1668\u001b[0m             \u001b[0mself\u001b[0m\u001b[0;34m.\u001b[0m\u001b[0madd_line\u001b[0m\u001b[0;34m(\u001b[0m\u001b[0mline\u001b[0m\u001b[0;34m)\u001b[0m\u001b[0;34m\u001b[0m\u001b[0;34m\u001b[0m\u001b[0m\n",
      "\u001b[0;32m/opt/anaconda3/envs/learn-env/lib/python3.6/site-packages/matplotlib/axes/_base.py\u001b[0m in \u001b[0;36m__call__\u001b[0;34m(self, *args, **kwargs)\u001b[0m\n\u001b[1;32m    223\u001b[0m                 \u001b[0mthis\u001b[0m \u001b[0;34m+=\u001b[0m \u001b[0margs\u001b[0m\u001b[0;34m[\u001b[0m\u001b[0;36m0\u001b[0m\u001b[0;34m]\u001b[0m\u001b[0;34m,\u001b[0m\u001b[0;34m\u001b[0m\u001b[0;34m\u001b[0m\u001b[0m\n\u001b[1;32m    224\u001b[0m                 \u001b[0margs\u001b[0m \u001b[0;34m=\u001b[0m \u001b[0margs\u001b[0m\u001b[0;34m[\u001b[0m\u001b[0;36m1\u001b[0m\u001b[0;34m:\u001b[0m\u001b[0;34m]\u001b[0m\u001b[0;34m\u001b[0m\u001b[0;34m\u001b[0m\u001b[0m\n\u001b[0;32m--> 225\u001b[0;31m             \u001b[0;32myield\u001b[0m \u001b[0;32mfrom\u001b[0m \u001b[0mself\u001b[0m\u001b[0;34m.\u001b[0m\u001b[0m_plot_args\u001b[0m\u001b[0;34m(\u001b[0m\u001b[0mthis\u001b[0m\u001b[0;34m,\u001b[0m \u001b[0mkwargs\u001b[0m\u001b[0;34m)\u001b[0m\u001b[0;34m\u001b[0m\u001b[0;34m\u001b[0m\u001b[0m\n\u001b[0m\u001b[1;32m    226\u001b[0m \u001b[0;34m\u001b[0m\u001b[0m\n\u001b[1;32m    227\u001b[0m     \u001b[0;32mdef\u001b[0m \u001b[0mget_next_color\u001b[0m\u001b[0;34m(\u001b[0m\u001b[0mself\u001b[0m\u001b[0;34m)\u001b[0m\u001b[0;34m:\u001b[0m\u001b[0;34m\u001b[0m\u001b[0;34m\u001b[0m\u001b[0m\n",
      "\u001b[0;32m/opt/anaconda3/envs/learn-env/lib/python3.6/site-packages/matplotlib/axes/_base.py\u001b[0m in \u001b[0;36m_plot_args\u001b[0;34m(self, tup, kwargs)\u001b[0m\n\u001b[1;32m    389\u001b[0m             \u001b[0mx\u001b[0m\u001b[0;34m,\u001b[0m \u001b[0my\u001b[0m \u001b[0;34m=\u001b[0m \u001b[0mindex_of\u001b[0m\u001b[0;34m(\u001b[0m\u001b[0mtup\u001b[0m\u001b[0;34m[\u001b[0m\u001b[0;34m-\u001b[0m\u001b[0;36m1\u001b[0m\u001b[0;34m]\u001b[0m\u001b[0;34m)\u001b[0m\u001b[0;34m\u001b[0m\u001b[0;34m\u001b[0m\u001b[0m\n\u001b[1;32m    390\u001b[0m \u001b[0;34m\u001b[0m\u001b[0m\n\u001b[0;32m--> 391\u001b[0;31m         \u001b[0mx\u001b[0m\u001b[0;34m,\u001b[0m \u001b[0my\u001b[0m \u001b[0;34m=\u001b[0m \u001b[0mself\u001b[0m\u001b[0;34m.\u001b[0m\u001b[0m_xy_from_xy\u001b[0m\u001b[0;34m(\u001b[0m\u001b[0mx\u001b[0m\u001b[0;34m,\u001b[0m \u001b[0my\u001b[0m\u001b[0;34m)\u001b[0m\u001b[0;34m\u001b[0m\u001b[0;34m\u001b[0m\u001b[0m\n\u001b[0m\u001b[1;32m    392\u001b[0m \u001b[0;34m\u001b[0m\u001b[0m\n\u001b[1;32m    393\u001b[0m         \u001b[0;32mif\u001b[0m \u001b[0mself\u001b[0m\u001b[0;34m.\u001b[0m\u001b[0mcommand\u001b[0m \u001b[0;34m==\u001b[0m \u001b[0;34m'plot'\u001b[0m\u001b[0;34m:\u001b[0m\u001b[0;34m\u001b[0m\u001b[0;34m\u001b[0m\u001b[0m\n",
      "\u001b[0;32m/opt/anaconda3/envs/learn-env/lib/python3.6/site-packages/matplotlib/axes/_base.py\u001b[0m in \u001b[0;36m_xy_from_xy\u001b[0;34m(self, x, y)\u001b[0m\n\u001b[1;32m    268\u001b[0m         \u001b[0;32mif\u001b[0m \u001b[0mx\u001b[0m\u001b[0;34m.\u001b[0m\u001b[0mshape\u001b[0m\u001b[0;34m[\u001b[0m\u001b[0;36m0\u001b[0m\u001b[0;34m]\u001b[0m \u001b[0;34m!=\u001b[0m \u001b[0my\u001b[0m\u001b[0;34m.\u001b[0m\u001b[0mshape\u001b[0m\u001b[0;34m[\u001b[0m\u001b[0;36m0\u001b[0m\u001b[0;34m]\u001b[0m\u001b[0;34m:\u001b[0m\u001b[0;34m\u001b[0m\u001b[0;34m\u001b[0m\u001b[0m\n\u001b[1;32m    269\u001b[0m             raise ValueError(\"x and y must have same first dimension, but \"\n\u001b[0;32m--> 270\u001b[0;31m                              \"have shapes {} and {}\".format(x.shape, y.shape))\n\u001b[0m\u001b[1;32m    271\u001b[0m         \u001b[0;32mif\u001b[0m \u001b[0mx\u001b[0m\u001b[0;34m.\u001b[0m\u001b[0mndim\u001b[0m \u001b[0;34m>\u001b[0m \u001b[0;36m2\u001b[0m \u001b[0;32mor\u001b[0m \u001b[0my\u001b[0m\u001b[0;34m.\u001b[0m\u001b[0mndim\u001b[0m \u001b[0;34m>\u001b[0m \u001b[0;36m2\u001b[0m\u001b[0;34m:\u001b[0m\u001b[0;34m\u001b[0m\u001b[0;34m\u001b[0m\u001b[0m\n\u001b[1;32m    272\u001b[0m             raise ValueError(\"x and y can be no greater than 2-D, but have \"\n",
      "\u001b[0;31mValueError\u001b[0m: x and y must have same first dimension, but have shapes (50,) and (30,)"
     ]
    },
    {
     "data": {
      "image/png": "[encoded data removed]",
      "text/plain": [
       "<Figure size 864x576 with 1 Axes>"
      ]
     },
     "metadata": {
      "needs_background": "light"
     },
     "output_type": "display_data"
    }
   ],
   "source": [
    "# L2 model details\n",
    "L2_model_dict = L2_model_val.history\n",
    "L2_acc_values = L2_model_dict['acc'] \n",
    "L2_val_acc_values = L2_model_dict['val_acc']\n",
    "\n",
    "# Baseline model\n",
    "baseline_model_acc = baseline_model_val_dict['acc'] \n",
    "baseline_model_val_acc = baseline_model_val_dict['val_acc']\n",
    "\n",
    "# Plot the accuracy for these models\n",
    "fig, ax = plt.subplots(figsize=(12, 8))\n",
    "epochs = range(1, len(acc_values) + 1)\n",
    "ax.plot(epochs, L2_acc_values, label='Training acc (L2)')\n",
    "ax.plot(epochs, L2_val_acc_values, label='Validation acc (L2)')\n",
    "ax.plot(epochs, baseline_model_acc, label='Training acc (Baseline)')\n",
    "ax.plot(epochs, baseline_model_val_acc, label='Validation acc (Baseline)')\n",
    "ax.set_title('Training & validation accuracy L2 vs regular')\n",
    "ax.set_xlabel('Epochs')\n",
    "ax.set_ylabel('Loss')\n",
    "ax.legend();"
   ]
  },
  {
   "cell_type": "code",
   "execution_count": null,
   "metadata": {},
   "outputs": [],
   "source": []
  },
  {
   "cell_type": "code",
   "execution_count": 302,
   "metadata": {},
   "outputs": [
    {
     "name": "stdout",
     "output_type": "stream",
     "text": [
      "Train on 5997 samples, validate on 1000 samples\n",
      "Epoch 1/30\n",
      "5997/5997 [==============================] - 1s 185us/step - loss: 8.9392 - acc: 0.3025 - val_loss: 3.9812 - val_acc: 0.3740\n",
      "Epoch 2/30\n",
      "5997/5997 [==============================] - 0s 18us/step - loss: 2.5724 - acc: 0.3517 - val_loss: 2.0542 - val_acc: 0.3720\n",
      "Epoch 3/30\n",
      "5997/5997 [==============================] - 0s 16us/step - loss: 2.0222 - acc: 0.3625 - val_loss: 1.9582 - val_acc: 0.3710\n",
      "Epoch 4/30\n",
      "5997/5997 [==============================] - 0s 19us/step - loss: 1.9672 - acc: 0.3702 - val_loss: 1.9296 - val_acc: 0.3800\n",
      "Epoch 5/30\n",
      "5997/5997 [==============================] - 0s 18us/step - loss: 1.9412 - acc: 0.3782 - val_loss: 1.9002 - val_acc: 0.3940\n",
      "Epoch 6/30\n",
      "5997/5997 [==============================] - 0s 18us/step - loss: 1.9213 - acc: 0.3849 - val_loss: 1.8818 - val_acc: 0.4020\n",
      "Epoch 7/30\n",
      "5997/5997 [==============================] - 0s 17us/step - loss: 1.9016 - acc: 0.3929 - val_loss: 1.8695 - val_acc: 0.3890\n",
      "Epoch 8/30\n",
      "5997/5997 [==============================] - 0s 18us/step - loss: 1.8859 - acc: 0.3975 - val_loss: 1.8504 - val_acc: 0.4050\n",
      "Epoch 9/30\n",
      "5997/5997 [==============================] - 0s 18us/step - loss: 1.8717 - acc: 0.3980 - val_loss: 1.8435 - val_acc: 0.4040\n",
      "Epoch 10/30\n",
      "5997/5997 [==============================] - 0s 16us/step - loss: 1.8628 - acc: 0.4049 - val_loss: 1.8195 - val_acc: 0.4180\n",
      "Epoch 11/30\n",
      "5997/5997 [==============================] - 0s 18us/step - loss: 1.8499 - acc: 0.4095 - val_loss: 1.8121 - val_acc: 0.4210\n",
      "Epoch 12/30\n",
      "5997/5997 [==============================] - 0s 17us/step - loss: 1.8405 - acc: 0.4125 - val_loss: 1.7990 - val_acc: 0.4130\n",
      "Epoch 13/30\n",
      "5997/5997 [==============================] - 0s 17us/step - loss: 1.8343 - acc: 0.4135 - val_loss: 1.7956 - val_acc: 0.4300\n",
      "Epoch 14/30\n",
      "5997/5997 [==============================] - 0s 16us/step - loss: 1.8278 - acc: 0.4245 - val_loss: 1.7852 - val_acc: 0.4270\n",
      "Epoch 15/30\n",
      "5997/5997 [==============================] - 0s 16us/step - loss: 1.8245 - acc: 0.4220 - val_loss: 1.7781 - val_acc: 0.4300\n",
      "Epoch 16/30\n",
      "5997/5997 [==============================] - 0s 16us/step - loss: 1.8177 - acc: 0.4225 - val_loss: 1.7803 - val_acc: 0.4320\n",
      "Epoch 17/30\n",
      "5997/5997 [==============================] - 0s 16us/step - loss: 1.8136 - acc: 0.4214 - val_loss: 1.7774 - val_acc: 0.4200\n",
      "Epoch 18/30\n",
      "5997/5997 [==============================] - 0s 18us/step - loss: 1.8114 - acc: 0.4235 - val_loss: 1.7760 - val_acc: 0.4270\n",
      "Epoch 19/30\n",
      "5997/5997 [==============================] - 0s 18us/step - loss: 1.8077 - acc: 0.4232 - val_loss: 1.7622 - val_acc: 0.4340\n",
      "Epoch 20/30\n",
      "5997/5997 [==============================] - 0s 17us/step - loss: 1.8051 - acc: 0.4255 - val_loss: 1.7682 - val_acc: 0.4330\n",
      "Epoch 21/30\n",
      "5997/5997 [==============================] - 0s 17us/step - loss: 1.8014 - acc: 0.4324 - val_loss: 1.7655 - val_acc: 0.4250\n",
      "Epoch 22/30\n",
      "5997/5997 [==============================] - 0s 16us/step - loss: 1.8004 - acc: 0.4229 - val_loss: 1.7631 - val_acc: 0.4320\n",
      "Epoch 23/30\n",
      "5997/5997 [==============================] - 0s 17us/step - loss: 1.7964 - acc: 0.4274 - val_loss: 1.7574 - val_acc: 0.4390\n",
      "Epoch 24/30\n",
      "5997/5997 [==============================] - 0s 16us/step - loss: 1.7928 - acc: 0.4284 - val_loss: 1.7664 - val_acc: 0.4340\n",
      "Epoch 25/30\n",
      "5997/5997 [==============================] - 0s 18us/step - loss: 1.7912 - acc: 0.4272 - val_loss: 1.7488 - val_acc: 0.4320\n",
      "Epoch 26/30\n",
      "5997/5997 [==============================] - 0s 18us/step - loss: 1.7883 - acc: 0.4287 - val_loss: 1.7568 - val_acc: 0.4290\n",
      "Epoch 27/30\n",
      "5997/5997 [==============================] - 0s 18us/step - loss: 1.7878 - acc: 0.4279 - val_loss: 1.7473 - val_acc: 0.4310\n",
      "Epoch 28/30\n",
      "5997/5997 [==============================] - 0s 16us/step - loss: 1.7838 - acc: 0.4282 - val_loss: 1.7470 - val_acc: 0.4340\n",
      "Epoch 29/30\n",
      "5997/5997 [==============================] - 0s 17us/step - loss: 1.7818 - acc: 0.4280 - val_loss: 1.7439 - val_acc: 0.4460\n",
      "Epoch 30/30\n",
      "5997/5997 [==============================] - 0s 18us/step - loss: 1.7802 - acc: 0.4324 - val_loss: 1.7445 - val_acc: 0.4350\n"
     ]
    }
   ],
   "source": [
    "L1_model = models.Sequential()\n",
    "\n",
    "# Add the input and first hidden layer\n",
    "L1_model.add(layers.Dense(256, activation='relu', kernel_regularizer=regularizers.l1(0.005), input_shape=(29,)))\n",
    "\n",
    "# Add a hidden layer\n",
    "L1_model.add(layers.Dense(128, kernel_regularizer=regularizers.l1(0.005), activation='relu'))\n",
    "\n",
    "# Add an output layer\n",
    "L1_model.add(layers.Dense(8, activation='softmax'))\n",
    "\n",
    "# Compile the model\n",
    "L1_model.compile(optimizer='nadam', \n",
    "                 loss='sparse_categorical_crossentropy', \n",
    "                 metrics=['accuracy'])\n",
    "\n",
    "# Train the model \n",
    "L1_model_val = L1_model.fit(X_train, \n",
    "                            y_train_lab, \n",
    "                             epochs=30,\n",
    "                    batch_size=128 ,\n",
    "                            validation_data=(X_val,y_val_lab))"
   ]
  },
  {
   "cell_type": "code",
   "execution_count": 73,
   "metadata": {},
   "outputs": [
    {
     "data": {
      "image/png": "[encoded data removed]",
      "text/plain": [
       "<Figure size 864x576 with 1 Axes>"
      ]
     },
     "metadata": {
      "needs_background": "light"
     },
     "output_type": "display_data"
    }
   ],
   "source": [
    "fig, ax = plt.subplots(figsize=(12, 8))\n",
    "\n",
    "L1_model_dict = L1_model_val.history\n",
    "\n",
    "acc_values = L1_model_dict['acc'] \n",
    "val_acc_values = L1_model_dict['val_acc']\n",
    "\n",
    "epochs = range(1, len(acc_values) + 1)\n",
    "ax.plot(epochs, acc_values, label='Training acc L1')\n",
    "ax.plot(epochs, val_acc_values, label='Validation acc L1')\n",
    "ax.set_title('Training & validation accuracy with L1 regularization')\n",
    "ax.set_xlabel('Epochs')\n",
    "ax.set_ylabel('Loss')\n",
    "ax.legend();"
   ]
  },
  {
   "cell_type": "code",
   "execution_count": 303,
   "metadata": {},
   "outputs": [
    {
     "name": "stdout",
     "output_type": "stream",
     "text": [
      "5997/5997 [==============================] - 0s 36us/step\n",
      "Training Loss: 1.77 \n",
      "Training Accuracy: 0.442\n",
      "----------\n",
      "1000/1000 [==============================] - 0s 32us/step\n",
      "Test Loss: 1.8 \n",
      "Test Accuracy: 0.425\n"
     ]
    }
   ],
   "source": [
    "results_train = L1_model.evaluate(X_train, y_train_lab)\n",
    "print(f'Training Loss: {results_train[0]:.3} \\nTraining Accuracy: {results_train[1]:.3}')\n",
    "\n",
    "print('----------')\n",
    "\n",
    "results_test = L1_model.evaluate(X_test, y_test_lab)\n",
    "print(f'Test Loss: {results_test[0]:.3} \\nTest Accuracy: {results_test[1]:.3}')"
   ]
  },
  {
   "cell_type": "code",
   "execution_count": 304,
   "metadata": {},
   "outputs": [
    {
     "name": "stdout",
     "output_type": "stream",
     "text": [
      "Train on 5997 samples, validate on 1000 samples\n",
      "Epoch 1/70\n",
      "5997/5997 [==============================] - 1s 219us/step - loss: 4.3452 - acc: 0.3317 - val_loss: 2.0157 - val_acc: 0.3480\n",
      "Epoch 2/70\n",
      "5997/5997 [==============================] - 0s 54us/step - loss: 1.9635 - acc: 0.3722 - val_loss: 1.9166 - val_acc: 0.3890\n",
      "Epoch 3/70\n",
      "5997/5997 [==============================] - 0s 52us/step - loss: 1.9082 - acc: 0.3850 - val_loss: 1.8929 - val_acc: 0.4000\n",
      "Epoch 4/70\n",
      "5997/5997 [==============================] - 0s 53us/step - loss: 1.8835 - acc: 0.3959 - val_loss: 1.8392 - val_acc: 0.4140\n",
      "Epoch 5/70\n",
      "5997/5997 [==============================] - 0s 52us/step - loss: 1.8627 - acc: 0.3982 - val_loss: 1.8364 - val_acc: 0.4130\n",
      "Epoch 6/70\n",
      "5997/5997 [==============================] - 0s 53us/step - loss: 1.8499 - acc: 0.4074 - val_loss: 1.8055 - val_acc: 0.4290\n",
      "Epoch 7/70\n",
      "5997/5997 [==============================] - 0s 54us/step - loss: 1.8338 - acc: 0.4097 - val_loss: 1.7916 - val_acc: 0.4320\n",
      "Epoch 8/70\n",
      "5997/5997 [==============================] - 0s 52us/step - loss: 1.8228 - acc: 0.4115 - val_loss: 1.7960 - val_acc: 0.4190\n",
      "Epoch 9/70\n",
      "5997/5997 [==============================] - 0s 52us/step - loss: 1.8135 - acc: 0.4177 - val_loss: 1.7765 - val_acc: 0.4260\n",
      "Epoch 10/70\n",
      "5997/5997 [==============================] - 0s 52us/step - loss: 1.8037 - acc: 0.4197 - val_loss: 1.7743 - val_acc: 0.4410\n",
      "Epoch 11/70\n",
      "5997/5997 [==============================] - 0s 52us/step - loss: 1.7976 - acc: 0.4202 - val_loss: 1.7675 - val_acc: 0.4280\n",
      "Epoch 12/70\n",
      "5997/5997 [==============================] - 0s 50us/step - loss: 1.7899 - acc: 0.4284 - val_loss: 1.7593 - val_acc: 0.4380\n",
      "Epoch 13/70\n",
      "5997/5997 [==============================] - 0s 51us/step - loss: 1.7827 - acc: 0.4284 - val_loss: 1.7503 - val_acc: 0.4360\n",
      "Epoch 14/70\n",
      "5997/5997 [==============================] - 0s 52us/step - loss: 1.7764 - acc: 0.4302 - val_loss: 1.7420 - val_acc: 0.4480\n",
      "Epoch 15/70\n",
      "5997/5997 [==============================] - 0s 50us/step - loss: 1.7716 - acc: 0.4309 - val_loss: 1.7391 - val_acc: 0.4370\n",
      "Epoch 16/70\n",
      "5997/5997 [==============================] - 0s 51us/step - loss: 1.7676 - acc: 0.4351 - val_loss: 1.7444 - val_acc: 0.4440\n",
      "Epoch 17/70\n",
      "5997/5997 [==============================] - 0s 52us/step - loss: 1.7619 - acc: 0.4330 - val_loss: 1.7463 - val_acc: 0.4310\n",
      "Epoch 18/70\n",
      "5997/5997 [==============================] - 0s 50us/step - loss: 1.7617 - acc: 0.4391 - val_loss: 1.7384 - val_acc: 0.4340\n",
      "Epoch 19/70\n",
      "5997/5997 [==============================] - 0s 52us/step - loss: 1.7550 - acc: 0.4411 - val_loss: 1.7286 - val_acc: 0.4400\n",
      "Epoch 20/70\n",
      "5997/5997 [==============================] - 0s 61us/step - loss: 1.7503 - acc: 0.4424 - val_loss: 1.7370 - val_acc: 0.4290\n",
      "Epoch 21/70\n",
      "5997/5997 [==============================] - 0s 62us/step - loss: 1.7488 - acc: 0.4401 - val_loss: 1.7175 - val_acc: 0.4510\n",
      "Epoch 22/70\n",
      "5997/5997 [==============================] - 0s 58us/step - loss: 1.7449 - acc: 0.4434 - val_loss: 1.7179 - val_acc: 0.4480\n",
      "Epoch 23/70\n",
      "5997/5997 [==============================] - 0s 56us/step - loss: 1.7423 - acc: 0.4431 - val_loss: 1.7175 - val_acc: 0.4440\n",
      "Epoch 24/70\n",
      "5997/5997 [==============================] - 0s 57us/step - loss: 1.7392 - acc: 0.4424 - val_loss: 1.7061 - val_acc: 0.4530\n",
      "Epoch 25/70\n",
      "5997/5997 [==============================] - 0s 51us/step - loss: 1.7360 - acc: 0.4427 - val_loss: 1.7123 - val_acc: 0.4510\n",
      "Epoch 26/70\n",
      "5997/5997 [==============================] - 0s 51us/step - loss: 1.7362 - acc: 0.4452 - val_loss: 1.7150 - val_acc: 0.4340\n",
      "Epoch 27/70\n",
      "5997/5997 [==============================] - 0s 53us/step - loss: 1.7293 - acc: 0.4426 - val_loss: 1.7119 - val_acc: 0.4470\n",
      "Epoch 28/70\n",
      "5997/5997 [==============================] - 0s 53us/step - loss: 1.7314 - acc: 0.4424 - val_loss: 1.7084 - val_acc: 0.4330\n",
      "Epoch 29/70\n",
      "5824/5997 [============================>.] - ETA: 0s - loss: 1.7294 - acc: 0.4449"
     ]
    },
    {
     "ename": "KeyboardInterrupt",
     "evalue": "",
     "output_type": "error",
     "traceback": [
      "\u001b[0;31m---------------------------------------------------------------------------\u001b[0m",
      "\u001b[0;31mKeyboardInterrupt\u001b[0m                         Traceback (most recent call last)",
      "\u001b[0;32m<ipython-input-304-0b421360a915>\u001b[0m in \u001b[0;36m<module>\u001b[0;34m\u001b[0m\n\u001b[1;32m     19\u001b[0m                             \u001b[0my_train_lab\u001b[0m\u001b[0;34m,\u001b[0m\u001b[0;34m\u001b[0m\u001b[0;34m\u001b[0m\u001b[0m\n\u001b[1;32m     20\u001b[0m                             \u001b[0mepochs\u001b[0m\u001b[0;34m=\u001b[0m\u001b[0;36m70\u001b[0m\u001b[0;34m,\u001b[0m\u001b[0;34m\u001b[0m\u001b[0;34m\u001b[0m\u001b[0m\n\u001b[0;32m---> 21\u001b[0;31m                             validation_data=(X_val,y_val_lab))\n\u001b[0m",
      "\u001b[0;32m/opt/anaconda3/envs/learn-env/lib/python3.6/site-packages/keras/engine/training.py\u001b[0m in \u001b[0;36mfit\u001b[0;34m(self, x, y, batch_size, epochs, verbose, callbacks, validation_split, validation_data, shuffle, class_weight, sample_weight, initial_epoch, steps_per_epoch, validation_steps, **kwargs)\u001b[0m\n\u001b[1;32m   1037\u001b[0m                                         \u001b[0minitial_epoch\u001b[0m\u001b[0;34m=\u001b[0m\u001b[0minitial_epoch\u001b[0m\u001b[0;34m,\u001b[0m\u001b[0;34m\u001b[0m\u001b[0;34m\u001b[0m\u001b[0m\n\u001b[1;32m   1038\u001b[0m                                         \u001b[0msteps_per_epoch\u001b[0m\u001b[0;34m=\u001b[0m\u001b[0msteps_per_epoch\u001b[0m\u001b[0;34m,\u001b[0m\u001b[0;34m\u001b[0m\u001b[0;34m\u001b[0m\u001b[0m\n\u001b[0;32m-> 1039\u001b[0;31m                                         validation_steps=validation_steps)\n\u001b[0m\u001b[1;32m   1040\u001b[0m \u001b[0;34m\u001b[0m\u001b[0m\n\u001b[1;32m   1041\u001b[0m     def evaluate(self, x=None, y=None,\n",
      "\u001b[0;32m/opt/anaconda3/envs/learn-env/lib/python3.6/site-packages/keras/engine/training_arrays.py\u001b[0m in \u001b[0;36mfit_loop\u001b[0;34m(model, f, ins, out_labels, batch_size, epochs, verbose, callbacks, val_f, val_ins, shuffle, callback_metrics, initial_epoch, steps_per_epoch, validation_steps)\u001b[0m\n\u001b[1;32m    210\u001b[0m                         val_outs = test_loop(model, val_f, val_ins,\n\u001b[1;32m    211\u001b[0m                                              \u001b[0mbatch_size\u001b[0m\u001b[0;34m=\u001b[0m\u001b[0mbatch_size\u001b[0m\u001b[0;34m,\u001b[0m\u001b[0;34m\u001b[0m\u001b[0;34m\u001b[0m\u001b[0m\n\u001b[0;32m--> 212\u001b[0;31m                                              verbose=0)\n\u001b[0m\u001b[1;32m    213\u001b[0m                         \u001b[0mval_outs\u001b[0m \u001b[0;34m=\u001b[0m \u001b[0mto_list\u001b[0m\u001b[0;34m(\u001b[0m\u001b[0mval_outs\u001b[0m\u001b[0;34m)\u001b[0m\u001b[0;34m\u001b[0m\u001b[0;34m\u001b[0m\u001b[0m\n\u001b[1;32m    214\u001b[0m                         \u001b[0;31m# Same labels assumed.\u001b[0m\u001b[0;34m\u001b[0m\u001b[0;34m\u001b[0m\u001b[0;34m\u001b[0m\u001b[0m\n",
      "\u001b[0;32m/opt/anaconda3/envs/learn-env/lib/python3.6/site-packages/keras/engine/training_arrays.py\u001b[0m in \u001b[0;36mtest_loop\u001b[0;34m(model, f, ins, batch_size, verbose, steps)\u001b[0m\n\u001b[1;32m    390\u001b[0m                 \u001b[0mins_batch\u001b[0m\u001b[0;34m[\u001b[0m\u001b[0mi\u001b[0m\u001b[0;34m]\u001b[0m \u001b[0;34m=\u001b[0m \u001b[0mins_batch\u001b[0m\u001b[0;34m[\u001b[0m\u001b[0mi\u001b[0m\u001b[0;34m]\u001b[0m\u001b[0;34m.\u001b[0m\u001b[0mtoarray\u001b[0m\u001b[0;34m(\u001b[0m\u001b[0;34m)\u001b[0m\u001b[0;34m\u001b[0m\u001b[0;34m\u001b[0m\u001b[0m\n\u001b[1;32m    391\u001b[0m \u001b[0;34m\u001b[0m\u001b[0m\n\u001b[0;32m--> 392\u001b[0;31m             \u001b[0mbatch_outs\u001b[0m \u001b[0;34m=\u001b[0m \u001b[0mf\u001b[0m\u001b[0;34m(\u001b[0m\u001b[0mins_batch\u001b[0m\u001b[0;34m)\u001b[0m\u001b[0;34m\u001b[0m\u001b[0;34m\u001b[0m\u001b[0m\n\u001b[0m\u001b[1;32m    393\u001b[0m             \u001b[0;32mif\u001b[0m \u001b[0misinstance\u001b[0m\u001b[0;34m(\u001b[0m\u001b[0mbatch_outs\u001b[0m\u001b[0;34m,\u001b[0m \u001b[0mlist\u001b[0m\u001b[0;34m)\u001b[0m\u001b[0;34m:\u001b[0m\u001b[0;34m\u001b[0m\u001b[0;34m\u001b[0m\u001b[0m\n\u001b[1;32m    394\u001b[0m                 \u001b[0;32mif\u001b[0m \u001b[0mbatch_index\u001b[0m \u001b[0;34m==\u001b[0m \u001b[0;36m0\u001b[0m\u001b[0;34m:\u001b[0m\u001b[0;34m\u001b[0m\u001b[0;34m\u001b[0m\u001b[0m\n",
      "\u001b[0;32m/opt/anaconda3/envs/learn-env/lib/python3.6/site-packages/keras/backend/tensorflow_backend.py\u001b[0m in \u001b[0;36m__call__\u001b[0;34m(self, inputs)\u001b[0m\n\u001b[1;32m   2719\u001b[0m                     \u001b[0;34m'In order to feed symbolic tensors to a Keras model '\u001b[0m\u001b[0;34m\u001b[0m\u001b[0;34m\u001b[0m\u001b[0m\n\u001b[1;32m   2720\u001b[0m                     'in TensorFlow, you need tensorflow 1.8 or higher.')\n\u001b[0;32m-> 2721\u001b[0;31m             \u001b[0;32mreturn\u001b[0m \u001b[0mself\u001b[0m\u001b[0;34m.\u001b[0m\u001b[0m_legacy_call\u001b[0m\u001b[0;34m(\u001b[0m\u001b[0minputs\u001b[0m\u001b[0;34m)\u001b[0m\u001b[0;34m\u001b[0m\u001b[0;34m\u001b[0m\u001b[0m\n\u001b[0m\u001b[1;32m   2722\u001b[0m \u001b[0;34m\u001b[0m\u001b[0m\n\u001b[1;32m   2723\u001b[0m \u001b[0;34m\u001b[0m\u001b[0m\n",
      "\u001b[0;32m/opt/anaconda3/envs/learn-env/lib/python3.6/site-packages/keras/backend/tensorflow_backend.py\u001b[0m in \u001b[0;36m_legacy_call\u001b[0;34m(self, inputs)\u001b[0m\n\u001b[1;32m   2691\u001b[0m         \u001b[0msession\u001b[0m \u001b[0;34m=\u001b[0m \u001b[0mget_session\u001b[0m\u001b[0;34m(\u001b[0m\u001b[0;34m)\u001b[0m\u001b[0;34m\u001b[0m\u001b[0;34m\u001b[0m\u001b[0m\n\u001b[1;32m   2692\u001b[0m         updated = session.run(fetches=fetches, feed_dict=feed_dict,\n\u001b[0;32m-> 2693\u001b[0;31m                               **self.session_kwargs)\n\u001b[0m\u001b[1;32m   2694\u001b[0m         \u001b[0;32mreturn\u001b[0m \u001b[0mupdated\u001b[0m\u001b[0;34m[\u001b[0m\u001b[0;34m:\u001b[0m\u001b[0mlen\u001b[0m\u001b[0;34m(\u001b[0m\u001b[0mself\u001b[0m\u001b[0;34m.\u001b[0m\u001b[0moutputs\u001b[0m\u001b[0;34m)\u001b[0m\u001b[0;34m]\u001b[0m\u001b[0;34m\u001b[0m\u001b[0;34m\u001b[0m\u001b[0m\n\u001b[1;32m   2695\u001b[0m \u001b[0;34m\u001b[0m\u001b[0m\n",
      "\u001b[0;32m/opt/anaconda3/envs/learn-env/lib/python3.6/site-packages/tensorflow/python/client/session.py\u001b[0m in \u001b[0;36mrun\u001b[0;34m(self, fetches, feed_dict, options, run_metadata)\u001b[0m\n\u001b[1;32m    903\u001b[0m     \u001b[0;32mtry\u001b[0m\u001b[0;34m:\u001b[0m\u001b[0;34m\u001b[0m\u001b[0;34m\u001b[0m\u001b[0m\n\u001b[1;32m    904\u001b[0m       result = self._run(None, fetches, feed_dict, options_ptr,\n\u001b[0;32m--> 905\u001b[0;31m                          run_metadata_ptr)\n\u001b[0m\u001b[1;32m    906\u001b[0m       \u001b[0;32mif\u001b[0m \u001b[0mrun_metadata\u001b[0m\u001b[0;34m:\u001b[0m\u001b[0;34m\u001b[0m\u001b[0;34m\u001b[0m\u001b[0m\n\u001b[1;32m    907\u001b[0m         \u001b[0mproto_data\u001b[0m \u001b[0;34m=\u001b[0m \u001b[0mtf_session\u001b[0m\u001b[0;34m.\u001b[0m\u001b[0mTF_GetBuffer\u001b[0m\u001b[0;34m(\u001b[0m\u001b[0mrun_metadata_ptr\u001b[0m\u001b[0;34m)\u001b[0m\u001b[0;34m\u001b[0m\u001b[0;34m\u001b[0m\u001b[0m\n",
      "\u001b[0;32m/opt/anaconda3/envs/learn-env/lib/python3.6/site-packages/tensorflow/python/client/session.py\u001b[0m in \u001b[0;36m_run\u001b[0;34m(self, handle, fetches, feed_dict, options, run_metadata)\u001b[0m\n\u001b[1;32m   1135\u001b[0m     \u001b[0;32mif\u001b[0m \u001b[0mfinal_fetches\u001b[0m \u001b[0;32mor\u001b[0m \u001b[0mfinal_targets\u001b[0m \u001b[0;32mor\u001b[0m \u001b[0;34m(\u001b[0m\u001b[0mhandle\u001b[0m \u001b[0;32mand\u001b[0m \u001b[0mfeed_dict_tensor\u001b[0m\u001b[0;34m)\u001b[0m\u001b[0;34m:\u001b[0m\u001b[0;34m\u001b[0m\u001b[0;34m\u001b[0m\u001b[0m\n\u001b[1;32m   1136\u001b[0m       results = self._do_run(handle, final_targets, final_fetches,\n\u001b[0;32m-> 1137\u001b[0;31m                              feed_dict_tensor, options, run_metadata)\n\u001b[0m\u001b[1;32m   1138\u001b[0m     \u001b[0;32melse\u001b[0m\u001b[0;34m:\u001b[0m\u001b[0;34m\u001b[0m\u001b[0;34m\u001b[0m\u001b[0m\n\u001b[1;32m   1139\u001b[0m       \u001b[0mresults\u001b[0m \u001b[0;34m=\u001b[0m \u001b[0;34m[\u001b[0m\u001b[0;34m]\u001b[0m\u001b[0;34m\u001b[0m\u001b[0;34m\u001b[0m\u001b[0m\n",
      "\u001b[0;32m/opt/anaconda3/envs/learn-env/lib/python3.6/site-packages/tensorflow/python/client/session.py\u001b[0m in \u001b[0;36m_do_run\u001b[0;34m(self, handle, target_list, fetch_list, feed_dict, options, run_metadata)\u001b[0m\n\u001b[1;32m   1353\u001b[0m     \u001b[0;32mif\u001b[0m \u001b[0mhandle\u001b[0m \u001b[0;32mis\u001b[0m \u001b[0;32mNone\u001b[0m\u001b[0;34m:\u001b[0m\u001b[0;34m\u001b[0m\u001b[0;34m\u001b[0m\u001b[0m\n\u001b[1;32m   1354\u001b[0m       return self._do_call(_run_fn, self._session, feeds, fetches, targets,\n\u001b[0;32m-> 1355\u001b[0;31m                            options, run_metadata)\n\u001b[0m\u001b[1;32m   1356\u001b[0m     \u001b[0;32melse\u001b[0m\u001b[0;34m:\u001b[0m\u001b[0;34m\u001b[0m\u001b[0;34m\u001b[0m\u001b[0m\n\u001b[1;32m   1357\u001b[0m       \u001b[0;32mreturn\u001b[0m \u001b[0mself\u001b[0m\u001b[0;34m.\u001b[0m\u001b[0m_do_call\u001b[0m\u001b[0;34m(\u001b[0m\u001b[0m_prun_fn\u001b[0m\u001b[0;34m,\u001b[0m \u001b[0mself\u001b[0m\u001b[0;34m.\u001b[0m\u001b[0m_session\u001b[0m\u001b[0;34m,\u001b[0m \u001b[0mhandle\u001b[0m\u001b[0;34m,\u001b[0m \u001b[0mfeeds\u001b[0m\u001b[0;34m,\u001b[0m \u001b[0mfetches\u001b[0m\u001b[0;34m)\u001b[0m\u001b[0;34m\u001b[0m\u001b[0;34m\u001b[0m\u001b[0m\n",
      "\u001b[0;32m/opt/anaconda3/envs/learn-env/lib/python3.6/site-packages/tensorflow/python/client/session.py\u001b[0m in \u001b[0;36m_do_call\u001b[0;34m(self, fn, *args)\u001b[0m\n\u001b[1;32m   1359\u001b[0m   \u001b[0;32mdef\u001b[0m \u001b[0m_do_call\u001b[0m\u001b[0;34m(\u001b[0m\u001b[0mself\u001b[0m\u001b[0;34m,\u001b[0m \u001b[0mfn\u001b[0m\u001b[0;34m,\u001b[0m \u001b[0;34m*\u001b[0m\u001b[0margs\u001b[0m\u001b[0;34m)\u001b[0m\u001b[0;34m:\u001b[0m\u001b[0;34m\u001b[0m\u001b[0;34m\u001b[0m\u001b[0m\n\u001b[1;32m   1360\u001b[0m     \u001b[0;32mtry\u001b[0m\u001b[0;34m:\u001b[0m\u001b[0;34m\u001b[0m\u001b[0;34m\u001b[0m\u001b[0m\n\u001b[0;32m-> 1361\u001b[0;31m       \u001b[0;32mreturn\u001b[0m \u001b[0mfn\u001b[0m\u001b[0;34m(\u001b[0m\u001b[0;34m*\u001b[0m\u001b[0margs\u001b[0m\u001b[0;34m)\u001b[0m\u001b[0;34m\u001b[0m\u001b[0;34m\u001b[0m\u001b[0m\n\u001b[0m\u001b[1;32m   1362\u001b[0m     \u001b[0;32mexcept\u001b[0m \u001b[0merrors\u001b[0m\u001b[0;34m.\u001b[0m\u001b[0mOpError\u001b[0m \u001b[0;32mas\u001b[0m \u001b[0me\u001b[0m\u001b[0;34m:\u001b[0m\u001b[0;34m\u001b[0m\u001b[0;34m\u001b[0m\u001b[0m\n\u001b[1;32m   1363\u001b[0m       \u001b[0mmessage\u001b[0m \u001b[0;34m=\u001b[0m \u001b[0mcompat\u001b[0m\u001b[0;34m.\u001b[0m\u001b[0mas_text\u001b[0m\u001b[0;34m(\u001b[0m\u001b[0me\u001b[0m\u001b[0;34m.\u001b[0m\u001b[0mmessage\u001b[0m\u001b[0;34m)\u001b[0m\u001b[0;34m\u001b[0m\u001b[0;34m\u001b[0m\u001b[0m\n",
      "\u001b[0;32m/opt/anaconda3/envs/learn-env/lib/python3.6/site-packages/tensorflow/python/client/session.py\u001b[0m in \u001b[0;36m_run_fn\u001b[0;34m(session, feed_dict, fetch_list, target_list, options, run_metadata)\u001b[0m\n\u001b[1;32m   1338\u001b[0m         \u001b[0;32melse\u001b[0m\u001b[0;34m:\u001b[0m\u001b[0;34m\u001b[0m\u001b[0;34m\u001b[0m\u001b[0m\n\u001b[1;32m   1339\u001b[0m           return tf_session.TF_Run(session, options, feed_dict, fetch_list,\n\u001b[0;32m-> 1340\u001b[0;31m                                    target_list, status, run_metadata)\n\u001b[0m\u001b[1;32m   1341\u001b[0m \u001b[0;34m\u001b[0m\u001b[0m\n\u001b[1;32m   1342\u001b[0m     \u001b[0;32mdef\u001b[0m \u001b[0m_prun_fn\u001b[0m\u001b[0;34m(\u001b[0m\u001b[0msession\u001b[0m\u001b[0;34m,\u001b[0m \u001b[0mhandle\u001b[0m\u001b[0;34m,\u001b[0m \u001b[0mfeed_dict\u001b[0m\u001b[0;34m,\u001b[0m \u001b[0mfetch_list\u001b[0m\u001b[0;34m)\u001b[0m\u001b[0;34m:\u001b[0m\u001b[0;34m\u001b[0m\u001b[0;34m\u001b[0m\u001b[0m\n",
      "\u001b[0;31mKeyboardInterrupt\u001b[0m: "
     ]
    }
   ],
   "source": [
    "L1_model2 = models.Sequential()\n",
    "\n",
    "# Add the input and first hidden layer\n",
    "L1_model2.add(layers.Dense(256, activation='relu', kernel_regularizer=regularizers.l1(0.005), input_shape=(29,)))\n",
    "\n",
    "# Add a hidden layer\n",
    "L1_model2.add(layers.Dense(128, kernel_regularizer=regularizers.l1(0.005), activation='relu'))\n",
    "\n",
    "# Add an output layer\n",
    "L1_model2.add(layers.Dense(8, activation='softmax'))\n",
    "\n",
    "# Compile the model\n",
    "L1_model2.compile(optimizer='nadam', \n",
    "                 loss='sparse_categorical_crossentropy', \n",
    "                 metrics=['accuracy'])\n",
    "\n",
    "# Train the model \n",
    "L1_model2_val = L1_model2.fit(X_train, \n",
    "                            y_train_lab, \n",
    "                            epochs=70, \n",
    "                            validation_data=(X_val,y_val_lab))"
   ]
  },
  {
   "cell_type": "code",
   "execution_count": 308,
   "metadata": {},
   "outputs": [
    {
     "name": "stdout",
     "output_type": "stream",
     "text": [
      "5997/5997 [==============================] - 1s 167us/step\n",
      "Training Loss: 1.71 \n",
      "Training Accuracy: 0.447\n",
      "----------\n",
      "1000/1000 [==============================] - 0s 33us/step\n",
      "Test Loss: 1.75 \n",
      "Test Accuracy: 0.445\n"
     ]
    }
   ],
   "source": [
    "results_train = L1_model2.evaluate(X_train, y_train_lab)\n",
    "print(f'Training Loss: {results_train[0]:.3} \\nTraining Accuracy: {results_train[1]:.3}')\n",
    "\n",
    "print('----------')\n",
    "\n",
    "results_test = L1_model2.evaluate(X_test, y_test_lab)\n",
    "print(f'Test Loss: {results_test[0]:.3} \\nTest Accuracy: {results_test[1]:.3}')"
   ]
  },
  {
   "cell_type": "code",
   "execution_count": 309,
   "metadata": {
    "scrolled": true
   },
   "outputs": [
    {
     "name": "stdout",
     "output_type": "stream",
     "text": [
      "Train on 5997 samples, validate on 1000 samples\n",
      "Epoch 1/30\n",
      "5997/5997 [==============================] - 1s 219us/step - loss: 1.8803 - acc: 0.2956 - val_loss: 1.6433 - val_acc: 0.4110\n",
      "Epoch 2/30\n",
      "5997/5997 [==============================] - 0s 25us/step - loss: 1.7578 - acc: 0.3445 - val_loss: 1.5931 - val_acc: 0.4070\n",
      "Epoch 3/30\n",
      "5997/5997 [==============================] - 0s 24us/step - loss: 1.7304 - acc: 0.3648 - val_loss: 1.5814 - val_acc: 0.4190\n",
      "Epoch 4/30\n",
      "5997/5997 [==============================] - 0s 24us/step - loss: 1.7049 - acc: 0.3744 - val_loss: 1.5663 - val_acc: 0.4320\n",
      "Epoch 5/30\n",
      "5997/5997 [==============================] - 0s 24us/step - loss: 1.6872 - acc: 0.3890 - val_loss: 1.5373 - val_acc: 0.4230\n",
      "Epoch 6/30\n",
      "5997/5997 [==============================] - 0s 23us/step - loss: 1.6644 - acc: 0.3890 - val_loss: 1.5346 - val_acc: 0.4270\n",
      "Epoch 7/30\n",
      "5997/5997 [==============================] - 0s 24us/step - loss: 1.6804 - acc: 0.3800 - val_loss: 1.5359 - val_acc: 0.4310\n",
      "Epoch 8/30\n",
      "5997/5997 [==============================] - 0s 25us/step - loss: 1.6513 - acc: 0.3897 - val_loss: 1.5316 - val_acc: 0.4380\n",
      "Epoch 9/30\n",
      "5997/5997 [==============================] - 0s 22us/step - loss: 1.6553 - acc: 0.3867 - val_loss: 1.5156 - val_acc: 0.4400\n",
      "Epoch 10/30\n",
      "5997/5997 [==============================] - 0s 22us/step - loss: 1.6427 - acc: 0.3955 - val_loss: 1.5074 - val_acc: 0.4460\n",
      "Epoch 11/30\n",
      "5997/5997 [==============================] - 0s 22us/step - loss: 1.6454 - acc: 0.3979 - val_loss: 1.5164 - val_acc: 0.4310\n",
      "Epoch 12/30\n",
      "5997/5997 [==============================] - 0s 21us/step - loss: 1.6269 - acc: 0.4060 - val_loss: 1.5092 - val_acc: 0.4340\n",
      "Epoch 13/30\n",
      "5997/5997 [==============================] - 0s 25us/step - loss: 1.6404 - acc: 0.4029 - val_loss: 1.4998 - val_acc: 0.4430\n",
      "Epoch 14/30\n",
      "5997/5997 [==============================] - 0s 24us/step - loss: 1.6239 - acc: 0.4155 - val_loss: 1.4963 - val_acc: 0.4440\n",
      "Epoch 15/30\n",
      "5997/5997 [==============================] - 0s 24us/step - loss: 1.6251 - acc: 0.3950 - val_loss: 1.5064 - val_acc: 0.4490\n",
      "Epoch 16/30\n",
      "5997/5997 [==============================] - 0s 24us/step - loss: 1.6384 - acc: 0.3969 - val_loss: 1.5053 - val_acc: 0.4490\n",
      "Epoch 17/30\n",
      "5997/5997 [==============================] - 0s 23us/step - loss: 1.6225 - acc: 0.4082 - val_loss: 1.4843 - val_acc: 0.4580\n",
      "Epoch 18/30\n",
      "5997/5997 [==============================] - 0s 23us/step - loss: 1.6058 - acc: 0.4174 - val_loss: 1.4889 - val_acc: 0.4500\n",
      "Epoch 19/30\n",
      "5997/5997 [==============================] - 0s 26us/step - loss: 1.6215 - acc: 0.4107 - val_loss: 1.4998 - val_acc: 0.4450\n",
      "Epoch 20/30\n",
      "5997/5997 [==============================] - 0s 24us/step - loss: 1.6000 - acc: 0.4169 - val_loss: 1.5042 - val_acc: 0.4540\n",
      "Epoch 21/30\n",
      "5997/5997 [==============================] - 0s 22us/step - loss: 1.5896 - acc: 0.4182 - val_loss: 1.4798 - val_acc: 0.4490\n",
      "Epoch 22/30\n",
      "5997/5997 [==============================] - 0s 22us/step - loss: 1.6070 - acc: 0.4120 - val_loss: 1.4968 - val_acc: 0.4340\n",
      "Epoch 23/30\n",
      "5997/5997 [==============================] - 0s 23us/step - loss: 1.5937 - acc: 0.4164 - val_loss: 1.4809 - val_acc: 0.4580\n",
      "Epoch 24/30\n",
      "5997/5997 [==============================] - 0s 25us/step - loss: 1.5861 - acc: 0.4180 - val_loss: 1.4851 - val_acc: 0.4530\n",
      "Epoch 25/30\n",
      "5997/5997 [==============================] - 0s 23us/step - loss: 1.6042 - acc: 0.4132 - val_loss: 1.4866 - val_acc: 0.4560\n",
      "Epoch 26/30\n",
      "5997/5997 [==============================] - 0s 24us/step - loss: 1.5996 - acc: 0.4105 - val_loss: 1.4791 - val_acc: 0.4530\n",
      "Epoch 27/30\n",
      "5997/5997 [==============================] - 0s 21us/step - loss: 1.5942 - acc: 0.4177 - val_loss: 1.4921 - val_acc: 0.4500\n",
      "Epoch 28/30\n",
      "5997/5997 [==============================] - 0s 21us/step - loss: 1.5827 - acc: 0.4192 - val_loss: 1.4777 - val_acc: 0.4480\n",
      "Epoch 29/30\n",
      "5997/5997 [==============================] - 0s 22us/step - loss: 1.5794 - acc: 0.4242 - val_loss: 1.4781 - val_acc: 0.4540\n",
      "Epoch 30/30\n",
      "5997/5997 [==============================] - 0s 22us/step - loss: 1.5821 - acc: 0.4202 - val_loss: 1.4766 - val_acc: 0.4660\n"
     ]
    }
   ],
   "source": [
    "dropout_model = models.Sequential()\n",
    "\n",
    "# Implement dropout to the input layer\n",
    "# NOTE: This is where you define the number of units in the input layer\n",
    "dropout_model.add(layers.Dropout(0.3, input_shape=(29,)))\n",
    "\n",
    "# Add the first hidden layer\n",
    "dropout_model.add(layers.Dense(256, activation='relu'))\n",
    "\n",
    "# Implement dropout to the first hidden layer \n",
    "dropout_model.add(layers.Dropout(0.3))\n",
    "\n",
    "# Add the second hidden layer\n",
    "dropout_model.add(layers.Dense(128, activation='relu'))\n",
    "\n",
    "# Implement dropout to the second hidden layer \n",
    "dropout_model.add(layers.Dropout(0.4))\n",
    "\n",
    "# Add the output layer\n",
    "dropout_model.add(layers.Dense(8, activation='softmax'))\n",
    "\n",
    "\n",
    "# Compile the model\n",
    "dropout_model.compile(optimizer='nadam', \n",
    "                      loss='sparse_categorical_crossentropy', \n",
    "                      metrics=['accuracy'])\n",
    "\n",
    "# Train the model\n",
    "dropout_model_val = dropout_model.fit(X_train, \n",
    "                                      y_train_lab, \n",
    "                                      epochs=30,\n",
    "                    batch_size=128,\n",
    "                                      validation_data=(X_val, y_val_lab))"
   ]
  },
  {
   "cell_type": "code",
   "execution_count": 310,
   "metadata": {},
   "outputs": [
    {
     "name": "stdout",
     "output_type": "stream",
     "text": [
      "5997/5997 [==============================] - 0s 30us/step\n",
      "Training Loss: 1.41 \n",
      "Training Accuracy: 0.491\n",
      "----------\n",
      "1000/1000 [==============================] - 0s 32us/step\n",
      "Test Loss: 1.55 \n",
      "Test Accuracy: 0.441\n"
     ]
    }
   ],
   "source": [
    "results_train = dropout_model.evaluate(X_train, y_train_lab)\n",
    "print(f'Training Loss: {results_train[0]:.3} \\nTraining Accuracy: {results_train[1]:.3}')\n",
    "\n",
    "print('----------')\n",
    "\n",
    "results_test = dropout_model.evaluate(X_test, y_test_lab)\n",
    "print(f'Test Loss: {results_test[0]:.3} \\nTest Accuracy: {results_test[1]:.3}') "
   ]
  },
  {
   "cell_type": "code",
   "execution_count": null,
   "metadata": {},
   "outputs": [],
   "source": []
  },
  {
   "cell_type": "code",
   "execution_count": 313,
   "metadata": {},
   "outputs": [
    {
     "name": "stdout",
     "output_type": "stream",
     "text": [
      "Train on 5997 samples, validate on 1000 samples\n",
      "Epoch 1/30\n",
      "5997/5997 [==============================] - 1s 210us/step - loss: 5.5494 - acc: 0.2048 - val_loss: 2.1762 - val_acc: 0.2700\n",
      "Epoch 2/30\n",
      "5997/5997 [==============================] - 0s 18us/step - loss: 2.2063 - acc: 0.2478 - val_loss: 2.1948 - val_acc: 0.2340\n",
      "Epoch 3/30\n",
      "5997/5997 [==============================] - 0s 17us/step - loss: 2.1063 - acc: 0.2386 - val_loss: 2.1546 - val_acc: 0.2670\n",
      "Epoch 4/30\n",
      "5997/5997 [==============================] - 0s 18us/step - loss: 2.1377 - acc: 0.2036 - val_loss: 2.1382 - val_acc: 0.1760\n",
      "Epoch 5/30\n",
      "5997/5997 [==============================] - 0s 19us/step - loss: 2.1405 - acc: 0.1723 - val_loss: 2.2625 - val_acc: 0.1780\n",
      "Epoch 6/30\n",
      "5997/5997 [==============================] - 0s 17us/step - loss: 2.1933 - acc: 0.1714 - val_loss: 2.1748 - val_acc: 0.1740\n",
      "Epoch 7/30\n",
      "5997/5997 [==============================] - 0s 18us/step - loss: 2.1381 - acc: 0.1637 - val_loss: 2.0403 - val_acc: 0.1700\n",
      "Epoch 8/30\n",
      "5997/5997 [==============================] - 0s 17us/step - loss: 2.1002 - acc: 0.1806 - val_loss: 2.0718 - val_acc: 0.1810\n",
      "Epoch 9/30\n",
      "5997/5997 [==============================] - 0s 16us/step - loss: 2.0742 - acc: 0.1763 - val_loss: 2.1071 - val_acc: 0.1820\n",
      "Epoch 10/30\n",
      "5997/5997 [==============================] - 0s 17us/step - loss: 2.0906 - acc: 0.1758 - val_loss: 2.1049 - val_acc: 0.1740\n",
      "Epoch 11/30\n",
      "5997/5997 [==============================] - 0s 17us/step - loss: 2.0970 - acc: 0.1773 - val_loss: 2.1903 - val_acc: 0.1970\n",
      "Epoch 12/30\n",
      "5997/5997 [==============================] - 0s 17us/step - loss: 2.0947 - acc: 0.1949 - val_loss: 2.1546 - val_acc: 0.1860\n",
      "Epoch 13/30\n",
      "5997/5997 [==============================] - 0s 17us/step - loss: 2.0769 - acc: 0.1641 - val_loss: 2.1644 - val_acc: 0.1570\n",
      "Epoch 14/30\n",
      "5997/5997 [==============================] - 0s 18us/step - loss: 2.0810 - acc: 0.1582 - val_loss: 2.2111 - val_acc: 0.1570\n",
      "Epoch 15/30\n",
      "5997/5997 [==============================] - 0s 16us/step - loss: 2.0902 - acc: 0.1576 - val_loss: 2.3063 - val_acc: 0.1560\n",
      "Epoch 16/30\n",
      "5997/5997 [==============================] - 0s 16us/step - loss: 2.1126 - acc: 0.1594 - val_loss: 2.1562 - val_acc: 0.1590\n",
      "Epoch 17/30\n",
      "5997/5997 [==============================] - 0s 19us/step - loss: 2.1020 - acc: 0.1597 - val_loss: 2.1423 - val_acc: 0.1570\n",
      "Epoch 18/30\n",
      "5997/5997 [==============================] - 0s 18us/step - loss: 2.0976 - acc: 0.1651 - val_loss: 2.1625 - val_acc: 0.1690\n",
      "Epoch 19/30\n",
      "5997/5997 [==============================] - 0s 18us/step - loss: 2.1050 - acc: 0.1728 - val_loss: 2.1977 - val_acc: 0.2190\n",
      "Epoch 20/30\n",
      "5997/5997 [==============================] - 0s 19us/step - loss: 2.0984 - acc: 0.2031 - val_loss: 2.1951 - val_acc: 0.2100\n",
      "Epoch 21/30\n",
      "5997/5997 [==============================] - 0s 17us/step - loss: 2.0986 - acc: 0.2028 - val_loss: 2.2033 - val_acc: 0.2100\n",
      "Epoch 22/30\n",
      "5997/5997 [==============================] - 0s 18us/step - loss: 2.1068 - acc: 0.2043 - val_loss: 2.1663 - val_acc: 0.2070\n",
      "Epoch 23/30\n",
      "5997/5997 [==============================] - 0s 17us/step - loss: 2.1263 - acc: 0.1958 - val_loss: 2.1520 - val_acc: 0.2070\n",
      "Epoch 24/30\n",
      "5997/5997 [==============================] - 0s 17us/step - loss: 2.1249 - acc: 0.1949 - val_loss: 2.1818 - val_acc: 0.2030\n",
      "Epoch 25/30\n",
      "5997/5997 [==============================] - 0s 18us/step - loss: 2.1257 - acc: 0.1948 - val_loss: 2.1537 - val_acc: 0.2020\n",
      "Epoch 26/30\n",
      "5997/5997 [==============================] - 0s 19us/step - loss: 2.1273 - acc: 0.1939 - val_loss: 2.1828 - val_acc: 0.2010\n",
      "Epoch 27/30\n",
      "5997/5997 [==============================] - 0s 19us/step - loss: 2.1223 - acc: 0.1944 - val_loss: 2.1809 - val_acc: 0.2010\n",
      "Epoch 28/30\n",
      "5997/5997 [==============================] - 0s 18us/step - loss: 2.1171 - acc: 0.1939 - val_loss: 2.1965 - val_acc: 0.2010\n",
      "Epoch 29/30\n",
      "5997/5997 [==============================] - 0s 18us/step - loss: 2.1128 - acc: 0.1896 - val_loss: 2.0891 - val_acc: 0.1890\n",
      "Epoch 30/30\n",
      "5997/5997 [==============================] - 0s 17us/step - loss: 2.2084 - acc: 0.1793 - val_loss: 2.2181 - val_acc: 0.1700\n"
     ]
    },
    {
     "data": {
      "text/plain": [
       "<keras.callbacks.History at 0x151cbfac8>"
      ]
     },
     "execution_count": 313,
     "metadata": {},
     "output_type": "execute_result"
    }
   ],
   "source": [
    "he_model = Sequential()\n",
    "\n",
    "# Add the first hidden layer\n",
    "he_model.add(layers.Dense(256, kernel_initializer='he_normal', activation='relu', input_shape=(29,)))\n",
    "\n",
    "# Add another hidden layer\n",
    "he_model.add(layers.Dense(128, kernel_initializer='he_normal',activation='relu'))\n",
    "\n",
    "# Add an output layer\n",
    "he_model.add(layers.Dense(8, activation='linear'))\n",
    "\n",
    "# Compile the model\n",
    "he_model.compile(optimizer='nadam', \n",
    "                      loss='sparse_categorical_crossentropy', \n",
    "                      metrics=['accuracy'])\n",
    "\n",
    "# Train the model\n",
    "he_model.fit(X_train,  y_train_lab, epochs=30,\n",
    "                    batch_size=128, validation_data=(X_val, y_val_lab))"
   ]
  },
  {
   "cell_type": "code",
   "execution_count": null,
   "metadata": {},
   "outputs": [],
   "source": []
  },
  {
   "cell_type": "code",
   "execution_count": null,
   "metadata": {},
   "outputs": [],
   "source": []
  },
  {
   "cell_type": "code",
   "execution_count": 315,
   "metadata": {},
   "outputs": [
    {
     "name": "stdout",
     "output_type": "stream",
     "text": [
      "Train on 5997 samples, validate on 1000 samples\n",
      "Epoch 1/30\n",
      "5997/5997 [==============================] - 1s 218us/step - loss: 1.7042 - acc: 0.3717 - val_loss: 1.5105 - val_acc: 0.4440\n",
      "Epoch 2/30\n",
      "5997/5997 [==============================] - 0s 19us/step - loss: 1.5126 - acc: 0.4606 - val_loss: 1.4797 - val_acc: 0.4620\n",
      "Epoch 3/30\n",
      "5997/5997 [==============================] - 0s 17us/step - loss: 1.4329 - acc: 0.4839 - val_loss: 1.4613 - val_acc: 0.4750\n",
      "Epoch 4/30\n",
      "5997/5997 [==============================] - 0s 18us/step - loss: 1.3622 - acc: 0.5103 - val_loss: 1.4342 - val_acc: 0.4810\n",
      "Epoch 5/30\n",
      "5997/5997 [==============================] - 0s 18us/step - loss: 1.3082 - acc: 0.5316 - val_loss: 1.4485 - val_acc: 0.4880\n",
      "Epoch 6/30\n",
      "5997/5997 [==============================] - 0s 20us/step - loss: 1.2546 - acc: 0.5499 - val_loss: 1.4683 - val_acc: 0.4680\n",
      "Epoch 7/30\n",
      "5997/5997 [==============================] - 0s 18us/step - loss: 1.2022 - acc: 0.5768 - val_loss: 1.4299 - val_acc: 0.4950\n",
      "Epoch 8/30\n",
      "5997/5997 [==============================] - 0s 18us/step - loss: 1.1537 - acc: 0.5891 - val_loss: 1.4399 - val_acc: 0.4800\n",
      "Epoch 9/30\n",
      "5997/5997 [==============================] - 0s 19us/step - loss: 1.0994 - acc: 0.6151 - val_loss: 1.4593 - val_acc: 0.4740\n",
      "Epoch 10/30\n",
      "5997/5997 [==============================] - 0s 19us/step - loss: 1.0584 - acc: 0.6283 - val_loss: 1.4730 - val_acc: 0.4900\n",
      "Epoch 11/30\n",
      "5997/5997 [==============================] - 0s 19us/step - loss: 1.0057 - acc: 0.6498 - val_loss: 1.4699 - val_acc: 0.4800\n",
      "Epoch 12/30\n",
      "5997/5997 [==============================] - 0s 17us/step - loss: 0.9631 - acc: 0.6695 - val_loss: 1.4535 - val_acc: 0.5100\n",
      "Epoch 13/30\n",
      "5997/5997 [==============================] - 0s 19us/step - loss: 0.9217 - acc: 0.6843 - val_loss: 1.4693 - val_acc: 0.5110\n",
      "Epoch 14/30\n",
      "5997/5997 [==============================] - 0s 18us/step - loss: 0.8848 - acc: 0.7034 - val_loss: 1.5459 - val_acc: 0.4780\n",
      "Epoch 15/30\n",
      "5997/5997 [==============================] - 0s 19us/step - loss: 0.8345 - acc: 0.7219 - val_loss: 1.5427 - val_acc: 0.4870\n",
      "Epoch 16/30\n",
      "5997/5997 [==============================] - 0s 18us/step - loss: 0.8030 - acc: 0.7319 - val_loss: 1.5732 - val_acc: 0.4970\n",
      "Epoch 17/30\n",
      "5997/5997 [==============================] - 0s 19us/step - loss: 0.7650 - acc: 0.7492 - val_loss: 1.6607 - val_acc: 0.4640\n",
      "Epoch 18/30\n",
      "5997/5997 [==============================] - 0s 20us/step - loss: 0.7234 - acc: 0.7592 - val_loss: 1.6014 - val_acc: 0.5020\n",
      "Epoch 19/30\n",
      "5997/5997 [==============================] - 0s 20us/step - loss: 0.6929 - acc: 0.7734 - val_loss: 1.6423 - val_acc: 0.4780\n",
      "Epoch 20/30\n",
      "5997/5997 [==============================] - 0s 18us/step - loss: 0.6498 - acc: 0.7917 - val_loss: 1.6741 - val_acc: 0.4830\n",
      "Epoch 21/30\n",
      "5997/5997 [==============================] - 0s 19us/step - loss: 0.6161 - acc: 0.8031 - val_loss: 1.7094 - val_acc: 0.4930\n",
      "Epoch 22/30\n",
      "5997/5997 [==============================] - 0s 20us/step - loss: 0.5781 - acc: 0.8194 - val_loss: 1.7773 - val_acc: 0.4820\n",
      "Epoch 23/30\n",
      "5997/5997 [==============================] - 0s 18us/step - loss: 0.5548 - acc: 0.8301 - val_loss: 1.8157 - val_acc: 0.4650\n",
      "Epoch 24/30\n",
      "5997/5997 [==============================] - 0s 19us/step - loss: 0.5212 - acc: 0.8383 - val_loss: 1.7853 - val_acc: 0.5040\n",
      "Epoch 25/30\n",
      "5997/5997 [==============================] - 0s 18us/step - loss: 0.4938 - acc: 0.8473 - val_loss: 1.8496 - val_acc: 0.4740\n",
      "Epoch 26/30\n",
      "5997/5997 [==============================] - 0s 19us/step - loss: 0.4743 - acc: 0.8504 - val_loss: 1.8808 - val_acc: 0.4730\n",
      "Epoch 27/30\n",
      "5997/5997 [==============================] - 0s 20us/step - loss: 0.4281 - acc: 0.8768 - val_loss: 1.9232 - val_acc: 0.4740\n",
      "Epoch 28/30\n",
      "5997/5997 [==============================] - 0s 20us/step - loss: 0.4019 - acc: 0.8863 - val_loss: 1.9415 - val_acc: 0.4920\n",
      "Epoch 29/30\n",
      "5997/5997 [==============================] - 0s 20us/step - loss: 0.3768 - acc: 0.8948 - val_loss: 1.9832 - val_acc: 0.4830\n",
      "Epoch 30/30\n",
      "5997/5997 [==============================] - 0s 20us/step - loss: 0.3529 - acc: 0.9063 - val_loss: 2.0129 - val_acc: 0.4800\n"
     ]
    },
    {
     "data": {
      "text/plain": [
       "<keras.callbacks.History at 0x14b7e3780>"
      ]
     },
     "execution_count": 315,
     "metadata": {},
     "output_type": "execute_result"
    }
   ],
   "source": [
    "lecun_model = Sequential()\n",
    "\n",
    "# Add the first hidden layer\n",
    "lecun_model.add(layers.Dense(256, kernel_initializer='lecun_normal', activation='relu', input_shape=(29,)))\n",
    "\n",
    "# Add another hidden layer\n",
    "lecun_model.add(layers.Dense(128, activation='relu'))\n",
    "\n",
    "# Add alen output layer\n",
    "lecun_model.add(layers.Dense(8, activation='softmax'))\n",
    "\n",
    "# Compile the model\n",
    "lecun_model.compile(optimizer='nadam', \n",
    "                      loss='sparse_categorical_crossentropy', \n",
    "                      metrics=['accuracy'])\n",
    "\n",
    "# Train the model\n",
    "lecun_model.fit(X_train,  y_train_lab,  epochs=30,\n",
    "                    batch_size=128, validation_data=(X_val, y_val_lab))"
   ]
  },
  {
   "cell_type": "code",
   "execution_count": 316,
   "metadata": {},
   "outputs": [
    {
     "name": "stdout",
     "output_type": "stream",
     "text": [
      "5997/5997 [==============================] - 0s 35us/step\n",
      "1000/1000 [==============================] - 0s 30us/step\n"
     ]
    },
    {
     "data": {
      "text/plain": [
       "([0.29574206748743426, 0.9306319826679348], [2.202577857971191, 0.455])"
      ]
     },
     "execution_count": 316,
     "metadata": {},
     "output_type": "execute_result"
    }
   ],
   "source": [
    "lecun_model.evaluate(X_train, y_train_lab),lecun_model.evaluate(X_test, y_test_lab)"
   ]
  },
  {
   "cell_type": "code",
   "execution_count": null,
   "metadata": {},
   "outputs": [],
   "source": []
  },
  {
   "cell_type": "code",
   "execution_count": 330,
   "metadata": {},
   "outputs": [
    {
     "name": "stdout",
     "output_type": "stream",
     "text": [
      "Train on 5997 samples, validate on 1000 samples\n",
      "Epoch 1/50\n",
      "5997/5997 [==============================] - 2s 270us/step - loss: 2.6870 - acc: 0.2905 - val_loss: 2.2499 - val_acc: 0.4180\n",
      "Epoch 2/50\n",
      "5997/5997 [==============================] - 0s 26us/step - loss: 2.2428 - acc: 0.3762 - val_loss: 1.9955 - val_acc: 0.4430\n",
      "Epoch 3/50\n",
      "5997/5997 [==============================] - 0s 24us/step - loss: 2.0155 - acc: 0.4077 - val_loss: 1.8324 - val_acc: 0.4180\n",
      "Epoch 4/50\n",
      "5997/5997 [==============================] - 0s 25us/step - loss: 1.8813 - acc: 0.4205 - val_loss: 1.7425 - val_acc: 0.4380\n",
      "Epoch 5/50\n",
      "5997/5997 [==============================] - 0s 24us/step - loss: 1.7802 - acc: 0.4337 - val_loss: 1.6729 - val_acc: 0.4610\n",
      "Epoch 6/50\n",
      "5997/5997 [==============================] - 0s 24us/step - loss: 1.7341 - acc: 0.4382 - val_loss: 1.6213 - val_acc: 0.4540\n",
      "Epoch 7/50\n",
      "5997/5997 [==============================] - 0s 25us/step - loss: 1.6794 - acc: 0.4447 - val_loss: 1.5865 - val_acc: 0.4590\n",
      "Epoch 8/50\n",
      "5997/5997 [==============================] - 0s 24us/step - loss: 1.6368 - acc: 0.4559 - val_loss: 1.5874 - val_acc: 0.4740\n",
      "Epoch 9/50\n",
      "5997/5997 [==============================] - 0s 23us/step - loss: 1.6259 - acc: 0.4566 - val_loss: 1.5528 - val_acc: 0.4570\n",
      "Epoch 10/50\n",
      "5997/5997 [==============================] - 0s 24us/step - loss: 1.6046 - acc: 0.4582 - val_loss: 1.5480 - val_acc: 0.4670\n",
      "Epoch 11/50\n",
      "5997/5997 [==============================] - 0s 23us/step - loss: 1.5854 - acc: 0.4664 - val_loss: 1.5216 - val_acc: 0.4790\n",
      "Epoch 12/50\n",
      "5997/5997 [==============================] - 0s 25us/step - loss: 1.5615 - acc: 0.4761 - val_loss: 1.5282 - val_acc: 0.4650\n",
      "Epoch 13/50\n",
      "5997/5997 [==============================] - 0s 24us/step - loss: 1.5588 - acc: 0.4776 - val_loss: 1.5226 - val_acc: 0.4810\n",
      "Epoch 14/50\n",
      "5997/5997 [==============================] - 0s 23us/step - loss: 1.5527 - acc: 0.4769 - val_loss: 1.5185 - val_acc: 0.4890\n",
      "Epoch 15/50\n",
      "5997/5997 [==============================] - 0s 26us/step - loss: 1.5442 - acc: 0.4762 - val_loss: 1.5180 - val_acc: 0.4840\n",
      "Epoch 16/50\n",
      "5997/5997 [==============================] - 0s 26us/step - loss: 1.5418 - acc: 0.4777 - val_loss: 1.5099 - val_acc: 0.4800\n",
      "Epoch 17/50\n",
      "5997/5997 [==============================] - 0s 25us/step - loss: 1.5277 - acc: 0.4912 - val_loss: 1.5038 - val_acc: 0.4720\n",
      "Epoch 18/50\n",
      "5997/5997 [==============================] - 0s 24us/step - loss: 1.5130 - acc: 0.4932 - val_loss: 1.4987 - val_acc: 0.4830\n",
      "Epoch 19/50\n",
      "5997/5997 [==============================] - 0s 24us/step - loss: 1.5155 - acc: 0.4832 - val_loss: 1.4960 - val_acc: 0.5060\n",
      "Epoch 20/50\n",
      "5997/5997 [==============================] - 0s 24us/step - loss: 1.5099 - acc: 0.5013 - val_loss: 1.4835 - val_acc: 0.5000\n",
      "Epoch 21/50\n",
      "5997/5997 [==============================] - 0s 26us/step - loss: 1.5005 - acc: 0.4991 - val_loss: 1.4914 - val_acc: 0.5020\n",
      "Epoch 22/50\n",
      "5997/5997 [==============================] - 0s 24us/step - loss: 1.4894 - acc: 0.5048 - val_loss: 1.4982 - val_acc: 0.5040\n",
      "Epoch 23/50\n",
      "5997/5997 [==============================] - 0s 24us/step - loss: 1.4844 - acc: 0.5086 - val_loss: 1.4887 - val_acc: 0.4990\n",
      "Epoch 24/50\n",
      "5997/5997 [==============================] - 0s 24us/step - loss: 1.4779 - acc: 0.5033 - val_loss: 1.4982 - val_acc: 0.4850\n",
      "Epoch 25/50\n",
      "5997/5997 [==============================] - 0s 25us/step - loss: 1.4741 - acc: 0.5073 - val_loss: 1.4836 - val_acc: 0.5010\n",
      "Epoch 26/50\n",
      "5997/5997 [==============================] - 0s 25us/step - loss: 1.4809 - acc: 0.5083 - val_loss: 1.4805 - val_acc: 0.4880\n",
      "Epoch 27/50\n",
      "5997/5997 [==============================] - 0s 25us/step - loss: 1.4651 - acc: 0.5139 - val_loss: 1.4921 - val_acc: 0.4970\n",
      "Epoch 28/50\n",
      "5997/5997 [==============================] - 0s 25us/step - loss: 1.4660 - acc: 0.5111 - val_loss: 1.4816 - val_acc: 0.4940\n",
      "Epoch 29/50\n",
      "5997/5997 [==============================] - 0s 24us/step - loss: 1.4529 - acc: 0.5138 - val_loss: 1.4763 - val_acc: 0.5050\n",
      "Epoch 30/50\n",
      "5997/5997 [==============================] - 0s 25us/step - loss: 1.4554 - acc: 0.5156 - val_loss: 1.4787 - val_acc: 0.5100\n",
      "Epoch 31/50\n",
      "5997/5997 [==============================] - 0s 25us/step - loss: 1.4521 - acc: 0.5166 - val_loss: 1.4916 - val_acc: 0.4980\n",
      "Epoch 32/50\n",
      "5997/5997 [==============================] - 0s 25us/step - loss: 1.4445 - acc: 0.5244 - val_loss: 1.4831 - val_acc: 0.5130\n",
      "Epoch 33/50\n",
      "5997/5997 [==============================] - 0s 25us/step - loss: 1.4365 - acc: 0.5258 - val_loss: 1.4794 - val_acc: 0.4950\n",
      "Epoch 34/50\n",
      "5997/5997 [==============================] - 0s 25us/step - loss: 1.4307 - acc: 0.5308 - val_loss: 1.4631 - val_acc: 0.5040\n",
      "Epoch 35/50\n",
      "5997/5997 [==============================] - 0s 25us/step - loss: 1.4249 - acc: 0.5264 - val_loss: 1.4831 - val_acc: 0.5110\n",
      "Epoch 36/50\n",
      "5997/5997 [==============================] - 0s 24us/step - loss: 1.4398 - acc: 0.5289 - val_loss: 1.4880 - val_acc: 0.5060\n",
      "Epoch 37/50\n",
      "5997/5997 [==============================] - 0s 24us/step - loss: 1.4294 - acc: 0.5293 - val_loss: 1.4811 - val_acc: 0.5060\n",
      "Epoch 38/50\n",
      "5997/5997 [==============================] - 0s 26us/step - loss: 1.4229 - acc: 0.5323 - val_loss: 1.4649 - val_acc: 0.5130\n",
      "Epoch 39/50\n",
      "5997/5997 [==============================] - 0s 25us/step - loss: 1.4230 - acc: 0.5428 - val_loss: 1.4746 - val_acc: 0.5110\n",
      "Epoch 40/50\n",
      "5997/5997 [==============================] - 0s 25us/step - loss: 1.4128 - acc: 0.5341 - val_loss: 1.4742 - val_acc: 0.5020\n",
      "Epoch 41/50\n",
      "5997/5997 [==============================] - 0s 27us/step - loss: 1.4170 - acc: 0.5353 - val_loss: 1.4732 - val_acc: 0.5080\n",
      "Epoch 42/50\n",
      "5997/5997 [==============================] - 0s 23us/step - loss: 1.4172 - acc: 0.5334 - val_loss: 1.4625 - val_acc: 0.5140\n",
      "Epoch 43/50\n",
      "5997/5997 [==============================] - 0s 23us/step - loss: 1.4052 - acc: 0.5349 - val_loss: 1.4631 - val_acc: 0.5270\n",
      "Epoch 44/50\n",
      "5997/5997 [==============================] - 0s 24us/step - loss: 1.4012 - acc: 0.5398 - val_loss: 1.4651 - val_acc: 0.5190\n",
      "Epoch 45/50\n",
      "5997/5997 [==============================] - 0s 23us/step - loss: 1.3939 - acc: 0.5454 - val_loss: 1.4751 - val_acc: 0.5090\n",
      "Epoch 46/50\n",
      "5997/5997 [==============================] - 0s 25us/step - loss: 1.3950 - acc: 0.5428 - val_loss: 1.4770 - val_acc: 0.5140\n",
      "Epoch 47/50\n",
      "5997/5997 [==============================] - 0s 24us/step - loss: 1.3896 - acc: 0.5473 - val_loss: 1.4772 - val_acc: 0.5090\n",
      "Epoch 48/50\n",
      "5997/5997 [==============================] - 0s 27us/step - loss: 1.3979 - acc: 0.5441 - val_loss: 1.4708 - val_acc: 0.5100\n",
      "Epoch 49/50\n",
      "5997/5997 [==============================] - 0s 25us/step - loss: 1.3859 - acc: 0.5514 - val_loss: 1.4706 - val_acc: 0.5120\n",
      "Epoch 50/50\n",
      "5997/5997 [==============================] - 0s 24us/step - loss: 1.3845 - acc: 0.5506 - val_loss: 1.4731 - val_acc: 0.5230\n"
     ]
    },
    {
     "data": {
      "text/plain": [
       "<keras.callbacks.History at 0x15612db70>"
      ]
     },
     "execution_count": 330,
     "metadata": {},
     "output_type": "execute_result"
    }
   ],
   "source": [
    "lecun_model = Sequential()\n",
    "\n",
    "# Add the first hidden layer\n",
    "lecun_model.add(layers.Dense(256, kernel_initializer='lecun_normal',activation='relu', input_shape=(29,)))\n",
    "lecun_model.add(layers.Dropout(0.3))\n",
    "\n",
    "# Add another hidden layer\n",
    "lecun_model.add(layers.Dense(128,kernel_regularizer=regularizers.l2(0.005), activation='relu'))\n",
    "lecun_model.add(layers.Dropout(0.4))\n",
    "\n",
    "\n",
    "# Add an output layer\n",
    "lecun_model.add(layers.Dense(8, activation='softmax'))\n",
    "\n",
    "# Compile the model\n",
    "lecun_model.compile(optimizer='nadam', \n",
    "                      loss='sparse_categorical_crossentropy', \n",
    "                      metrics=['accuracy'])\n",
    "\n",
    "# Train the model\n",
    "lecun_model.fit(X_train,  y_train_lab, epochs=50,\n",
    "                    batch_size=128, validation_data=(X_val, y_val_lab))"
   ]
  },
  {
   "cell_type": "code",
   "execution_count": 331,
   "metadata": {},
   "outputs": [
    {
     "name": "stdout",
     "output_type": "stream",
     "text": [
      "5997/5997 [==============================] - 0s 39us/step\n",
      "Training Loss: 1.22 \n",
      "Training Accuracy: 0.63\n",
      "----------\n",
      "1000/1000 [==============================] - 0s 36us/step\n",
      "Test Loss: 1.56 \n",
      "Test Accuracy: 0.496\n"
     ]
    }
   ],
   "source": [
    "results_train = lecun_model.evaluate(X_train, y_train_lab)\n",
    "print(f'Training Loss: {results_train[0]:.3} \\nTraining Accuracy: {results_train[1]:.3}')\n",
    "\n",
    "print('----------')\n",
    "\n",
    "results_test = lecun_model.evaluate(X_test, y_test_lab)\n",
    "print(f'Test Loss: {results_test[0]:.3} \\nTest Accuracy: {results_test[1]:.3}') "
   ]
  },
  {
   "cell_type": "code",
   "execution_count": 344,
   "metadata": {},
   "outputs": [
    {
     "name": "stdout",
     "output_type": "stream",
     "text": [
      "Train on 5997 samples, validate on 1000 samples\n",
      "Epoch 1/75\n",
      "5997/5997 [==============================] - 2s 335us/step - loss: 3.0061 - acc: 0.2541 - val_loss: 2.5121 - val_acc: 0.4010\n",
      "Epoch 2/75\n",
      "5997/5997 [==============================] - 0s 31us/step - loss: 2.4319 - acc: 0.3560 - val_loss: 2.1328 - val_acc: 0.4220\n",
      "Epoch 3/75\n",
      "5997/5997 [==============================] - 0s 31us/step - loss: 2.1488 - acc: 0.3885 - val_loss: 1.9246 - val_acc: 0.4300\n",
      "Epoch 4/75\n",
      "5997/5997 [==============================] - 0s 29us/step - loss: 1.9738 - acc: 0.4044 - val_loss: 1.7897 - val_acc: 0.4440\n",
      "Epoch 5/75\n",
      "5997/5997 [==============================] - 0s 30us/step - loss: 1.8631 - acc: 0.4104 - val_loss: 1.7161 - val_acc: 0.4470\n",
      "Epoch 6/75\n",
      "5997/5997 [==============================] - 0s 30us/step - loss: 1.7951 - acc: 0.4269 - val_loss: 1.6779 - val_acc: 0.4460\n",
      "Epoch 7/75\n",
      "5997/5997 [==============================] - 0s 30us/step - loss: 1.7489 - acc: 0.4304 - val_loss: 1.6285 - val_acc: 0.4680\n",
      "Epoch 8/75\n",
      "5997/5997 [==============================] - 0s 30us/step - loss: 1.7016 - acc: 0.4414 - val_loss: 1.5931 - val_acc: 0.4600\n",
      "Epoch 9/75\n",
      "5997/5997 [==============================] - 0s 29us/step - loss: 1.6863 - acc: 0.4456 - val_loss: 1.6003 - val_acc: 0.4510\n",
      "Epoch 10/75\n",
      "5997/5997 [==============================] - 0s 31us/step - loss: 1.6691 - acc: 0.4519 - val_loss: 1.5700 - val_acc: 0.4670\n",
      "Epoch 11/75\n",
      "5997/5997 [==============================] - 0s 33us/step - loss: 1.6533 - acc: 0.4519 - val_loss: 1.5653 - val_acc: 0.4660\n",
      "Epoch 12/75\n",
      "5997/5997 [==============================] - 0s 31us/step - loss: 1.6427 - acc: 0.4597 - val_loss: 1.5852 - val_acc: 0.4640\n",
      "Epoch 13/75\n",
      "5997/5997 [==============================] - 0s 31us/step - loss: 1.6283 - acc: 0.4631 - val_loss: 1.5425 - val_acc: 0.4680\n",
      "Epoch 14/75\n",
      "5997/5997 [==============================] - 0s 29us/step - loss: 1.6107 - acc: 0.4697 - val_loss: 1.5587 - val_acc: 0.4660\n",
      "Epoch 15/75\n",
      "5997/5997 [==============================] - 0s 30us/step - loss: 1.6161 - acc: 0.4756 - val_loss: 1.5462 - val_acc: 0.4660\n",
      "Epoch 16/75\n",
      "5997/5997 [==============================] - 0s 31us/step - loss: 1.6134 - acc: 0.4571 - val_loss: 1.5449 - val_acc: 0.4740\n",
      "Epoch 17/75\n",
      "5997/5997 [==============================] - 0s 31us/step - loss: 1.5989 - acc: 0.4767 - val_loss: 1.5560 - val_acc: 0.4740\n",
      "Epoch 18/75\n",
      "5997/5997 [==============================] - 0s 30us/step - loss: 1.5892 - acc: 0.4771 - val_loss: 1.5408 - val_acc: 0.4730\n",
      "Epoch 19/75\n",
      "5997/5997 [==============================] - 0s 30us/step - loss: 1.5800 - acc: 0.4839 - val_loss: 1.5296 - val_acc: 0.4850\n",
      "Epoch 20/75\n",
      "5997/5997 [==============================] - 0s 31us/step - loss: 1.5905 - acc: 0.4781 - val_loss: 1.5413 - val_acc: 0.4780\n",
      "Epoch 21/75\n",
      "5997/5997 [==============================] - 0s 28us/step - loss: 1.5848 - acc: 0.4829 - val_loss: 1.5185 - val_acc: 0.4720\n",
      "Epoch 22/75\n",
      "5997/5997 [==============================] - 0s 30us/step - loss: 1.5681 - acc: 0.4869 - val_loss: 1.5150 - val_acc: 0.4930\n",
      "Epoch 23/75\n",
      "5997/5997 [==============================] - 0s 30us/step - loss: 1.5718 - acc: 0.4849 - val_loss: 1.5131 - val_acc: 0.4830\n",
      "Epoch 24/75\n",
      "5997/5997 [==============================] - 0s 32us/step - loss: 1.5628 - acc: 0.4886 - val_loss: 1.5179 - val_acc: 0.4890\n",
      "Epoch 25/75\n",
      "5997/5997 [==============================] - 0s 33us/step - loss: 1.5577 - acc: 0.4986 - val_loss: 1.5212 - val_acc: 0.4930\n",
      "Epoch 26/75\n",
      "5997/5997 [==============================] - 0s 32us/step - loss: 1.5537 - acc: 0.4956 - val_loss: 1.5057 - val_acc: 0.4920\n",
      "Epoch 27/75\n",
      "5997/5997 [==============================] - 0s 30us/step - loss: 1.5474 - acc: 0.4926 - val_loss: 1.5432 - val_acc: 0.4780\n",
      "Epoch 28/75\n",
      "5997/5997 [==============================] - 0s 31us/step - loss: 1.5529 - acc: 0.5011 - val_loss: 1.5101 - val_acc: 0.4920\n",
      "Epoch 29/75\n",
      "5997/5997 [==============================] - 0s 30us/step - loss: 1.5435 - acc: 0.5124 - val_loss: 1.5121 - val_acc: 0.4930\n",
      "Epoch 30/75\n",
      "5997/5997 [==============================] - 0s 30us/step - loss: 1.5345 - acc: 0.5009 - val_loss: 1.5250 - val_acc: 0.4920\n",
      "Epoch 31/75\n",
      "5997/5997 [==============================] - 0s 30us/step - loss: 1.5420 - acc: 0.5083 - val_loss: 1.5036 - val_acc: 0.4950\n",
      "Epoch 32/75\n",
      "5997/5997 [==============================] - 0s 31us/step - loss: 1.5372 - acc: 0.5058 - val_loss: 1.5208 - val_acc: 0.4920\n",
      "Epoch 33/75\n",
      "5997/5997 [==============================] - 0s 33us/step - loss: 1.5271 - acc: 0.5111 - val_loss: 1.5153 - val_acc: 0.4960\n",
      "Epoch 34/75\n",
      "5997/5997 [==============================] - 0s 31us/step - loss: 1.5235 - acc: 0.5124 - val_loss: 1.5073 - val_acc: 0.4920\n",
      "Epoch 35/75\n",
      "5997/5997 [==============================] - 0s 30us/step - loss: 1.5185 - acc: 0.5091 - val_loss: 1.5180 - val_acc: 0.5010\n",
      "Epoch 36/75\n",
      "5997/5997 [==============================] - 0s 33us/step - loss: 1.5237 - acc: 0.5114 - val_loss: 1.5147 - val_acc: 0.4980\n",
      "Epoch 37/75\n",
      "5997/5997 [==============================] - 0s 33us/step - loss: 1.5151 - acc: 0.5189 - val_loss: 1.5087 - val_acc: 0.4920\n",
      "Epoch 38/75\n",
      "5997/5997 [==============================] - 0s 37us/step - loss: 1.5080 - acc: 0.5124 - val_loss: 1.4960 - val_acc: 0.4960\n",
      "Epoch 39/75\n",
      "5997/5997 [==============================] - 0s 30us/step - loss: 1.5058 - acc: 0.5144 - val_loss: 1.5082 - val_acc: 0.5120\n",
      "Epoch 40/75\n",
      "5997/5997 [==============================] - 0s 24us/step - loss: 1.5143 - acc: 0.5194 - val_loss: 1.5020 - val_acc: 0.5100\n",
      "Epoch 41/75\n",
      "5997/5997 [==============================] - 0s 24us/step - loss: 1.4948 - acc: 0.5241 - val_loss: 1.5117 - val_acc: 0.5020\n",
      "Epoch 42/75\n",
      "5997/5997 [==============================] - 0s 25us/step - loss: 1.4820 - acc: 0.5298 - val_loss: 1.5136 - val_acc: 0.5080\n",
      "Epoch 43/75\n",
      "5997/5997 [==============================] - 0s 24us/step - loss: 1.4904 - acc: 0.5269 - val_loss: 1.5075 - val_acc: 0.5010\n",
      "Epoch 44/75\n",
      "5997/5997 [==============================] - 0s 25us/step - loss: 1.4946 - acc: 0.5239 - val_loss: 1.5144 - val_acc: 0.5060\n",
      "Epoch 45/75\n",
      "5997/5997 [==============================] - 0s 27us/step - loss: 1.5001 - acc: 0.5248 - val_loss: 1.5045 - val_acc: 0.5190\n",
      "Epoch 46/75\n",
      "5997/5997 [==============================] - 0s 29us/step - loss: 1.4809 - acc: 0.5338 - val_loss: 1.5149 - val_acc: 0.5070\n",
      "Epoch 47/75\n",
      "5997/5997 [==============================] - 0s 29us/step - loss: 1.4918 - acc: 0.5309 - val_loss: 1.5086 - val_acc: 0.5070\n",
      "Epoch 48/75\n",
      "5997/5997 [==============================] - 0s 24us/step - loss: 1.4822 - acc: 0.5319 - val_loss: 1.5077 - val_acc: 0.5150\n",
      "Epoch 49/75\n",
      "5997/5997 [==============================] - 0s 31us/step - loss: 1.4682 - acc: 0.5401 - val_loss: 1.5172 - val_acc: 0.5050\n",
      "Epoch 50/75\n",
      "5997/5997 [==============================] - 0s 31us/step - loss: 1.4773 - acc: 0.5281 - val_loss: 1.5293 - val_acc: 0.4980\n",
      "Epoch 51/75\n",
      "5997/5997 [==============================] - 0s 30us/step - loss: 1.4803 - acc: 0.5318 - val_loss: 1.5099 - val_acc: 0.5140\n",
      "Epoch 52/75\n",
      "5997/5997 [==============================] - 0s 31us/step - loss: 1.4728 - acc: 0.5418 - val_loss: 1.5161 - val_acc: 0.5010\n",
      "Epoch 53/75\n",
      "5997/5997 [==============================] - 0s 31us/step - loss: 1.4639 - acc: 0.5443 - val_loss: 1.4944 - val_acc: 0.5060\n",
      "Epoch 54/75\n",
      "5997/5997 [==============================] - 0s 32us/step - loss: 1.4652 - acc: 0.5308 - val_loss: 1.5148 - val_acc: 0.5130\n",
      "Epoch 55/75\n",
      "5997/5997 [==============================] - 0s 34us/step - loss: 1.4582 - acc: 0.5479 - val_loss: 1.5242 - val_acc: 0.5030\n",
      "Epoch 56/75\n",
      "5997/5997 [==============================] - 0s 34us/step - loss: 1.4617 - acc: 0.5426 - val_loss: 1.5073 - val_acc: 0.5030\n",
      "Epoch 57/75\n",
      "5997/5997 [==============================] - 0s 29us/step - loss: 1.4396 - acc: 0.5519 - val_loss: 1.4995 - val_acc: 0.5080\n",
      "Epoch 58/75\n",
      "5997/5997 [==============================] - 0s 23us/step - loss: 1.4451 - acc: 0.5458 - val_loss: 1.5329 - val_acc: 0.5030\n",
      "Epoch 59/75\n",
      "5997/5997 [==============================] - 0s 24us/step - loss: 1.4394 - acc: 0.5549 - val_loss: 1.5069 - val_acc: 0.5090\n",
      "Epoch 60/75\n",
      "5997/5997 [==============================] - 0s 26us/step - loss: 1.4467 - acc: 0.5424 - val_loss: 1.5062 - val_acc: 0.5170\n"
     ]
    },
    {
     "name": "stdout",
     "output_type": "stream",
     "text": [
      "Epoch 61/75\n",
      "5997/5997 [==============================] - 0s 31us/step - loss: 1.4335 - acc: 0.5534 - val_loss: 1.5147 - val_acc: 0.5080\n",
      "Epoch 62/75\n",
      "5997/5997 [==============================] - 0s 31us/step - loss: 1.4325 - acc: 0.5601 - val_loss: 1.5264 - val_acc: 0.5100\n",
      "Epoch 63/75\n",
      "5997/5997 [==============================] - 0s 35us/step - loss: 1.4379 - acc: 0.5536 - val_loss: 1.5208 - val_acc: 0.5080\n",
      "Epoch 64/75\n",
      "5997/5997 [==============================] - 0s 29us/step - loss: 1.4308 - acc: 0.5599 - val_loss: 1.5265 - val_acc: 0.5190\n",
      "Epoch 65/75\n",
      "5997/5997 [==============================] - 0s 27us/step - loss: 1.4292 - acc: 0.5586 - val_loss: 1.5234 - val_acc: 0.5110\n",
      "Epoch 66/75\n",
      "5997/5997 [==============================] - 0s 28us/step - loss: 1.4341 - acc: 0.5491 - val_loss: 1.5188 - val_acc: 0.5130\n",
      "Epoch 67/75\n",
      "5997/5997 [==============================] - 0s 29us/step - loss: 1.4343 - acc: 0.5583 - val_loss: 1.5207 - val_acc: 0.5030\n",
      "Epoch 68/75\n",
      "5997/5997 [==============================] - 0s 28us/step - loss: 1.4343 - acc: 0.5628 - val_loss: 1.5242 - val_acc: 0.5150\n",
      "Epoch 69/75\n",
      "5997/5997 [==============================] - 0s 28us/step - loss: 1.4277 - acc: 0.5546 - val_loss: 1.5119 - val_acc: 0.5160\n",
      "Epoch 70/75\n",
      "5997/5997 [==============================] - 0s 28us/step - loss: 1.4207 - acc: 0.5569 - val_loss: 1.5115 - val_acc: 0.5250\n",
      "Epoch 71/75\n",
      "5997/5997 [==============================] - 0s 28us/step - loss: 1.4253 - acc: 0.5586 - val_loss: 1.5154 - val_acc: 0.5160\n",
      "Epoch 72/75\n",
      "5997/5997 [==============================] - 0s 28us/step - loss: 1.4273 - acc: 0.5649 - val_loss: 1.5122 - val_acc: 0.5190\n",
      "Epoch 73/75\n",
      "5997/5997 [==============================] - 0s 29us/step - loss: 1.4138 - acc: 0.5675 - val_loss: 1.5123 - val_acc: 0.5320\n",
      "Epoch 74/75\n",
      "5997/5997 [==============================] - 0s 29us/step - loss: 1.4144 - acc: 0.5686 - val_loss: 1.5136 - val_acc: 0.5170\n",
      "Epoch 75/75\n",
      "5997/5997 [==============================] - 0s 28us/step - loss: 1.4178 - acc: 0.5653 - val_loss: 1.5118 - val_acc: 0.5240\n"
     ]
    },
    {
     "data": {
      "text/plain": [
       "<keras.callbacks.History at 0x159cb34a8>"
      ]
     },
     "execution_count": 344,
     "metadata": {},
     "output_type": "execute_result"
    }
   ],
   "source": [
    "lecun_model = Sequential()\n",
    "\n",
    "# Add the first hidden layer\n",
    "lecun_model.add(layers.Dense(256, kernel_initializer='lecun_normal',activation='relu', input_shape=(29,)))\n",
    "lecun_model.add(layers.Dropout(0.3))\n",
    "\n",
    "# Add another hidden layer\n",
    "lecun_model.add(layers.Dense(128,kernel_initializer='lecun_normal',kernel_regularizer=regularizers.l2(0.005), activation='relu'))\n",
    "lecun_model.add(layers.Dropout(0.4))\n",
    "\n",
    "lecun_model.add(layers.Dense(128,kernel_regularizer=regularizers.l2(0.005), activation='relu'))\n",
    "lecun_model.add(layers.Dropout(0.4))\n",
    "\n",
    "# Add an output layer\n",
    "lecun_model.add(layers.Dense(8, activation='softmax'))\n",
    "\n",
    "# Compile the model\n",
    "lecun_model.compile(optimizer='nadam', \n",
    "                      loss='sparse_categorical_crossentropy', \n",
    "                      metrics=['accuracy'])\n",
    "\n",
    "# Train the model\n",
    "lecun_model.fit(X_train,  y_train_lab, epochs=75,\n",
    "                    batch_size=128, validation_data=(X_val, y_val_lab))"
   ]
  },
  {
   "cell_type": "code",
   "execution_count": 345,
   "metadata": {},
   "outputs": [
    {
     "name": "stdout",
     "output_type": "stream",
     "text": [
      "5997/5997 [==============================] - 0s 38us/step\n",
      "Training Loss: 1.22 \n",
      "Training Accuracy: 0.649\n",
      "----------\n",
      "1000/1000 [==============================] - 0s 42us/step\n",
      "Test Loss: 1.58 \n",
      "Test Accuracy: 0.508\n"
     ]
    }
   ],
   "source": [
    "results_train = lecun_model.evaluate(X_train, y_train_lab)\n",
    "print(f'Training Loss: {results_train[0]:.3} \\nTraining Accuracy: {results_train[1]:.3}')\n",
    "\n",
    "print('----------')\n",
    "\n",
    "results_test = lecun_model.evaluate(X_test, y_test_lab)\n",
    "print(f'Test Loss: {results_test[0]:.3} \\nTest Accuracy: {results_test[1]:.3}') "
   ]
  },
  {
   "cell_type": "code",
   "execution_count": 346,
   "metadata": {},
   "outputs": [
    {
     "name": "stdout",
     "output_type": "stream",
     "text": [
      "Train on 5997 samples, validate on 1000 samples\n",
      "Epoch 1/75\n",
      "5997/5997 [==============================] - 2s 385us/step - loss: 2.9934 - acc: 0.2771 - val_loss: 2.3631 - val_acc: 0.4160\n",
      "Epoch 2/75\n",
      "5997/5997 [==============================] - 0s 79us/step - loss: 2.2604 - acc: 0.3630 - val_loss: 1.9572 - val_acc: 0.4090\n",
      "Epoch 3/75\n",
      "5997/5997 [==============================] - 0s 79us/step - loss: 1.9673 - acc: 0.3867 - val_loss: 1.7839 - val_acc: 0.4460\n",
      "Epoch 4/75\n",
      "5997/5997 [==============================] - 0s 81us/step - loss: 1.8438 - acc: 0.4069 - val_loss: 1.7040 - val_acc: 0.4580\n",
      "Epoch 5/75\n",
      "5997/5997 [==============================] - 0s 80us/step - loss: 1.7926 - acc: 0.4042 - val_loss: 1.6618 - val_acc: 0.4460\n",
      "Epoch 6/75\n",
      "5997/5997 [==============================] - 0s 79us/step - loss: 1.7552 - acc: 0.4287 - val_loss: 1.6930 - val_acc: 0.4390\n",
      "Epoch 7/75\n",
      "5997/5997 [==============================] - 0s 78us/step - loss: 1.7377 - acc: 0.4270 - val_loss: 1.6297 - val_acc: 0.4380\n",
      "Epoch 8/75\n",
      "5997/5997 [==============================] - 0s 81us/step - loss: 1.7252 - acc: 0.4351 - val_loss: 1.6131 - val_acc: 0.4480\n",
      "Epoch 9/75\n",
      "5997/5997 [==============================] - 0s 79us/step - loss: 1.7203 - acc: 0.4322 - val_loss: 1.6155 - val_acc: 0.4500\n",
      "Epoch 10/75\n",
      "5997/5997 [==============================] - 0s 83us/step - loss: 1.7117 - acc: 0.4347 - val_loss: 1.6191 - val_acc: 0.4550\n",
      "Epoch 11/75\n",
      "5997/5997 [==============================] - 0s 81us/step - loss: 1.6919 - acc: 0.4494 - val_loss: 1.6103 - val_acc: 0.4690\n",
      "Epoch 12/75\n",
      "5997/5997 [==============================] - 0s 81us/step - loss: 1.6833 - acc: 0.4471 - val_loss: 1.5847 - val_acc: 0.4650\n",
      "Epoch 13/75\n",
      "5997/5997 [==============================] - 0s 81us/step - loss: 1.6709 - acc: 0.4519 - val_loss: 1.5781 - val_acc: 0.4800\n",
      "Epoch 14/75\n",
      "5997/5997 [==============================] - 0s 81us/step - loss: 1.6899 - acc: 0.4501 - val_loss: 1.5972 - val_acc: 0.4670\n",
      "Epoch 15/75\n",
      "5997/5997 [==============================] - 0s 79us/step - loss: 1.6714 - acc: 0.4607 - val_loss: 1.5950 - val_acc: 0.4670\n",
      "Epoch 16/75\n",
      "5997/5997 [==============================] - 0s 78us/step - loss: 1.6645 - acc: 0.4611 - val_loss: 1.5981 - val_acc: 0.4580\n",
      "Epoch 17/75\n",
      "5997/5997 [==============================] - 0s 79us/step - loss: 1.6622 - acc: 0.4574 - val_loss: 1.5970 - val_acc: 0.4610\n",
      "Epoch 18/75\n",
      "5997/5997 [==============================] - 0s 80us/step - loss: 1.6563 - acc: 0.4636 - val_loss: 1.6010 - val_acc: 0.4660\n",
      "Epoch 19/75\n",
      "5997/5997 [==============================] - 0s 80us/step - loss: 1.6496 - acc: 0.4644 - val_loss: 1.5866 - val_acc: 0.4970\n",
      "Epoch 20/75\n",
      "5997/5997 [==============================] - 0s 79us/step - loss: 1.6548 - acc: 0.4692 - val_loss: 1.6090 - val_acc: 0.4650\n",
      "Epoch 21/75\n",
      "5997/5997 [==============================] - 0s 79us/step - loss: 1.6466 - acc: 0.4717 - val_loss: 1.5815 - val_acc: 0.4790\n",
      "Epoch 22/75\n",
      "5997/5997 [==============================] - 0s 79us/step - loss: 1.6365 - acc: 0.4819 - val_loss: 1.5707 - val_acc: 0.4780\n",
      "Epoch 23/75\n",
      "5997/5997 [==============================] - 0s 80us/step - loss: 1.6439 - acc: 0.4744 - val_loss: 1.5682 - val_acc: 0.4730\n",
      "Epoch 24/75\n",
      "5997/5997 [==============================] - 0s 79us/step - loss: 1.6340 - acc: 0.4724 - val_loss: 1.5593 - val_acc: 0.4860\n",
      "Epoch 25/75\n",
      "5997/5997 [==============================] - 0s 79us/step - loss: 1.6376 - acc: 0.4817 - val_loss: 1.5751 - val_acc: 0.4750\n",
      "Epoch 26/75\n",
      "5997/5997 [==============================] - 0s 79us/step - loss: 1.6362 - acc: 0.4772 - val_loss: 1.5679 - val_acc: 0.4790\n",
      "Epoch 27/75\n",
      "5997/5997 [==============================] - 0s 81us/step - loss: 1.6281 - acc: 0.4777 - val_loss: 1.5768 - val_acc: 0.4810\n",
      "Epoch 28/75\n",
      "5997/5997 [==============================] - 0s 80us/step - loss: 1.6249 - acc: 0.4822 - val_loss: 1.5667 - val_acc: 0.4760\n",
      "Epoch 29/75\n",
      "5997/5997 [==============================] - 0s 80us/step - loss: 1.6188 - acc: 0.4874 - val_loss: 1.5771 - val_acc: 0.4670\n",
      "Epoch 30/75\n",
      "5997/5997 [==============================] - 0s 80us/step - loss: 1.6136 - acc: 0.4937 - val_loss: 1.5511 - val_acc: 0.4780\n",
      "Epoch 31/75\n",
      "5997/5997 [==============================] - 0s 82us/step - loss: 1.6119 - acc: 0.4876 - val_loss: 1.5791 - val_acc: 0.4930\n",
      "Epoch 32/75\n",
      "5997/5997 [==============================] - 0s 80us/step - loss: 1.6010 - acc: 0.4982 - val_loss: 1.5539 - val_acc: 0.4960\n",
      "Epoch 33/75\n",
      "5997/5997 [==============================] - 0s 81us/step - loss: 1.6075 - acc: 0.4871 - val_loss: 1.5680 - val_acc: 0.4800\n",
      "Epoch 34/75\n",
      "5997/5997 [==============================] - 0s 79us/step - loss: 1.5890 - acc: 0.5059 - val_loss: 1.5754 - val_acc: 0.4860\n",
      "Epoch 35/75\n",
      "5997/5997 [==============================] - 0s 81us/step - loss: 1.5914 - acc: 0.4956 - val_loss: 1.5671 - val_acc: 0.4770\n",
      "Epoch 36/75\n",
      "5997/5997 [==============================] - 0s 80us/step - loss: 1.5927 - acc: 0.5046 - val_loss: 1.5678 - val_acc: 0.4810\n",
      "Epoch 37/75\n",
      "5997/5997 [==============================] - 0s 82us/step - loss: 1.5857 - acc: 0.5049 - val_loss: 1.5850 - val_acc: 0.4850\n",
      "Epoch 38/75\n",
      "5997/5997 [==============================] - 0s 83us/step - loss: 1.5950 - acc: 0.5013 - val_loss: 1.5570 - val_acc: 0.4880\n",
      "Epoch 39/75\n",
      "5997/5997 [==============================] - 0s 82us/step - loss: 1.5915 - acc: 0.4977 - val_loss: 1.5736 - val_acc: 0.4860\n",
      "Epoch 40/75\n",
      "5997/5997 [==============================] - 1s 89us/step - loss: 1.5949 - acc: 0.4989 - val_loss: 1.5602 - val_acc: 0.4910\n",
      "Epoch 41/75\n",
      "5997/5997 [==============================] - 1s 88us/step - loss: 1.5764 - acc: 0.5044 - val_loss: 1.5702 - val_acc: 0.4710\n",
      "Epoch 42/75\n",
      "5997/5997 [==============================] - 1s 90us/step - loss: 1.5926 - acc: 0.5001 - val_loss: 1.5867 - val_acc: 0.4730\n",
      "Epoch 43/75\n",
      "5997/5997 [==============================] - 1s 91us/step - loss: 1.5813 - acc: 0.4986 - val_loss: 1.5572 - val_acc: 0.5000\n",
      "Epoch 44/75\n",
      "5997/5997 [==============================] - 1s 90us/step - loss: 1.5871 - acc: 0.4944 - val_loss: 1.5617 - val_acc: 0.4990\n",
      "Epoch 45/75\n",
      "5997/5997 [==============================] - 1s 88us/step - loss: 1.5737 - acc: 0.5094 - val_loss: 1.5620 - val_acc: 0.4960\n",
      "Epoch 46/75\n",
      "5997/5997 [==============================] - 0s 83us/step - loss: 1.5813 - acc: 0.5063 - val_loss: 1.5521 - val_acc: 0.4870\n",
      "Epoch 47/75\n",
      "5997/5997 [==============================] - 0s 79us/step - loss: 1.5803 - acc: 0.5036 - val_loss: 1.5627 - val_acc: 0.4960\n",
      "Epoch 48/75\n",
      "5997/5997 [==============================] - 0s 79us/step - loss: 1.5796 - acc: 0.5133 - val_loss: 1.5682 - val_acc: 0.4840\n",
      "Epoch 49/75\n",
      "5997/5997 [==============================] - 1s 92us/step - loss: 1.5730 - acc: 0.5124 - val_loss: 1.5498 - val_acc: 0.4980\n",
      "Epoch 50/75\n",
      "5997/5997 [==============================] - 1s 87us/step - loss: 1.5699 - acc: 0.5089 - val_loss: 1.5818 - val_acc: 0.4850\n",
      "Epoch 51/75\n",
      "5997/5997 [==============================] - 1s 85us/step - loss: 1.5697 - acc: 0.5103 - val_loss: 1.5560 - val_acc: 0.4990\n",
      "Epoch 52/75\n",
      "5997/5997 [==============================] - 0s 79us/step - loss: 1.5667 - acc: 0.5129 - val_loss: 1.5504 - val_acc: 0.5010\n",
      "Epoch 53/75\n",
      "5997/5997 [==============================] - 1s 85us/step - loss: 1.5592 - acc: 0.5229 - val_loss: 1.5643 - val_acc: 0.4890\n",
      "Epoch 54/75\n",
      "5997/5997 [==============================] - 1s 91us/step - loss: 1.5551 - acc: 0.5216 - val_loss: 1.5694 - val_acc: 0.4980\n",
      "Epoch 55/75\n",
      "5997/5997 [==============================] - 1s 94us/step - loss: 1.5571 - acc: 0.5213 - val_loss: 1.5440 - val_acc: 0.5080\n",
      "Epoch 56/75\n",
      "5997/5997 [==============================] - 1s 94us/step - loss: 1.5611 - acc: 0.5178 - val_loss: 1.5802 - val_acc: 0.4950\n",
      "Epoch 57/75\n",
      "5997/5997 [==============================] - 1s 95us/step - loss: 1.5526 - acc: 0.5289 - val_loss: 1.5500 - val_acc: 0.5000\n",
      "Epoch 58/75\n",
      "5997/5997 [==============================] - 1s 95us/step - loss: 1.5628 - acc: 0.5119 - val_loss: 1.5623 - val_acc: 0.4880\n",
      "Epoch 59/75\n",
      "5997/5997 [==============================] - 1s 91us/step - loss: 1.5477 - acc: 0.5314 - val_loss: 1.5708 - val_acc: 0.4880\n",
      "Epoch 60/75\n",
      "5997/5997 [==============================] - 1s 90us/step - loss: 1.5488 - acc: 0.5178 - val_loss: 1.5618 - val_acc: 0.5100\n"
     ]
    },
    {
     "name": "stdout",
     "output_type": "stream",
     "text": [
      "Epoch 61/75\n",
      "5997/5997 [==============================] - 1s 89us/step - loss: 1.5519 - acc: 0.5274 - val_loss: 1.5498 - val_acc: 0.5100\n",
      "Epoch 62/75\n",
      "5997/5997 [==============================] - 1s 89us/step - loss: 1.5564 - acc: 0.5213 - val_loss: 1.5658 - val_acc: 0.5100\n",
      "Epoch 63/75\n",
      "5997/5997 [==============================] - 0s 80us/step - loss: 1.5430 - acc: 0.5228 - val_loss: 1.5504 - val_acc: 0.4960\n",
      "Epoch 64/75\n",
      "5997/5997 [==============================] - 0s 82us/step - loss: 1.5563 - acc: 0.5244 - val_loss: 1.5797 - val_acc: 0.4950\n",
      "Epoch 65/75\n",
      "5997/5997 [==============================] - 0s 81us/step - loss: 1.5527 - acc: 0.5214 - val_loss: 1.5577 - val_acc: 0.5050\n",
      "Epoch 66/75\n",
      "5997/5997 [==============================] - 1s 91us/step - loss: 1.5330 - acc: 0.5339 - val_loss: 1.5733 - val_acc: 0.4980\n",
      "Epoch 67/75\n",
      "5997/5997 [==============================] - 1s 95us/step - loss: 1.5358 - acc: 0.5313 - val_loss: 1.5481 - val_acc: 0.5160\n",
      "Epoch 68/75\n",
      "5997/5997 [==============================] - 1s 96us/step - loss: 1.5395 - acc: 0.5274 - val_loss: 1.5602 - val_acc: 0.5030\n",
      "Epoch 69/75\n",
      "5997/5997 [==============================] - 1s 90us/step - loss: 1.5479 - acc: 0.5236 - val_loss: 1.5642 - val_acc: 0.4970\n",
      "Epoch 70/75\n",
      "5997/5997 [==============================] - 1s 91us/step - loss: 1.5446 - acc: 0.5259 - val_loss: 1.5824 - val_acc: 0.4950\n",
      "Epoch 71/75\n",
      "5997/5997 [==============================] - 1s 95us/step - loss: 1.5399 - acc: 0.5298 - val_loss: 1.5515 - val_acc: 0.5050\n",
      "Epoch 72/75\n",
      "5997/5997 [==============================] - 1s 97us/step - loss: 1.5409 - acc: 0.5243 - val_loss: 1.5701 - val_acc: 0.5060\n",
      "Epoch 73/75\n",
      "5997/5997 [==============================] - 1s 89us/step - loss: 1.5393 - acc: 0.5323 - val_loss: 1.5750 - val_acc: 0.5070\n",
      "Epoch 74/75\n",
      "5997/5997 [==============================] - 1s 87us/step - loss: 1.5391 - acc: 0.5319 - val_loss: 1.5530 - val_acc: 0.5020\n",
      "Epoch 75/75\n",
      "5997/5997 [==============================] - 1s 94us/step - loss: 1.5465 - acc: 0.5291 - val_loss: 1.5714 - val_acc: 0.5130\n"
     ]
    },
    {
     "data": {
      "text/plain": [
       "<keras.callbacks.History at 0x159c10b00>"
      ]
     },
     "execution_count": 346,
     "metadata": {},
     "output_type": "execute_result"
    }
   ],
   "source": [
    "lecun_model2 = Sequential()\n",
    "\n",
    "# Add the first hidden layer\n",
    "lecun_model2.add(layers.Dense(256, kernel_initializer='lecun_normal',activation='relu', input_shape=(29,)))\n",
    "lecun_model2.add(layers.Dropout(0.4))\n",
    "\n",
    "# Add another hidden layer\n",
    "lecun_model2.add(layers.Dense(128,kernel_regularizer=regularizers.l2(0.005), activation='relu'))\n",
    "lecun_model2.add(layers.Dropout(0.4))\n",
    "\n",
    "lecun_model2.add(layers.Dense(128,kernel_regularizer=regularizers.l2(0.005),activation='relu'))\n",
    "lecun_model2.add(layers.Dropout(0.4))\n",
    "# Add an output layer\n",
    "lecun_model2.add(layers.Dense(8, activation='softmax'))\n",
    "\n",
    "# Compile the model\n",
    "lecun_model2.compile(optimizer='nadam', \n",
    "                      loss='sparse_categorical_crossentropy', \n",
    "                      metrics=['accuracy'])\n",
    "\n",
    "# Train the model\n",
    "lecun_model2.fit(X_train,  y_train_lab, \n",
    "            epochs=75, validation_data=(X_val, y_val_lab))"
   ]
  },
  {
   "cell_type": "code",
   "execution_count": 348,
   "metadata": {},
   "outputs": [
    {
     "name": "stdout",
     "output_type": "stream",
     "text": [
      "5997/5997 [==============================] - 0s 43us/step\n",
      "Training Loss: 1.34 \n",
      "Training Accuracy: 0.613\n",
      "----------\n",
      "1000/1000 [==============================] - 0s 39us/step\n",
      "Test Loss: 1.62 \n",
      "Test Accuracy: 0.502\n"
     ]
    }
   ],
   "source": [
    "results_train = lecun_model2.evaluate(X_train, y_train_lab)\n",
    "print(f'Training Loss: {results_train[0]:.3} \\nTraining Accuracy: {results_train[1]:.3}')\n",
    "\n",
    "print('----------')\n",
    "\n",
    "results_test = lecun_model2.evaluate(X_test, y_test_lab)\n",
    "print(f'Test Loss: {results_test[0]:.3} \\nTest Accuracy: {results_test[1]:.3}') "
   ]
  },
  {
   "cell_type": "code",
   "execution_count": 349,
   "metadata": {
    "scrolled": false
   },
   "outputs": [
    {
     "name": "stdout",
     "output_type": "stream",
     "text": [
      "Train on 5997 samples, validate on 1000 samples\n",
      "Epoch 1/75\n",
      "5997/5997 [==============================] - 2s 349us/step - loss: 3.0421 - acc: 0.2623 - val_loss: 2.5431 - val_acc: 0.4160\n",
      "Epoch 2/75\n",
      "5997/5997 [==============================] - 0s 31us/step - loss: 2.4781 - acc: 0.3553 - val_loss: 2.1645 - val_acc: 0.4380\n",
      "Epoch 3/75\n",
      "5997/5997 [==============================] - 0s 33us/step - loss: 2.1803 - acc: 0.3822 - val_loss: 1.9473 - val_acc: 0.4330\n",
      "Epoch 4/75\n",
      "5997/5997 [==============================] - 0s 30us/step - loss: 1.9996 - acc: 0.4085 - val_loss: 1.8253 - val_acc: 0.4220\n",
      "Epoch 5/75\n",
      "5997/5997 [==============================] - 0s 31us/step - loss: 1.8787 - acc: 0.4137 - val_loss: 1.7463 - val_acc: 0.4410\n",
      "Epoch 6/75\n",
      "5997/5997 [==============================] - 0s 31us/step - loss: 1.8024 - acc: 0.4224 - val_loss: 1.6962 - val_acc: 0.4390\n",
      "Epoch 7/75\n",
      "5997/5997 [==============================] - 0s 30us/step - loss: 1.7503 - acc: 0.4324 - val_loss: 1.6428 - val_acc: 0.4600\n",
      "Epoch 8/75\n",
      "5997/5997 [==============================] - 0s 30us/step - loss: 1.7223 - acc: 0.4319 - val_loss: 1.6163 - val_acc: 0.4630\n",
      "Epoch 9/75\n",
      "5997/5997 [==============================] - 0s 31us/step - loss: 1.6934 - acc: 0.4442 - val_loss: 1.6033 - val_acc: 0.4580\n",
      "Epoch 10/75\n",
      "5997/5997 [==============================] - 0s 31us/step - loss: 1.6731 - acc: 0.4459 - val_loss: 1.5938 - val_acc: 0.4540\n",
      "Epoch 11/75\n",
      "5997/5997 [==============================] - 0s 30us/step - loss: 1.6524 - acc: 0.4507 - val_loss: 1.5708 - val_acc: 0.4570\n",
      "Epoch 12/75\n",
      "5997/5997 [==============================] - 0s 30us/step - loss: 1.6426 - acc: 0.4611 - val_loss: 1.5592 - val_acc: 0.4620\n",
      "Epoch 13/75\n",
      "5997/5997 [==============================] - 0s 30us/step - loss: 1.6260 - acc: 0.4567 - val_loss: 1.5853 - val_acc: 0.4640\n",
      "Epoch 14/75\n",
      "5997/5997 [==============================] - 0s 31us/step - loss: 1.6201 - acc: 0.4626 - val_loss: 1.5462 - val_acc: 0.4670\n",
      "Epoch 15/75\n",
      "5997/5997 [==============================] - 0s 29us/step - loss: 1.6101 - acc: 0.4641 - val_loss: 1.5372 - val_acc: 0.4930\n",
      "Epoch 16/75\n",
      "5997/5997 [==============================] - 0s 31us/step - loss: 1.6026 - acc: 0.4724 - val_loss: 1.5443 - val_acc: 0.4720\n",
      "Epoch 17/75\n",
      "5997/5997 [==============================] - 0s 30us/step - loss: 1.5942 - acc: 0.4767 - val_loss: 1.5289 - val_acc: 0.4780\n",
      "Epoch 18/75\n",
      "5997/5997 [==============================] - 0s 30us/step - loss: 1.5846 - acc: 0.4802 - val_loss: 1.5423 - val_acc: 0.4700\n",
      "Epoch 19/75\n",
      "5997/5997 [==============================] - 0s 31us/step - loss: 1.5774 - acc: 0.4876 - val_loss: 1.5329 - val_acc: 0.4890\n",
      "Epoch 20/75\n",
      "5997/5997 [==============================] - 0s 29us/step - loss: 1.5817 - acc: 0.4867 - val_loss: 1.5430 - val_acc: 0.4640\n",
      "Epoch 21/75\n",
      "5997/5997 [==============================] - 0s 30us/step - loss: 1.5682 - acc: 0.4849 - val_loss: 1.5256 - val_acc: 0.4880\n",
      "Epoch 22/75\n",
      "5997/5997 [==============================] - 0s 31us/step - loss: 1.5734 - acc: 0.4904 - val_loss: 1.5235 - val_acc: 0.4920\n",
      "Epoch 23/75\n",
      "5997/5997 [==============================] - 0s 31us/step - loss: 1.5600 - acc: 0.4909 - val_loss: 1.5293 - val_acc: 0.4910\n",
      "Epoch 24/75\n",
      "5997/5997 [==============================] - 0s 31us/step - loss: 1.5521 - acc: 0.4967 - val_loss: 1.5262 - val_acc: 0.4830\n",
      "Epoch 25/75\n",
      "5997/5997 [==============================] - 0s 31us/step - loss: 1.5567 - acc: 0.5004 - val_loss: 1.5452 - val_acc: 0.4770\n",
      "Epoch 26/75\n",
      "5997/5997 [==============================] - 0s 32us/step - loss: 1.5426 - acc: 0.4994 - val_loss: 1.5342 - val_acc: 0.5020\n",
      "Epoch 27/75\n",
      "5997/5997 [==============================] - 0s 31us/step - loss: 1.5494 - acc: 0.4967 - val_loss: 1.5226 - val_acc: 0.4980\n",
      "Epoch 28/75\n",
      "5997/5997 [==============================] - 0s 31us/step - loss: 1.5445 - acc: 0.5033 - val_loss: 1.5551 - val_acc: 0.4820\n",
      "Epoch 29/75\n",
      "5997/5997 [==============================] - 0s 31us/step - loss: 1.5396 - acc: 0.5094 - val_loss: 1.5435 - val_acc: 0.4670\n",
      "Epoch 30/75\n",
      "5997/5997 [==============================] - 0s 31us/step - loss: 1.5250 - acc: 0.5043 - val_loss: 1.5188 - val_acc: 0.4980\n",
      "Epoch 31/75\n",
      "5997/5997 [==============================] - 0s 31us/step - loss: 1.5250 - acc: 0.5111 - val_loss: 1.5239 - val_acc: 0.4810\n",
      "Epoch 32/75\n",
      "5997/5997 [==============================] - 0s 30us/step - loss: 1.5288 - acc: 0.5101 - val_loss: 1.5260 - val_acc: 0.4950\n",
      "Epoch 33/75\n",
      "5997/5997 [==============================] - 0s 31us/step - loss: 1.5272 - acc: 0.5173 - val_loss: 1.5196 - val_acc: 0.5000\n",
      "Epoch 34/75\n",
      "5997/5997 [==============================] - 0s 31us/step - loss: 1.5197 - acc: 0.5099 - val_loss: 1.5364 - val_acc: 0.4870\n",
      "Epoch 35/75\n",
      "5997/5997 [==============================] - 0s 31us/step - loss: 1.5122 - acc: 0.5163 - val_loss: 1.5321 - val_acc: 0.4900\n",
      "Epoch 36/75\n",
      "5997/5997 [==============================] - 0s 31us/step - loss: 1.5054 - acc: 0.5146 - val_loss: 1.5245 - val_acc: 0.4950\n",
      "Epoch 37/75\n",
      "5997/5997 [==============================] - 0s 32us/step - loss: 1.5114 - acc: 0.5191 - val_loss: 1.5238 - val_acc: 0.4980\n",
      "Epoch 38/75\n",
      "5997/5997 [==============================] - 0s 29us/step - loss: 1.5029 - acc: 0.5193 - val_loss: 1.5217 - val_acc: 0.4960\n",
      "Epoch 39/75\n",
      "5997/5997 [==============================] - 0s 29us/step - loss: 1.4967 - acc: 0.5244 - val_loss: 1.5130 - val_acc: 0.4990\n",
      "Epoch 40/75\n",
      "5997/5997 [==============================] - 0s 29us/step - loss: 1.5007 - acc: 0.5281 - val_loss: 1.5194 - val_acc: 0.4950\n",
      "Epoch 41/75\n",
      "5997/5997 [==============================] - 0s 30us/step - loss: 1.4869 - acc: 0.5268 - val_loss: 1.5085 - val_acc: 0.5080\n",
      "Epoch 42/75\n",
      "5997/5997 [==============================] - 0s 32us/step - loss: 1.4846 - acc: 0.5278 - val_loss: 1.5049 - val_acc: 0.5090\n",
      "Epoch 43/75\n",
      "5997/5997 [==============================] - 0s 32us/step - loss: 1.4832 - acc: 0.5301 - val_loss: 1.5200 - val_acc: 0.5060\n",
      "Epoch 44/75\n",
      "5997/5997 [==============================] - 0s 32us/step - loss: 1.4818 - acc: 0.5341 - val_loss: 1.5163 - val_acc: 0.5080\n",
      "Epoch 45/75\n",
      "5997/5997 [==============================] - 0s 32us/step - loss: 1.4899 - acc: 0.5238 - val_loss: 1.4999 - val_acc: 0.5260\n",
      "Epoch 46/75\n",
      "5997/5997 [==============================] - 0s 31us/step - loss: 1.4773 - acc: 0.5314 - val_loss: 1.5115 - val_acc: 0.5090\n",
      "Epoch 47/75\n",
      "5997/5997 [==============================] - 0s 31us/step - loss: 1.4877 - acc: 0.5263 - val_loss: 1.5043 - val_acc: 0.5130\n",
      "Epoch 48/75\n",
      "5997/5997 [==============================] - 0s 32us/step - loss: 1.4799 - acc: 0.5388 - val_loss: 1.5350 - val_acc: 0.4910\n",
      "Epoch 49/75\n",
      "5997/5997 [==============================] - 0s 30us/step - loss: 1.4769 - acc: 0.5381 - val_loss: 1.5143 - val_acc: 0.5070\n",
      "Epoch 50/75\n",
      "5997/5997 [==============================] - 0s 28us/step - loss: 1.4794 - acc: 0.5294 - val_loss: 1.5004 - val_acc: 0.5230\n",
      "Epoch 51/75\n",
      "5997/5997 [==============================] - 0s 27us/step - loss: 1.4738 - acc: 0.5349 - val_loss: 1.5094 - val_acc: 0.5080\n",
      "Epoch 52/75\n",
      "5997/5997 [==============================] - 0s 31us/step - loss: 1.4734 - acc: 0.5319 - val_loss: 1.5130 - val_acc: 0.5080\n",
      "Epoch 53/75\n",
      "5997/5997 [==============================] - 0s 33us/step - loss: 1.4489 - acc: 0.5461 - val_loss: 1.5218 - val_acc: 0.5130\n",
      "Epoch 54/75\n",
      "5997/5997 [==============================] - 0s 30us/step - loss: 1.4811 - acc: 0.5331 - val_loss: 1.5203 - val_acc: 0.5080\n",
      "Epoch 55/75\n",
      "5997/5997 [==============================] - 0s 31us/step - loss: 1.4527 - acc: 0.5514 - val_loss: 1.5154 - val_acc: 0.5060\n",
      "Epoch 56/75\n",
      "5997/5997 [==============================] - 0s 31us/step - loss: 1.4566 - acc: 0.5451 - val_loss: 1.5184 - val_acc: 0.5130\n",
      "Epoch 57/75\n",
      "5997/5997 [==============================] - 0s 31us/step - loss: 1.4624 - acc: 0.5429 - val_loss: 1.5291 - val_acc: 0.5000\n",
      "Epoch 58/75\n",
      "5997/5997 [==============================] - 0s 31us/step - loss: 1.4573 - acc: 0.5473 - val_loss: 1.5062 - val_acc: 0.5030\n",
      "Epoch 59/75\n",
      "5997/5997 [==============================] - 0s 32us/step - loss: 1.4517 - acc: 0.5483 - val_loss: 1.5019 - val_acc: 0.5140\n",
      "Epoch 60/75\n",
      "5997/5997 [==============================] - 0s 32us/step - loss: 1.4397 - acc: 0.5454 - val_loss: 1.5083 - val_acc: 0.5200\n"
     ]
    },
    {
     "name": "stdout",
     "output_type": "stream",
     "text": [
      "Epoch 61/75\n",
      "5997/5997 [==============================] - 0s 31us/step - loss: 1.4559 - acc: 0.5496 - val_loss: 1.5011 - val_acc: 0.5210\n",
      "Epoch 62/75\n",
      "5997/5997 [==============================] - 0s 31us/step - loss: 1.4475 - acc: 0.5464 - val_loss: 1.5168 - val_acc: 0.5140\n",
      "Epoch 63/75\n",
      "5997/5997 [==============================] - 0s 30us/step - loss: 1.4392 - acc: 0.5586 - val_loss: 1.5076 - val_acc: 0.5130\n",
      "Epoch 64/75\n",
      "5997/5997 [==============================] - 0s 31us/step - loss: 1.4434 - acc: 0.5561 - val_loss: 1.5328 - val_acc: 0.5130\n",
      "Epoch 65/75\n",
      "5997/5997 [==============================] - 0s 32us/step - loss: 1.4401 - acc: 0.5628 - val_loss: 1.5179 - val_acc: 0.4990\n",
      "Epoch 66/75\n",
      "5997/5997 [==============================] - 0s 31us/step - loss: 1.4347 - acc: 0.5586 - val_loss: 1.5199 - val_acc: 0.5250\n",
      "Epoch 67/75\n",
      "5997/5997 [==============================] - 0s 31us/step - loss: 1.4289 - acc: 0.5539 - val_loss: 1.5133 - val_acc: 0.5250\n",
      "Epoch 68/75\n",
      "5997/5997 [==============================] - 0s 31us/step - loss: 1.4336 - acc: 0.5524 - val_loss: 1.5181 - val_acc: 0.5220\n",
      "Epoch 69/75\n",
      "5997/5997 [==============================] - 0s 32us/step - loss: 1.4249 - acc: 0.5596 - val_loss: 1.5129 - val_acc: 0.5290\n",
      "Epoch 70/75\n",
      "5997/5997 [==============================] - 0s 31us/step - loss: 1.4285 - acc: 0.5588 - val_loss: 1.5051 - val_acc: 0.5310\n",
      "Epoch 71/75\n",
      "5997/5997 [==============================] - 0s 32us/step - loss: 1.4258 - acc: 0.5581 - val_loss: 1.5138 - val_acc: 0.5240\n",
      "Epoch 72/75\n",
      "5997/5997 [==============================] - 0s 32us/step - loss: 1.4254 - acc: 0.5579 - val_loss: 1.5055 - val_acc: 0.5250\n",
      "Epoch 73/75\n",
      "5997/5997 [==============================] - 0s 29us/step - loss: 1.4255 - acc: 0.5619 - val_loss: 1.5034 - val_acc: 0.5200\n",
      "Epoch 74/75\n",
      "5997/5997 [==============================] - 0s 31us/step - loss: 1.4265 - acc: 0.5609 - val_loss: 1.4968 - val_acc: 0.5390\n",
      "Epoch 75/75\n",
      "5997/5997 [==============================] - 0s 30us/step - loss: 1.4061 - acc: 0.5680 - val_loss: 1.5163 - val_acc: 0.5250\n"
     ]
    },
    {
     "data": {
      "text/plain": [
       "<keras.callbacks.History at 0x15ad72dd8>"
      ]
     },
     "execution_count": 349,
     "metadata": {},
     "output_type": "execute_result"
    }
   ],
   "source": [
    "lecun_model = Sequential()\n",
    "\n",
    "# Add the first hidden layer\n",
    "lecun_model.add(layers.Dense(256, kernel_initializer='lecun_normal',activation='relu', input_shape=(29,)))\n",
    "lecun_model.add(layers.Dropout(0.3))\n",
    "\n",
    "# Add another hidden layer\n",
    "lecun_model.add(layers.Dense(128,kernel_initializer='lecun_normal',kernel_regularizer=regularizers.l2(0.005), activation='relu'))\n",
    "lecun_model.add(layers.Dropout(0.4))\n",
    "\n",
    "lecun_model.add(layers.Dense(128,kernel_initializer='lecun_normal',kernel_regularizer=regularizers.l2(0.005), activation='relu'))\n",
    "lecun_model.add(layers.Dropout(0.4))\n",
    "\n",
    "# Add an output layer\n",
    "lecun_model.add(layers.Dense(8, activation='softmax'))\n",
    "\n",
    "# Compile the model\n",
    "lecun_model.compile(optimizer='nadam', \n",
    "                      loss='sparse_categorical_crossentropy', \n",
    "                      metrics=['accuracy'])\n",
    "\n",
    "# Train the model\n",
    "lecun_model.fit(X_train,  y_train_lab, epochs=75,\n",
    "                    batch_size=128, validation_data=(X_val, y_val_lab))"
   ]
  },
  {
   "cell_type": "code",
   "execution_count": 350,
   "metadata": {},
   "outputs": [
    {
     "name": "stdout",
     "output_type": "stream",
     "text": [
      "5997/5997 [==============================] - 0s 43us/step\n",
      "Training Loss: 1.21 \n",
      "Training Accuracy: 0.65\n",
      "----------\n",
      "1000/1000 [==============================] - 0s 38us/step\n",
      "Test Loss: 1.58 \n",
      "Test Accuracy: 0.521\n"
     ]
    }
   ],
   "source": [
    "results_train = lecun_model.evaluate(X_train, y_train_lab)\n",
    "print(f'Training Loss: {results_train[0]:.3} \\nTraining Accuracy: {results_train[1]:.3}')\n",
    "\n",
    "print('----------')\n",
    "\n",
    "results_test = lecun_model.evaluate(X_test, y_test_lab)\n",
    "print(f'Test Loss: {results_test[0]:.3} \\nTest Accuracy: {results_test[1]:.3}') "
   ]
  },
  {
   "cell_type": "code",
   "execution_count": 358,
   "metadata": {},
   "outputs": [
    {
     "name": "stdout",
     "output_type": "stream",
     "text": [
      "Train on 5997 samples, validate on 1000 samples\n",
      "Epoch 1/75\n",
      "5997/5997 [==============================] - 2s 376us/step - loss: 3.0742 - acc: 0.2395 - val_loss: 2.6003 - val_acc: 0.3950\n",
      "Epoch 2/75\n",
      "5997/5997 [==============================] - 0s 32us/step - loss: 2.5256 - acc: 0.3322 - val_loss: 2.2136 - val_acc: 0.4070\n",
      "Epoch 3/75\n",
      "5997/5997 [==============================] - 0s 32us/step - loss: 2.2225 - acc: 0.3677 - val_loss: 2.0070 - val_acc: 0.4350\n",
      "Epoch 4/75\n",
      "5997/5997 [==============================] - 0s 32us/step - loss: 2.0290 - acc: 0.3904 - val_loss: 1.8495 - val_acc: 0.4390\n",
      "Epoch 5/75\n",
      "5997/5997 [==============================] - 0s 31us/step - loss: 1.9127 - acc: 0.3937 - val_loss: 1.7676 - val_acc: 0.4400\n",
      "Epoch 6/75\n",
      "5997/5997 [==============================] - 0s 31us/step - loss: 1.8307 - acc: 0.4057 - val_loss: 1.7023 - val_acc: 0.4520\n",
      "Epoch 7/75\n",
      "5997/5997 [==============================] - 0s 32us/step - loss: 1.7901 - acc: 0.4094 - val_loss: 1.6489 - val_acc: 0.4490\n",
      "Epoch 8/75\n",
      "5997/5997 [==============================] - 0s 31us/step - loss: 1.7510 - acc: 0.4239 - val_loss: 1.6274 - val_acc: 0.4450\n",
      "Epoch 9/75\n",
      "5997/5997 [==============================] - 0s 31us/step - loss: 1.7158 - acc: 0.4332 - val_loss: 1.5985 - val_acc: 0.4520\n",
      "Epoch 10/75\n",
      "5997/5997 [==============================] - 0s 31us/step - loss: 1.7065 - acc: 0.4309 - val_loss: 1.5865 - val_acc: 0.4660\n",
      "Epoch 11/75\n",
      "5997/5997 [==============================] - 0s 31us/step - loss: 1.6817 - acc: 0.4342 - val_loss: 1.5972 - val_acc: 0.4650\n",
      "Epoch 12/75\n",
      "5997/5997 [==============================] - 0s 31us/step - loss: 1.6722 - acc: 0.4389 - val_loss: 1.5671 - val_acc: 0.4580\n",
      "Epoch 13/75\n",
      "5997/5997 [==============================] - 0s 31us/step - loss: 1.6632 - acc: 0.4496 - val_loss: 1.5663 - val_acc: 0.4670\n",
      "Epoch 14/75\n",
      "5997/5997 [==============================] - 0s 31us/step - loss: 1.6473 - acc: 0.4542 - val_loss: 1.5705 - val_acc: 0.4650\n",
      "Epoch 15/75\n",
      "5997/5997 [==============================] - 0s 31us/step - loss: 1.6422 - acc: 0.4552 - val_loss: 1.5832 - val_acc: 0.4630\n",
      "Epoch 16/75\n",
      "5997/5997 [==============================] - 0s 31us/step - loss: 1.6291 - acc: 0.4571 - val_loss: 1.5501 - val_acc: 0.4690\n",
      "Epoch 17/75\n",
      "5997/5997 [==============================] - 0s 32us/step - loss: 1.6312 - acc: 0.4606 - val_loss: 1.5517 - val_acc: 0.4730\n",
      "Epoch 18/75\n",
      "5997/5997 [==============================] - 0s 30us/step - loss: 1.6117 - acc: 0.4632 - val_loss: 1.5582 - val_acc: 0.4570\n",
      "Epoch 19/75\n",
      "5997/5997 [==============================] - 0s 31us/step - loss: 1.6095 - acc: 0.4666 - val_loss: 1.5552 - val_acc: 0.4570\n",
      "Epoch 20/75\n",
      "5997/5997 [==============================] - 0s 31us/step - loss: 1.6049 - acc: 0.4702 - val_loss: 1.5521 - val_acc: 0.4750\n",
      "Epoch 21/75\n",
      "5997/5997 [==============================] - 0s 31us/step - loss: 1.6067 - acc: 0.4721 - val_loss: 1.5561 - val_acc: 0.4670\n",
      "Epoch 22/75\n",
      "5997/5997 [==============================] - 0s 32us/step - loss: 1.6079 - acc: 0.4712 - val_loss: 1.5309 - val_acc: 0.4740\n",
      "Epoch 23/75\n",
      "5997/5997 [==============================] - 0s 32us/step - loss: 1.5987 - acc: 0.4742 - val_loss: 1.5420 - val_acc: 0.4840\n",
      "Epoch 24/75\n",
      "5997/5997 [==============================] - 0s 31us/step - loss: 1.5948 - acc: 0.4694 - val_loss: 1.5443 - val_acc: 0.4740\n",
      "Epoch 25/75\n",
      "5997/5997 [==============================] - 0s 32us/step - loss: 1.5917 - acc: 0.4784 - val_loss: 1.5415 - val_acc: 0.4780\n",
      "Epoch 26/75\n",
      "5997/5997 [==============================] - 0s 32us/step - loss: 1.5936 - acc: 0.4764 - val_loss: 1.5395 - val_acc: 0.4820\n",
      "Epoch 27/75\n",
      "5997/5997 [==============================] - 0s 32us/step - loss: 1.5730 - acc: 0.4897 - val_loss: 1.5346 - val_acc: 0.4760\n",
      "Epoch 28/75\n",
      "5997/5997 [==============================] - 0s 32us/step - loss: 1.5777 - acc: 0.4769 - val_loss: 1.5342 - val_acc: 0.4740\n",
      "Epoch 29/75\n",
      "5997/5997 [==============================] - 0s 31us/step - loss: 1.5713 - acc: 0.4987 - val_loss: 1.5312 - val_acc: 0.4880\n",
      "Epoch 30/75\n",
      "5997/5997 [==============================] - 0s 32us/step - loss: 1.5712 - acc: 0.4869 - val_loss: 1.5258 - val_acc: 0.4880\n",
      "Epoch 31/75\n",
      "5997/5997 [==============================] - 0s 32us/step - loss: 1.5703 - acc: 0.4892 - val_loss: 1.5404 - val_acc: 0.4790\n",
      "Epoch 32/75\n",
      "5997/5997 [==============================] - 0s 31us/step - loss: 1.5473 - acc: 0.4901 - val_loss: 1.5434 - val_acc: 0.4790\n",
      "Epoch 33/75\n",
      "5997/5997 [==============================] - 0s 31us/step - loss: 1.5539 - acc: 0.4987 - val_loss: 1.5310 - val_acc: 0.4900\n",
      "Epoch 34/75\n",
      "5997/5997 [==============================] - 0s 31us/step - loss: 1.5495 - acc: 0.4997 - val_loss: 1.5227 - val_acc: 0.4850\n",
      "Epoch 35/75\n",
      "5997/5997 [==============================] - 0s 32us/step - loss: 1.5576 - acc: 0.4914 - val_loss: 1.5131 - val_acc: 0.4970\n",
      "Epoch 36/75\n",
      "5997/5997 [==============================] - 0s 31us/step - loss: 1.5388 - acc: 0.4966 - val_loss: 1.5180 - val_acc: 0.4920\n",
      "Epoch 37/75\n",
      "5997/5997 [==============================] - 0s 31us/step - loss: 1.5421 - acc: 0.4964 - val_loss: 1.5183 - val_acc: 0.4850\n",
      "Epoch 38/75\n",
      "5997/5997 [==============================] - 0s 30us/step - loss: 1.5450 - acc: 0.4964 - val_loss: 1.5164 - val_acc: 0.4930\n",
      "Epoch 39/75\n",
      "5997/5997 [==============================] - 0s 29us/step - loss: 1.5426 - acc: 0.5031 - val_loss: 1.5082 - val_acc: 0.4850\n",
      "Epoch 40/75\n",
      "5997/5997 [==============================] - 0s 28us/step - loss: 1.5407 - acc: 0.4986 - val_loss: 1.5315 - val_acc: 0.4860\n",
      "Epoch 41/75\n",
      "5997/5997 [==============================] - 0s 28us/step - loss: 1.5295 - acc: 0.5089 - val_loss: 1.5113 - val_acc: 0.5090\n",
      "Epoch 42/75\n",
      "5997/5997 [==============================] - 0s 29us/step - loss: 1.5316 - acc: 0.5011 - val_loss: 1.5155 - val_acc: 0.4990\n",
      "Epoch 43/75\n",
      "5997/5997 [==============================] - 0s 30us/step - loss: 1.5226 - acc: 0.5054 - val_loss: 1.5108 - val_acc: 0.4930\n",
      "Epoch 44/75\n",
      "5997/5997 [==============================] - 0s 32us/step - loss: 1.5441 - acc: 0.5001 - val_loss: 1.5273 - val_acc: 0.4930\n",
      "Epoch 45/75\n",
      "5997/5997 [==============================] - 0s 32us/step - loss: 1.5217 - acc: 0.5139 - val_loss: 1.5189 - val_acc: 0.4910\n",
      "Epoch 46/75\n",
      "5997/5997 [==============================] - 0s 32us/step - loss: 1.5201 - acc: 0.5178 - val_loss: 1.5170 - val_acc: 0.4980\n",
      "Epoch 47/75\n",
      "5997/5997 [==============================] - 0s 32us/step - loss: 1.5354 - acc: 0.4996 - val_loss: 1.5081 - val_acc: 0.4970\n",
      "Epoch 48/75\n",
      "5997/5997 [==============================] - 0s 31us/step - loss: 1.5205 - acc: 0.5093 - val_loss: 1.5089 - val_acc: 0.4990\n",
      "Epoch 49/75\n",
      "5997/5997 [==============================] - 0s 32us/step - loss: 1.5236 - acc: 0.5146 - val_loss: 1.5297 - val_acc: 0.4940\n",
      "Epoch 50/75\n",
      "5997/5997 [==============================] - 0s 32us/step - loss: 1.5204 - acc: 0.5136 - val_loss: 1.5099 - val_acc: 0.5040\n",
      "Epoch 51/75\n",
      "5997/5997 [==============================] - 0s 31us/step - loss: 1.5289 - acc: 0.5066 - val_loss: 1.5208 - val_acc: 0.5030\n",
      "Epoch 52/75\n",
      "5997/5997 [==============================] - 0s 33us/step - loss: 1.5070 - acc: 0.5209 - val_loss: 1.5193 - val_acc: 0.5060\n",
      "Epoch 53/75\n",
      "5997/5997 [==============================] - 0s 33us/step - loss: 1.5104 - acc: 0.5179 - val_loss: 1.5257 - val_acc: 0.4890\n",
      "Epoch 54/75\n",
      "5997/5997 [==============================] - 0s 32us/step - loss: 1.5137 - acc: 0.5204 - val_loss: 1.5184 - val_acc: 0.5000\n",
      "Epoch 55/75\n",
      "5997/5997 [==============================] - 0s 34us/step - loss: 1.4992 - acc: 0.5188 - val_loss: 1.5160 - val_acc: 0.5030\n",
      "Epoch 56/75\n",
      "5997/5997 [==============================] - 0s 32us/step - loss: 1.4934 - acc: 0.5274 - val_loss: 1.5065 - val_acc: 0.5100\n",
      "Epoch 57/75\n",
      "5997/5997 [==============================] - 0s 31us/step - loss: 1.4984 - acc: 0.5213 - val_loss: 1.4966 - val_acc: 0.5160\n",
      "Epoch 58/75\n",
      "5997/5997 [==============================] - 0s 32us/step - loss: 1.4925 - acc: 0.5304 - val_loss: 1.4946 - val_acc: 0.4910\n",
      "Epoch 59/75\n",
      "5997/5997 [==============================] - 0s 32us/step - loss: 1.5002 - acc: 0.5253 - val_loss: 1.5045 - val_acc: 0.5040\n",
      "Epoch 60/75\n",
      "5997/5997 [==============================] - 0s 34us/step - loss: 1.5008 - acc: 0.5341 - val_loss: 1.5099 - val_acc: 0.5060\n"
     ]
    },
    {
     "name": "stdout",
     "output_type": "stream",
     "text": [
      "Epoch 61/75\n",
      "5997/5997 [==============================] - 0s 34us/step - loss: 1.4930 - acc: 0.5306 - val_loss: 1.4969 - val_acc: 0.4990\n",
      "Epoch 62/75\n",
      "5997/5997 [==============================] - 0s 31us/step - loss: 1.4907 - acc: 0.5309 - val_loss: 1.5001 - val_acc: 0.5070\n",
      "Epoch 63/75\n",
      "5997/5997 [==============================] - 0s 33us/step - loss: 1.4959 - acc: 0.5259 - val_loss: 1.4930 - val_acc: 0.5180\n",
      "Epoch 64/75\n",
      "5997/5997 [==============================] - 0s 33us/step - loss: 1.4955 - acc: 0.5189 - val_loss: 1.5038 - val_acc: 0.5050\n",
      "Epoch 65/75\n",
      "5997/5997 [==============================] - 0s 32us/step - loss: 1.4838 - acc: 0.5338 - val_loss: 1.5161 - val_acc: 0.5080\n",
      "Epoch 66/75\n",
      "5997/5997 [==============================] - 0s 29us/step - loss: 1.4872 - acc: 0.5311 - val_loss: 1.5237 - val_acc: 0.5050\n",
      "Epoch 67/75\n",
      "5997/5997 [==============================] - 0s 31us/step - loss: 1.4760 - acc: 0.5314 - val_loss: 1.5187 - val_acc: 0.4970\n",
      "Epoch 68/75\n",
      "5997/5997 [==============================] - 0s 33us/step - loss: 1.4824 - acc: 0.5361 - val_loss: 1.5130 - val_acc: 0.5160\n",
      "Epoch 69/75\n",
      "5997/5997 [==============================] - 0s 33us/step - loss: 1.4650 - acc: 0.5394 - val_loss: 1.5033 - val_acc: 0.4980\n",
      "Epoch 70/75\n",
      "5997/5997 [==============================] - 0s 33us/step - loss: 1.4807 - acc: 0.5319 - val_loss: 1.4988 - val_acc: 0.5160\n",
      "Epoch 71/75\n",
      "5997/5997 [==============================] - 0s 34us/step - loss: 1.4739 - acc: 0.5359 - val_loss: 1.5025 - val_acc: 0.5090\n",
      "Epoch 72/75\n",
      "5997/5997 [==============================] - 0s 33us/step - loss: 1.4709 - acc: 0.5431 - val_loss: 1.5215 - val_acc: 0.5070\n",
      "Epoch 73/75\n",
      "5997/5997 [==============================] - 0s 33us/step - loss: 1.4619 - acc: 0.5503 - val_loss: 1.5037 - val_acc: 0.5160\n",
      "Epoch 74/75\n",
      "5997/5997 [==============================] - 0s 33us/step - loss: 1.4672 - acc: 0.5453 - val_loss: 1.5109 - val_acc: 0.5010\n",
      "Epoch 75/75\n",
      "5997/5997 [==============================] - 0s 33us/step - loss: 1.4702 - acc: 0.5376 - val_loss: 1.5194 - val_acc: 0.4990\n"
     ]
    },
    {
     "data": {
      "text/plain": [
       "<keras.callbacks.History at 0x15ce12d30>"
      ]
     },
     "execution_count": 358,
     "metadata": {},
     "output_type": "execute_result"
    }
   ],
   "source": [
    "lecun_model3 = Sequential()\n",
    "\n",
    "# Add the first hidden layer\n",
    "lecun_model3.add(layers.Dense(256, kernel_initializer='lecun_normal',activation='relu', input_shape=(29,)))\n",
    "lecun_model3.add(layers.Dropout(0.4))\n",
    "\n",
    "# Add another hidden layer\n",
    "lecun_model3.add(layers.Dense(128,kernel_initializer='lecun_normal',kernel_regularizer=regularizers.l2(0.005), activation='relu'))\n",
    "lecun_model3.add(layers.Dropout(0.4))\n",
    "\n",
    "lecun_model3.add(layers.Dense(128,kernel_initializer='lecun_normal',kernel_regularizer=regularizers.l2(0.005), activation='relu'))\n",
    "lecun_model3.add(layers.Dropout(0.4))\n",
    "\n",
    "# Add an output layer\n",
    "lecun_model3.add(layers.Dense(8, activation='softmax'))\n",
    "\n",
    "# Compile the model\n",
    "lecun_model3.compile(optimizer='nadam', \n",
    "                      loss='sparse_categorical_crossentropy', \n",
    "                      metrics=['accuracy'])\n",
    "\n",
    "# Train the model\n",
    "lecun_model3.fit(X_train,  y_train_lab, epochs=75,\n",
    "                    batch_size=128, validation_data=(X_val, y_val_lab))"
   ]
  },
  {
   "cell_type": "code",
   "execution_count": 359,
   "metadata": {},
   "outputs": [
    {
     "name": "stdout",
     "output_type": "stream",
     "text": [
      "5997/5997 [==============================] - 0s 42us/step\n",
      "Training Loss: 1.29 \n",
      "Training Accuracy: 0.608\n",
      "----------\n",
      "1000/1000 [==============================] - 0s 39us/step\n",
      "Test Loss: 1.57 \n",
      "Test Accuracy: 0.509\n"
     ]
    }
   ],
   "source": [
    "results_train = lecun_model3.evaluate(X_train, y_train_lab)\n",
    "print(f'Training Loss: {results_train[0]:.3} \\nTraining Accuracy: {results_train[1]:.3}')\n",
    "\n",
    "print('----------')\n",
    "\n",
    "results_test = lecun_model3.evaluate(X_test, y_test_lab)\n",
    "print(f'Test Loss: {results_test[0]:.3} \\nTest Accuracy: {results_test[1]:.3}') "
   ]
  },
  {
   "cell_type": "code",
   "execution_count": 356,
   "metadata": {},
   "outputs": [
    {
     "name": "stdout",
     "output_type": "stream",
     "text": [
      "1000/1000 [==============================] - 0s 48us/step\n"
     ]
    },
    {
     "data": {
      "text/plain": [
       "[1.5743236708641053, 0.502]"
      ]
     },
     "execution_count": 356,
     "metadata": {},
     "output_type": "execute_result"
    }
   ],
   "source": [
    "lecun_model3.evaluate(X_val, y_val_lab)"
   ]
  },
  {
   "cell_type": "code",
   "execution_count": 357,
   "metadata": {},
   "outputs": [
    {
     "name": "stdout",
     "output_type": "stream",
     "text": [
      "5997/5997 [==============================] - 0s 44us/step\n"
     ]
    },
    {
     "data": {
      "text/plain": [
       "[1.1556969517386912, 0.6731699183123577]"
      ]
     },
     "execution_count": 357,
     "metadata": {},
     "output_type": "execute_result"
    }
   ],
   "source": [
    "lecun_model3.evaluate(X_train,y_train_lab)"
   ]
  },
  {
   "cell_type": "code",
   "execution_count": null,
   "metadata": {},
   "outputs": [],
   "source": []
  }
 ],
 "metadata": {
  "kernelspec": {
   "display_name": "Python 3",
   "language": "python",
   "name": "python3"
  },
  "language_info": {
   "codemirror_mode": {
    "name": "ipython",
    "version": 3
   },
   "file_extension": ".py",
   "mimetype": "text/x-python",
   "name": "python",
   "nbconvert_exporter": "python",
   "pygments_lexer": "ipython3",
   "version": "3.6.9"
  }
 },
 "nbformat": 4,
 "nbformat_minor": 2
}
